{
 "cells": [
  {
   "cell_type": "markdown",
   "metadata": {},
   "source": [
    "It's interesting to note that in deep learning, the evolution of architecture and techniques is very rapid, but that certain aspects can remain present for years in bits of code, without really knowing if they are totally necessary. Most of the time, we take for granted that these were optimized and this should not be taken care of.\n",
    "\n",
    "One such aspect is *input normalization*, which is used as input to most convolutional neural networks (CNNs) used to process visual images. This is all the more true as we often use in the community networks that are pre-trained for images normalized to given values, like VGG or ResNET. When you ask Github's copilot, it says that \n",
    "\n",
    ">    Image normalization in convolutional neural networks (CNNs) has several beneficial effects:\n",
    ">    1- Improved convergence: Normalization helps to stabilize and speed up the learning process by ensuring that pixel values are in a similar range, thus facilitating optimization.\n",
    ">    2- Reduced sensitivity to scale variations: Normalizing images reduces the model's sensitivity to scale variations in pixel values, which can improve model robustness.\n",
    ">    3- Prevention of neuron saturation: Unnormalized pixel values can lead to neuron saturation, which slows down learning. Normalization helps prevent this problem.\n",
    ">    4- Improved performance: In general, image normalization can lead to better model performance in terms of accuracy and generalization.\n",
    "\n",
    "\n",
    "**I'm interested here in whether these networks remain effective when we change the input normalization.** Indeed, as the weights of the first convolutional layer are learned, and as convolution kernels can be multiplied by arbitrary values thanks to the bias in the convolutions, normalizing to a certain value makes no sense, and simply normalizing does. This is even more evident when that values are given with 3 digits of precision! I propose here to show quantitatively that this is the case, first for a *historical* network [LeNet](https://en.wikipedia.org/wiki/LeNet) applied to the MNIST challenge, and then for [ResNet](https://en.wikipedia.org/wiki/Residual_neural_network) applied to ImageNet.\n",
    "\n",
    "\n",
    "<!-- TEASER_END -->\n",
    "\n",
    "Let's first initialize the notebook:"
   ]
  },
  {
   "cell_type": "code",
   "execution_count": 1,
   "metadata": {
    "execution": {
     "iopub.execute_input": "2024-12-22T15:41:03.841801Z",
     "iopub.status.busy": "2024-12-22T15:41:03.841652Z",
     "iopub.status.idle": "2024-12-22T15:41:04.051837Z",
     "shell.execute_reply": "2024-12-22T15:41:04.051320Z"
    }
   },
   "outputs": [],
   "source": [
    "import numpy as np\n",
    "np.set_printoptions(precision=6, suppress=True)\n",
    "import os\n",
    "\n",
    "import matplotlib.pyplot as plt\n",
    "phi = (np.sqrt(5)+1)/2\n",
    "fig_width = 10\n",
    "figsize = (fig_width, fig_width/phi)"
   ]
  },
  {
   "cell_type": "code",
   "execution_count": 2,
   "metadata": {
    "execution": {
     "iopub.execute_input": "2024-12-22T15:41:04.053348Z",
     "iopub.status.busy": "2024-12-22T15:41:04.053191Z",
     "iopub.status.idle": "2024-12-22T15:41:05.763039Z",
     "shell.execute_reply": "2024-12-22T15:41:05.762521Z"
    }
   },
   "outputs": [
    {
     "name": "stdout",
     "output_type": "stream",
     "text": [
      "Note: you may need to restart the kernel to use updated packages.\n"
     ]
    }
   ],
   "source": [
    "%pip install -Uq -r requirements.txt"
   ]
  },
  {
   "cell_type": "code",
   "execution_count": 3,
   "metadata": {
    "execution": {
     "iopub.execute_input": "2024-12-22T15:41:05.779553Z",
     "iopub.status.busy": "2024-12-22T15:41:05.779451Z",
     "iopub.status.idle": "2024-12-22T15:41:05.889200Z",
     "shell.execute_reply": "2024-12-22T15:41:05.888648Z"
    }
   },
   "outputs": [],
   "source": [
    "%mkdir -p data"
   ]
  },
  {
   "cell_type": "markdown",
   "metadata": {},
   "source": [
    "# The MNIST challenge and the *French Touche* \n",
    "\n",
    "First, let's explore the *LeNet* network  (Lecun, Y.; Bottou, L.; Bengio, Y.; Haffner, P. (1998). \"Gradient-based learning applied to document recognition\" (PDF). Proceedings of the IEEE. 86 (11): 2278–2324. doi:10.1109/5.726791. S2CID 14542261), whose objective is to categorize images of written digits, one of the first great successes of Multilayer neural networks. For this one, we're going to use the classic implementation, as proposed in the PyTorch library example series. \n",
    "\n",
    "The cell below allows you to do everything: first load the libraries, then define the neural network, and finally define the learning and testing procedures that are applied to the database. The output accuracy value corresponds to the percentage of letters that are correctly classified.\n",
    "\n",
    "In this cell, we'll isolate the two parameters used to set the mean and standard deviation applied to the normalization function, which we'll be manipulating in the course of this book."
   ]
  },
  {
   "cell_type": "code",
   "execution_count": 4,
   "metadata": {
    "execution": {
     "iopub.execute_input": "2024-12-22T15:41:05.890909Z",
     "iopub.status.busy": "2024-12-22T15:41:05.890793Z",
     "iopub.status.idle": "2024-12-22T15:41:06.969543Z",
     "shell.execute_reply": "2024-12-22T15:41:06.969296Z"
    }
   },
   "outputs": [],
   "source": [
    "# adapted from https://raw.githubusercontent.com/pytorch/examples/refs/heads/main/mnist/main.py\n",
    "import torch\n",
    "import torch.nn as nn\n",
    "import torch.nn.functional as F\n",
    "import torch.optim as optim\n",
    "from torchvision import datasets, transforms\n",
    "from torch.optim.lr_scheduler import StepLR, ReduceLROnPlateau\n",
    "\n",
    "epochs = 15\n",
    "\n",
    "class Net(nn.Module):\n",
    "    def __init__(self):\n",
    "        super(Net, self).__init__()\n",
    "        self.conv1 = nn.Conv2d(1, 32, 3, 1)\n",
    "        self.conv2 = nn.Conv2d(32, 64, 3, 1)\n",
    "        self.dropout1 = nn.Dropout(0.25)\n",
    "        self.dropout2 = nn.Dropout(0.5)\n",
    "        self.fc1 = nn.Linear(9216, 128)\n",
    "        self.fc2 = nn.Linear(128, 10)\n",
    "\n",
    "    def forward(self, x):\n",
    "        x = self.conv1(x)\n",
    "        x = F.relu(x)\n",
    "        x = self.conv2(x)\n",
    "        x = F.relu(x)\n",
    "        x = F.max_pool2d(x, 2)\n",
    "        x = self.dropout1(x)\n",
    "        x = torch.flatten(x, 1)\n",
    "        x = self.fc1(x)\n",
    "        x = F.relu(x)\n",
    "        x = self.dropout2(x)\n",
    "        x = self.fc2(x)\n",
    "        output = F.log_softmax(x, dim=1)\n",
    "        return output\n",
    "\n",
    "\n",
    "def train(model, device, train_loader, optimizer, epoch, log_interval=100, verbose=True):\n",
    "    model.train()\n",
    "    for batch_idx, (data, target) in enumerate(train_loader):\n",
    "        data, target = data.to(device), target.to(device)\n",
    "        optimizer.zero_grad()\n",
    "        output = model(data)\n",
    "        loss = F.nll_loss(output, target)\n",
    "        loss.backward()\n",
    "        optimizer.step()\n",
    "        if verbose and batch_idx % log_interval  == 0:\n",
    "            print('Train Epoch: {} [{}/{} ({:.0f}%)]\\tLoss: {:.6f}'.format(\n",
    "                epoch, batch_idx * len(data), len(train_loader.dataset),\n",
    "                100. * batch_idx / len(train_loader), loss.item()))\n",
    "\n",
    "\n",
    "def test(model, device, test_loader, verbose=True):\n",
    "    model.eval()\n",
    "    test_loss = 0\n",
    "    correct = 0\n",
    "    with torch.no_grad():\n",
    "        for data, target in test_loader:\n",
    "            data, target = data.to(device), target.to(device)\n",
    "            output = model(data)\n",
    "            test_loss += F.nll_loss(output, target, reduction='sum').item()  # sum up batch loss\n",
    "            pred = output.argmax(dim=1, keepdim=True)  # get the index of the max log-probability\n",
    "            correct += pred.eq(target.view_as(pred)).sum().item()\n",
    "\n",
    "    test_loss /= len(test_loader.dataset)\n",
    "\n",
    "    if verbose:\n",
    "        print('\\nTest set: Average loss: {:.4f}, Accuracy: {}/{} ({:.0f}%)\\n'.format(\n",
    "        test_loss, correct, len(test_loader.dataset),\n",
    "        100. * correct / len(test_loader.dataset)))\n",
    "    return correct / len(test_loader.dataset)\n",
    "\n",
    "\n",
    "def main(mean, std, weight_init=None, bias_init=None, epochs=epochs, log_interval=100, verbose=False):\n",
    "    # Training settings\n",
    "    torch.manual_seed(1998) # FOOTIX rules !\n",
    "    train_kwargs = {'batch_size': 64}\n",
    "    test_kwargs = {'batch_size': 1000}\n",
    "    if torch.cuda.is_available():\n",
    "        device = torch.device(\"cuda\")\n",
    "        cuda_kwargs = {'num_workers': 1,\n",
    "                       'pin_memory': True,\n",
    "                       'shuffle': True}\n",
    "        train_kwargs.update(cuda_kwargs)\n",
    "        test_kwargs.update(cuda_kwargs)\n",
    "    elif torch.backends.mps.is_available():\n",
    "        device = torch.device(\"mps\")\n",
    "    else:\n",
    "        device = torch.device(\"cpu\")\n",
    "\n",
    "    if mean is None:\n",
    "        transform = transforms.ToTensor()\n",
    "    else:\n",
    "        transform=transforms.Compose([\n",
    "            transforms.ToTensor(),\n",
    "            transforms.Normalize((mean,), (std,))\n",
    "            ])\n",
    "    dataset1 = datasets.MNIST('data', train=True, download=True,\n",
    "                       transform=transform)\n",
    "    train_loader = torch.utils.data.DataLoader(dataset1, **train_kwargs)\n",
    "\n",
    "    dataset2 = datasets.MNIST('data', train=False,\n",
    "                       transform=transform)\n",
    "    test_loader = torch.utils.data.DataLoader(dataset2, **test_kwargs)\n",
    "\n",
    "    model = Net().to(device)\n",
    "\n",
    "    if not bias_init is None:\n",
    "        model.conv1.bias.data *= bias_init\n",
    "    if not weight_init is None:\n",
    "        model.conv1.weight.data *= weight_init\n",
    "\n",
    "    \n",
    "    optimizer = optim.Adadelta(model.parameters(), lr=1.0)\n",
    "    # scheduler = StepLR(optimizer, step_size=1, gamma=0.7)\n",
    "    scheduler = ReduceLROnPlateau(optimizer, 'max')\n",
    "    for epoch in range(1, epochs+1):\n",
    "        train(model, device, train_loader, optimizer, epoch, log_interval=log_interval, verbose=verbose)\n",
    "        accuracy = test(model, device, test_loader, verbose=verbose)\n",
    "        scheduler.step(accuracy)\n",
    "\n",
    "    if verbose: print(f'The std of weight and bias in the first convolutional layer is {model.conv1.weight.std().item():.4f} and  {model.conv1.bias.std().item():.4f}')\n",
    "    return accuracy\n",
    "\n"
   ]
  },
  {
   "cell_type": "markdown",
   "metadata": {},
   "source": [
    "You can notice that I made one change by using the `ReduceLROnPlateau` scheduler instead of `StepLR`. In practice, this only changed the values I could test - run the notebook with enough epochs and the other scheduler to make your own opinion.\n",
    "\n",
    "Now that we've defined the entire protocol, we can test it in its most classic form, as delivered in the original code with 3 digits precision (!) :"
   ]
  },
  {
   "cell_type": "code",
   "execution_count": 5,
   "metadata": {
    "execution": {
     "iopub.execute_input": "2024-12-22T15:41:06.971131Z",
     "iopub.status.busy": "2024-12-22T15:41:06.970998Z",
     "iopub.status.idle": "2024-12-22T15:41:54.172995Z",
     "shell.execute_reply": "2024-12-22T15:41:54.172604Z"
    }
   },
   "outputs": [
    {
     "name": "stdout",
     "output_type": "stream",
     "text": [
      "Train Epoch: 1 [0/60000 (0%)]\tLoss: 2.304624\n"
     ]
    },
    {
     "name": "stdout",
     "output_type": "stream",
     "text": [
      "Train Epoch: 1 [6400/60000 (11%)]\tLoss: 0.281178\n"
     ]
    },
    {
     "name": "stdout",
     "output_type": "stream",
     "text": [
      "Train Epoch: 1 [12800/60000 (21%)]\tLoss: 0.516990\n"
     ]
    },
    {
     "name": "stdout",
     "output_type": "stream",
     "text": [
      "Train Epoch: 1 [19200/60000 (32%)]\tLoss: 0.337506\n"
     ]
    },
    {
     "name": "stdout",
     "output_type": "stream",
     "text": [
      "Train Epoch: 1 [25600/60000 (43%)]\tLoss: 0.121790\n"
     ]
    },
    {
     "name": "stdout",
     "output_type": "stream",
     "text": [
      "Train Epoch: 1 [32000/60000 (53%)]\tLoss: 0.234445\n"
     ]
    },
    {
     "name": "stdout",
     "output_type": "stream",
     "text": [
      "Train Epoch: 1 [38400/60000 (64%)]\tLoss: 0.017113\n"
     ]
    },
    {
     "name": "stdout",
     "output_type": "stream",
     "text": [
      "Train Epoch: 1 [44800/60000 (75%)]\tLoss: 0.092789\n"
     ]
    },
    {
     "name": "stdout",
     "output_type": "stream",
     "text": [
      "Train Epoch: 1 [51200/60000 (85%)]\tLoss: 0.033573\n"
     ]
    },
    {
     "name": "stdout",
     "output_type": "stream",
     "text": [
      "Train Epoch: 1 [57600/60000 (96%)]\tLoss: 0.037385\n"
     ]
    },
    {
     "name": "stdout",
     "output_type": "stream",
     "text": [
      "\n",
      "Test set: Average loss: 0.0488, Accuracy: 9835/10000 (98%)\n",
      "\n"
     ]
    },
    {
     "name": "stdout",
     "output_type": "stream",
     "text": [
      "Train Epoch: 2 [0/60000 (0%)]\tLoss: 0.011028\n"
     ]
    },
    {
     "name": "stdout",
     "output_type": "stream",
     "text": [
      "Train Epoch: 2 [6400/60000 (11%)]\tLoss: 0.019014\n"
     ]
    },
    {
     "name": "stdout",
     "output_type": "stream",
     "text": [
      "Train Epoch: 2 [12800/60000 (21%)]\tLoss: 0.109865\n"
     ]
    },
    {
     "name": "stdout",
     "output_type": "stream",
     "text": [
      "Train Epoch: 2 [19200/60000 (32%)]\tLoss: 0.011582\n"
     ]
    },
    {
     "name": "stdout",
     "output_type": "stream",
     "text": [
      "Train Epoch: 2 [25600/60000 (43%)]\tLoss: 0.071201\n"
     ]
    },
    {
     "name": "stdout",
     "output_type": "stream",
     "text": [
      "Train Epoch: 2 [32000/60000 (53%)]\tLoss: 0.243998\n"
     ]
    },
    {
     "name": "stdout",
     "output_type": "stream",
     "text": [
      "Train Epoch: 2 [38400/60000 (64%)]\tLoss: 0.004943\n"
     ]
    },
    {
     "name": "stdout",
     "output_type": "stream",
     "text": [
      "Train Epoch: 2 [44800/60000 (75%)]\tLoss: 0.009630\n"
     ]
    },
    {
     "name": "stdout",
     "output_type": "stream",
     "text": [
      "Train Epoch: 2 [51200/60000 (85%)]\tLoss: 0.019085\n"
     ]
    },
    {
     "name": "stdout",
     "output_type": "stream",
     "text": [
      "Train Epoch: 2 [57600/60000 (96%)]\tLoss: 0.169219\n"
     ]
    },
    {
     "name": "stdout",
     "output_type": "stream",
     "text": [
      "\n",
      "Test set: Average loss: 0.0524, Accuracy: 9841/10000 (98%)\n",
      "\n"
     ]
    },
    {
     "name": "stdout",
     "output_type": "stream",
     "text": [
      "Train Epoch: 3 [0/60000 (0%)]\tLoss: 0.031327\n"
     ]
    },
    {
     "name": "stdout",
     "output_type": "stream",
     "text": [
      "Train Epoch: 3 [6400/60000 (11%)]\tLoss: 0.007718\n"
     ]
    },
    {
     "name": "stdout",
     "output_type": "stream",
     "text": [
      "Train Epoch: 3 [12800/60000 (21%)]\tLoss: 0.141368\n"
     ]
    },
    {
     "name": "stdout",
     "output_type": "stream",
     "text": [
      "Train Epoch: 3 [19200/60000 (32%)]\tLoss: 0.009250\n"
     ]
    },
    {
     "name": "stdout",
     "output_type": "stream",
     "text": [
      "Train Epoch: 3 [25600/60000 (43%)]\tLoss: 0.006876\n"
     ]
    },
    {
     "name": "stdout",
     "output_type": "stream",
     "text": [
      "Train Epoch: 3 [32000/60000 (53%)]\tLoss: 0.004360\n"
     ]
    },
    {
     "name": "stdout",
     "output_type": "stream",
     "text": [
      "Train Epoch: 3 [38400/60000 (64%)]\tLoss: 0.116086\n"
     ]
    },
    {
     "name": "stdout",
     "output_type": "stream",
     "text": [
      "Train Epoch: 3 [44800/60000 (75%)]\tLoss: 0.072313\n"
     ]
    },
    {
     "name": "stdout",
     "output_type": "stream",
     "text": [
      "Train Epoch: 3 [51200/60000 (85%)]\tLoss: 0.049017\n"
     ]
    },
    {
     "name": "stdout",
     "output_type": "stream",
     "text": [
      "Train Epoch: 3 [57600/60000 (96%)]\tLoss: 0.024332\n"
     ]
    },
    {
     "name": "stdout",
     "output_type": "stream",
     "text": [
      "\n",
      "Test set: Average loss: 0.0335, Accuracy: 9883/10000 (99%)\n",
      "\n"
     ]
    },
    {
     "name": "stdout",
     "output_type": "stream",
     "text": [
      "Train Epoch: 4 [0/60000 (0%)]\tLoss: 0.029007\n"
     ]
    },
    {
     "name": "stdout",
     "output_type": "stream",
     "text": [
      "Train Epoch: 4 [6400/60000 (11%)]\tLoss: 0.009332\n"
     ]
    },
    {
     "name": "stdout",
     "output_type": "stream",
     "text": [
      "Train Epoch: 4 [12800/60000 (21%)]\tLoss: 0.030628\n"
     ]
    },
    {
     "name": "stdout",
     "output_type": "stream",
     "text": [
      "Train Epoch: 4 [19200/60000 (32%)]\tLoss: 0.133142\n"
     ]
    },
    {
     "name": "stdout",
     "output_type": "stream",
     "text": [
      "Train Epoch: 4 [25600/60000 (43%)]\tLoss: 0.054411\n"
     ]
    },
    {
     "name": "stdout",
     "output_type": "stream",
     "text": [
      "Train Epoch: 4 [32000/60000 (53%)]\tLoss: 0.004071\n"
     ]
    },
    {
     "name": "stdout",
     "output_type": "stream",
     "text": [
      "Train Epoch: 4 [38400/60000 (64%)]\tLoss: 0.071450\n"
     ]
    },
    {
     "name": "stdout",
     "output_type": "stream",
     "text": [
      "Train Epoch: 4 [44800/60000 (75%)]\tLoss: 0.145187\n"
     ]
    },
    {
     "name": "stdout",
     "output_type": "stream",
     "text": [
      "Train Epoch: 4 [51200/60000 (85%)]\tLoss: 0.001773\n"
     ]
    },
    {
     "name": "stdout",
     "output_type": "stream",
     "text": [
      "Train Epoch: 4 [57600/60000 (96%)]\tLoss: 0.106237\n"
     ]
    },
    {
     "name": "stdout",
     "output_type": "stream",
     "text": [
      "\n",
      "Test set: Average loss: 0.0357, Accuracy: 9893/10000 (99%)\n",
      "\n"
     ]
    },
    {
     "name": "stdout",
     "output_type": "stream",
     "text": [
      "Train Epoch: 5 [0/60000 (0%)]\tLoss: 0.004570\n"
     ]
    },
    {
     "name": "stdout",
     "output_type": "stream",
     "text": [
      "Train Epoch: 5 [6400/60000 (11%)]\tLoss: 0.011164\n"
     ]
    },
    {
     "name": "stdout",
     "output_type": "stream",
     "text": [
      "Train Epoch: 5 [12800/60000 (21%)]\tLoss: 0.150560\n"
     ]
    },
    {
     "name": "stdout",
     "output_type": "stream",
     "text": [
      "Train Epoch: 5 [19200/60000 (32%)]\tLoss: 0.038758\n"
     ]
    },
    {
     "name": "stdout",
     "output_type": "stream",
     "text": [
      "Train Epoch: 5 [25600/60000 (43%)]\tLoss: 0.029160\n"
     ]
    },
    {
     "name": "stdout",
     "output_type": "stream",
     "text": [
      "Train Epoch: 5 [32000/60000 (53%)]\tLoss: 0.079308\n"
     ]
    },
    {
     "name": "stdout",
     "output_type": "stream",
     "text": [
      "Train Epoch: 5 [38400/60000 (64%)]\tLoss: 0.099629\n"
     ]
    },
    {
     "name": "stdout",
     "output_type": "stream",
     "text": [
      "Train Epoch: 5 [44800/60000 (75%)]\tLoss: 0.024790\n"
     ]
    },
    {
     "name": "stdout",
     "output_type": "stream",
     "text": [
      "Train Epoch: 5 [51200/60000 (85%)]\tLoss: 0.068315\n"
     ]
    },
    {
     "name": "stdout",
     "output_type": "stream",
     "text": [
      "Train Epoch: 5 [57600/60000 (96%)]\tLoss: 0.010813\n"
     ]
    },
    {
     "name": "stdout",
     "output_type": "stream",
     "text": [
      "\n",
      "Test set: Average loss: 0.0322, Accuracy: 9913/10000 (99%)\n",
      "\n"
     ]
    },
    {
     "name": "stdout",
     "output_type": "stream",
     "text": [
      "Train Epoch: 6 [0/60000 (0%)]\tLoss: 0.019584\n"
     ]
    },
    {
     "name": "stdout",
     "output_type": "stream",
     "text": [
      "Train Epoch: 6 [6400/60000 (11%)]\tLoss: 0.003815\n"
     ]
    },
    {
     "name": "stdout",
     "output_type": "stream",
     "text": [
      "Train Epoch: 6 [12800/60000 (21%)]\tLoss: 0.023842\n"
     ]
    },
    {
     "name": "stdout",
     "output_type": "stream",
     "text": [
      "Train Epoch: 6 [19200/60000 (32%)]\tLoss: 0.007701\n"
     ]
    },
    {
     "name": "stdout",
     "output_type": "stream",
     "text": [
      "Train Epoch: 6 [25600/60000 (43%)]\tLoss: 0.013744\n"
     ]
    },
    {
     "name": "stdout",
     "output_type": "stream",
     "text": [
      "Train Epoch: 6 [32000/60000 (53%)]\tLoss: 0.007003\n"
     ]
    },
    {
     "name": "stdout",
     "output_type": "stream",
     "text": [
      "Train Epoch: 6 [38400/60000 (64%)]\tLoss: 0.004972\n"
     ]
    },
    {
     "name": "stdout",
     "output_type": "stream",
     "text": [
      "Train Epoch: 6 [44800/60000 (75%)]\tLoss: 0.045177\n"
     ]
    },
    {
     "name": "stdout",
     "output_type": "stream",
     "text": [
      "Train Epoch: 6 [51200/60000 (85%)]\tLoss: 0.006468\n"
     ]
    },
    {
     "name": "stdout",
     "output_type": "stream",
     "text": [
      "Train Epoch: 6 [57600/60000 (96%)]\tLoss: 0.043661\n"
     ]
    },
    {
     "name": "stdout",
     "output_type": "stream",
     "text": [
      "\n",
      "Test set: Average loss: 0.0335, Accuracy: 9910/10000 (99%)\n",
      "\n"
     ]
    },
    {
     "name": "stdout",
     "output_type": "stream",
     "text": [
      "Train Epoch: 7 [0/60000 (0%)]\tLoss: 0.053785\n"
     ]
    },
    {
     "name": "stdout",
     "output_type": "stream",
     "text": [
      "Train Epoch: 7 [6400/60000 (11%)]\tLoss: 0.172224\n"
     ]
    },
    {
     "name": "stdout",
     "output_type": "stream",
     "text": [
      "Train Epoch: 7 [12800/60000 (21%)]\tLoss: 0.010990\n"
     ]
    },
    {
     "name": "stdout",
     "output_type": "stream",
     "text": [
      "Train Epoch: 7 [19200/60000 (32%)]\tLoss: 0.019810\n"
     ]
    },
    {
     "name": "stdout",
     "output_type": "stream",
     "text": [
      "Train Epoch: 7 [25600/60000 (43%)]\tLoss: 0.000504\n"
     ]
    },
    {
     "name": "stdout",
     "output_type": "stream",
     "text": [
      "Train Epoch: 7 [32000/60000 (53%)]\tLoss: 0.036467\n"
     ]
    },
    {
     "name": "stdout",
     "output_type": "stream",
     "text": [
      "Train Epoch: 7 [38400/60000 (64%)]\tLoss: 0.009506\n"
     ]
    },
    {
     "name": "stdout",
     "output_type": "stream",
     "text": [
      "Train Epoch: 7 [44800/60000 (75%)]\tLoss: 0.007829\n"
     ]
    },
    {
     "name": "stdout",
     "output_type": "stream",
     "text": [
      "Train Epoch: 7 [51200/60000 (85%)]\tLoss: 0.047448\n"
     ]
    },
    {
     "name": "stdout",
     "output_type": "stream",
     "text": [
      "Train Epoch: 7 [57600/60000 (96%)]\tLoss: 0.008582\n"
     ]
    },
    {
     "name": "stdout",
     "output_type": "stream",
     "text": [
      "\n",
      "Test set: Average loss: 0.0326, Accuracy: 9907/10000 (99%)\n",
      "\n"
     ]
    },
    {
     "name": "stdout",
     "output_type": "stream",
     "text": [
      "Train Epoch: 8 [0/60000 (0%)]\tLoss: 0.081056\n"
     ]
    },
    {
     "name": "stdout",
     "output_type": "stream",
     "text": [
      "Train Epoch: 8 [6400/60000 (11%)]\tLoss: 0.002920\n"
     ]
    },
    {
     "name": "stdout",
     "output_type": "stream",
     "text": [
      "Train Epoch: 8 [12800/60000 (21%)]\tLoss: 0.000405\n"
     ]
    },
    {
     "name": "stdout",
     "output_type": "stream",
     "text": [
      "Train Epoch: 8 [19200/60000 (32%)]\tLoss: 0.002494\n"
     ]
    },
    {
     "name": "stdout",
     "output_type": "stream",
     "text": [
      "Train Epoch: 8 [25600/60000 (43%)]\tLoss: 0.040551\n"
     ]
    },
    {
     "name": "stdout",
     "output_type": "stream",
     "text": [
      "Train Epoch: 8 [32000/60000 (53%)]\tLoss: 0.004167\n"
     ]
    },
    {
     "name": "stdout",
     "output_type": "stream",
     "text": [
      "Train Epoch: 8 [38400/60000 (64%)]\tLoss: 0.006152\n"
     ]
    },
    {
     "name": "stdout",
     "output_type": "stream",
     "text": [
      "Train Epoch: 8 [44800/60000 (75%)]\tLoss: 0.006185\n"
     ]
    },
    {
     "name": "stdout",
     "output_type": "stream",
     "text": [
      "Train Epoch: 8 [51200/60000 (85%)]\tLoss: 0.043025\n"
     ]
    },
    {
     "name": "stdout",
     "output_type": "stream",
     "text": [
      "Train Epoch: 8 [57600/60000 (96%)]\tLoss: 0.039717\n"
     ]
    },
    {
     "name": "stdout",
     "output_type": "stream",
     "text": [
      "\n",
      "Test set: Average loss: 0.0355, Accuracy: 9914/10000 (99%)\n",
      "\n"
     ]
    },
    {
     "name": "stdout",
     "output_type": "stream",
     "text": [
      "Train Epoch: 9 [0/60000 (0%)]\tLoss: 0.000495\n"
     ]
    },
    {
     "name": "stdout",
     "output_type": "stream",
     "text": [
      "Train Epoch: 9 [6400/60000 (11%)]\tLoss: 0.059491\n"
     ]
    },
    {
     "name": "stdout",
     "output_type": "stream",
     "text": [
      "Train Epoch: 9 [12800/60000 (21%)]\tLoss: 0.018307\n"
     ]
    },
    {
     "name": "stdout",
     "output_type": "stream",
     "text": [
      "Train Epoch: 9 [19200/60000 (32%)]\tLoss: 0.046228\n"
     ]
    },
    {
     "name": "stdout",
     "output_type": "stream",
     "text": [
      "Train Epoch: 9 [25600/60000 (43%)]\tLoss: 0.019544\n"
     ]
    },
    {
     "name": "stdout",
     "output_type": "stream",
     "text": [
      "Train Epoch: 9 [32000/60000 (53%)]\tLoss: 0.090836\n"
     ]
    },
    {
     "name": "stdout",
     "output_type": "stream",
     "text": [
      "Train Epoch: 9 [38400/60000 (64%)]\tLoss: 0.011259\n"
     ]
    },
    {
     "name": "stdout",
     "output_type": "stream",
     "text": [
      "Train Epoch: 9 [44800/60000 (75%)]\tLoss: 0.198908\n"
     ]
    },
    {
     "name": "stdout",
     "output_type": "stream",
     "text": [
      "Train Epoch: 9 [51200/60000 (85%)]\tLoss: 0.135459\n"
     ]
    },
    {
     "name": "stdout",
     "output_type": "stream",
     "text": [
      "Train Epoch: 9 [57600/60000 (96%)]\tLoss: 0.035063\n"
     ]
    },
    {
     "name": "stdout",
     "output_type": "stream",
     "text": [
      "\n",
      "Test set: Average loss: 0.0344, Accuracy: 9905/10000 (99%)\n",
      "\n"
     ]
    },
    {
     "name": "stdout",
     "output_type": "stream",
     "text": [
      "Train Epoch: 10 [0/60000 (0%)]\tLoss: 0.005601\n"
     ]
    },
    {
     "name": "stdout",
     "output_type": "stream",
     "text": [
      "Train Epoch: 10 [6400/60000 (11%)]\tLoss: 0.023362\n"
     ]
    },
    {
     "name": "stdout",
     "output_type": "stream",
     "text": [
      "Train Epoch: 10 [12800/60000 (21%)]\tLoss: 0.000109\n"
     ]
    },
    {
     "name": "stdout",
     "output_type": "stream",
     "text": [
      "Train Epoch: 10 [19200/60000 (32%)]\tLoss: 0.001192\n"
     ]
    },
    {
     "name": "stdout",
     "output_type": "stream",
     "text": [
      "Train Epoch: 10 [25600/60000 (43%)]\tLoss: 0.017619\n"
     ]
    },
    {
     "name": "stdout",
     "output_type": "stream",
     "text": [
      "Train Epoch: 10 [32000/60000 (53%)]\tLoss: 0.118632\n"
     ]
    },
    {
     "name": "stdout",
     "output_type": "stream",
     "text": [
      "Train Epoch: 10 [38400/60000 (64%)]\tLoss: 0.033162\n"
     ]
    },
    {
     "name": "stdout",
     "output_type": "stream",
     "text": [
      "Train Epoch: 10 [44800/60000 (75%)]\tLoss: 0.015616\n"
     ]
    },
    {
     "name": "stdout",
     "output_type": "stream",
     "text": [
      "Train Epoch: 10 [51200/60000 (85%)]\tLoss: 0.004130\n"
     ]
    },
    {
     "name": "stdout",
     "output_type": "stream",
     "text": [
      "Train Epoch: 10 [57600/60000 (96%)]\tLoss: 0.085506\n"
     ]
    },
    {
     "name": "stdout",
     "output_type": "stream",
     "text": [
      "\n",
      "Test set: Average loss: 0.0361, Accuracy: 9905/10000 (99%)\n",
      "\n"
     ]
    },
    {
     "name": "stdout",
     "output_type": "stream",
     "text": [
      "Train Epoch: 11 [0/60000 (0%)]\tLoss: 0.009951\n"
     ]
    },
    {
     "name": "stdout",
     "output_type": "stream",
     "text": [
      "Train Epoch: 11 [6400/60000 (11%)]\tLoss: 0.001097\n"
     ]
    },
    {
     "name": "stdout",
     "output_type": "stream",
     "text": [
      "Train Epoch: 11 [12800/60000 (21%)]\tLoss: 0.013806\n"
     ]
    },
    {
     "name": "stdout",
     "output_type": "stream",
     "text": [
      "Train Epoch: 11 [19200/60000 (32%)]\tLoss: 0.001884\n"
     ]
    },
    {
     "name": "stdout",
     "output_type": "stream",
     "text": [
      "Train Epoch: 11 [25600/60000 (43%)]\tLoss: 0.004637\n"
     ]
    },
    {
     "name": "stdout",
     "output_type": "stream",
     "text": [
      "Train Epoch: 11 [32000/60000 (53%)]\tLoss: 0.001132\n"
     ]
    },
    {
     "name": "stdout",
     "output_type": "stream",
     "text": [
      "Train Epoch: 11 [38400/60000 (64%)]\tLoss: 0.018414\n"
     ]
    },
    {
     "name": "stdout",
     "output_type": "stream",
     "text": [
      "Train Epoch: 11 [44800/60000 (75%)]\tLoss: 0.044070\n"
     ]
    },
    {
     "name": "stdout",
     "output_type": "stream",
     "text": [
      "Train Epoch: 11 [51200/60000 (85%)]\tLoss: 0.005729\n"
     ]
    },
    {
     "name": "stdout",
     "output_type": "stream",
     "text": [
      "Train Epoch: 11 [57600/60000 (96%)]\tLoss: 0.000434\n"
     ]
    },
    {
     "name": "stdout",
     "output_type": "stream",
     "text": [
      "\n",
      "Test set: Average loss: 0.0371, Accuracy: 9914/10000 (99%)\n",
      "\n"
     ]
    },
    {
     "name": "stdout",
     "output_type": "stream",
     "text": [
      "Train Epoch: 12 [0/60000 (0%)]\tLoss: 0.035833\n"
     ]
    },
    {
     "name": "stdout",
     "output_type": "stream",
     "text": [
      "Train Epoch: 12 [6400/60000 (11%)]\tLoss: 0.089021\n"
     ]
    },
    {
     "name": "stdout",
     "output_type": "stream",
     "text": [
      "Train Epoch: 12 [12800/60000 (21%)]\tLoss: 0.000297\n"
     ]
    },
    {
     "name": "stdout",
     "output_type": "stream",
     "text": [
      "Train Epoch: 12 [19200/60000 (32%)]\tLoss: 0.001390\n"
     ]
    },
    {
     "name": "stdout",
     "output_type": "stream",
     "text": [
      "Train Epoch: 12 [25600/60000 (43%)]\tLoss: 0.038403\n"
     ]
    },
    {
     "name": "stdout",
     "output_type": "stream",
     "text": [
      "Train Epoch: 12 [32000/60000 (53%)]\tLoss: 0.001352\n"
     ]
    },
    {
     "name": "stdout",
     "output_type": "stream",
     "text": [
      "Train Epoch: 12 [38400/60000 (64%)]\tLoss: 0.032815\n"
     ]
    },
    {
     "name": "stdout",
     "output_type": "stream",
     "text": [
      "Train Epoch: 12 [44800/60000 (75%)]\tLoss: 0.000634\n"
     ]
    },
    {
     "name": "stdout",
     "output_type": "stream",
     "text": [
      "Train Epoch: 12 [51200/60000 (85%)]\tLoss: 0.001752\n"
     ]
    },
    {
     "name": "stdout",
     "output_type": "stream",
     "text": [
      "Train Epoch: 12 [57600/60000 (96%)]\tLoss: 0.023597\n"
     ]
    },
    {
     "name": "stdout",
     "output_type": "stream",
     "text": [
      "\n",
      "Test set: Average loss: 0.0392, Accuracy: 9915/10000 (99%)\n",
      "\n"
     ]
    },
    {
     "name": "stdout",
     "output_type": "stream",
     "text": [
      "Train Epoch: 13 [0/60000 (0%)]\tLoss: 0.057553\n"
     ]
    },
    {
     "name": "stdout",
     "output_type": "stream",
     "text": [
      "Train Epoch: 13 [6400/60000 (11%)]\tLoss: 0.007608\n"
     ]
    },
    {
     "name": "stdout",
     "output_type": "stream",
     "text": [
      "Train Epoch: 13 [12800/60000 (21%)]\tLoss: 0.001990\n"
     ]
    },
    {
     "name": "stdout",
     "output_type": "stream",
     "text": [
      "Train Epoch: 13 [19200/60000 (32%)]\tLoss: 0.001200\n"
     ]
    },
    {
     "name": "stdout",
     "output_type": "stream",
     "text": [
      "Train Epoch: 13 [25600/60000 (43%)]\tLoss: 0.002984\n"
     ]
    },
    {
     "name": "stdout",
     "output_type": "stream",
     "text": [
      "Train Epoch: 13 [32000/60000 (53%)]\tLoss: 0.003028\n"
     ]
    },
    {
     "name": "stdout",
     "output_type": "stream",
     "text": [
      "Train Epoch: 13 [38400/60000 (64%)]\tLoss: 0.002459\n"
     ]
    },
    {
     "name": "stdout",
     "output_type": "stream",
     "text": [
      "Train Epoch: 13 [44800/60000 (75%)]\tLoss: 0.001298\n"
     ]
    },
    {
     "name": "stdout",
     "output_type": "stream",
     "text": [
      "Train Epoch: 13 [51200/60000 (85%)]\tLoss: 0.000040\n"
     ]
    },
    {
     "name": "stdout",
     "output_type": "stream",
     "text": [
      "Train Epoch: 13 [57600/60000 (96%)]\tLoss: 0.040002\n"
     ]
    },
    {
     "name": "stdout",
     "output_type": "stream",
     "text": [
      "\n",
      "Test set: Average loss: 0.0401, Accuracy: 9911/10000 (99%)\n",
      "\n"
     ]
    },
    {
     "name": "stdout",
     "output_type": "stream",
     "text": [
      "Train Epoch: 14 [0/60000 (0%)]\tLoss: 0.048102\n"
     ]
    },
    {
     "name": "stdout",
     "output_type": "stream",
     "text": [
      "Train Epoch: 14 [6400/60000 (11%)]\tLoss: 0.000400\n"
     ]
    },
    {
     "name": "stdout",
     "output_type": "stream",
     "text": [
      "Train Epoch: 14 [12800/60000 (21%)]\tLoss: 0.005354\n"
     ]
    },
    {
     "name": "stdout",
     "output_type": "stream",
     "text": [
      "Train Epoch: 14 [19200/60000 (32%)]\tLoss: 0.059465\n"
     ]
    },
    {
     "name": "stdout",
     "output_type": "stream",
     "text": [
      "Train Epoch: 14 [25600/60000 (43%)]\tLoss: 0.030267\n"
     ]
    },
    {
     "name": "stdout",
     "output_type": "stream",
     "text": [
      "Train Epoch: 14 [32000/60000 (53%)]\tLoss: 0.002058\n"
     ]
    },
    {
     "name": "stdout",
     "output_type": "stream",
     "text": [
      "Train Epoch: 14 [38400/60000 (64%)]\tLoss: 0.000379\n"
     ]
    },
    {
     "name": "stdout",
     "output_type": "stream",
     "text": [
      "Train Epoch: 14 [44800/60000 (75%)]\tLoss: 0.086048\n"
     ]
    },
    {
     "name": "stdout",
     "output_type": "stream",
     "text": [
      "Train Epoch: 14 [51200/60000 (85%)]\tLoss: 0.043677\n"
     ]
    },
    {
     "name": "stdout",
     "output_type": "stream",
     "text": [
      "Train Epoch: 14 [57600/60000 (96%)]\tLoss: 0.004139\n"
     ]
    },
    {
     "name": "stdout",
     "output_type": "stream",
     "text": [
      "\n",
      "Test set: Average loss: 0.0335, Accuracy: 9914/10000 (99%)\n",
      "\n"
     ]
    },
    {
     "name": "stdout",
     "output_type": "stream",
     "text": [
      "Train Epoch: 15 [0/60000 (0%)]\tLoss: 0.005576\n"
     ]
    },
    {
     "name": "stdout",
     "output_type": "stream",
     "text": [
      "Train Epoch: 15 [6400/60000 (11%)]\tLoss: 0.005919\n"
     ]
    },
    {
     "name": "stdout",
     "output_type": "stream",
     "text": [
      "Train Epoch: 15 [12800/60000 (21%)]\tLoss: 0.080235\n"
     ]
    },
    {
     "name": "stdout",
     "output_type": "stream",
     "text": [
      "Train Epoch: 15 [19200/60000 (32%)]\tLoss: 0.097650\n"
     ]
    },
    {
     "name": "stdout",
     "output_type": "stream",
     "text": [
      "Train Epoch: 15 [25600/60000 (43%)]\tLoss: 0.000275\n"
     ]
    },
    {
     "name": "stdout",
     "output_type": "stream",
     "text": [
      "Train Epoch: 15 [32000/60000 (53%)]\tLoss: 0.014443\n"
     ]
    },
    {
     "name": "stdout",
     "output_type": "stream",
     "text": [
      "Train Epoch: 15 [38400/60000 (64%)]\tLoss: 0.013720\n"
     ]
    },
    {
     "name": "stdout",
     "output_type": "stream",
     "text": [
      "Train Epoch: 15 [44800/60000 (75%)]\tLoss: 0.025643\n"
     ]
    },
    {
     "name": "stdout",
     "output_type": "stream",
     "text": [
      "Train Epoch: 15 [51200/60000 (85%)]\tLoss: 0.001456\n"
     ]
    },
    {
     "name": "stdout",
     "output_type": "stream",
     "text": [
      "Train Epoch: 15 [57600/60000 (96%)]\tLoss: 0.015662\n"
     ]
    },
    {
     "name": "stdout",
     "output_type": "stream",
     "text": [
      "\n",
      "Test set: Average loss: 0.0382, Accuracy: 9898/10000 (99%)\n",
      "\n",
      "The std of weight and bias in the first convolutional layer is 0.2198 and  0.1032\n",
      "accuracy=0.9898\n"
     ]
    }
   ],
   "source": [
    "accuracy = main(mean=0.1307, std=0.3081, verbose=True)\n",
    "print(f'{accuracy=:.4f}')"
   ]
  },
  {
   "cell_type": "markdown",
   "metadata": {},
   "source": [
    "These exact same numbers were first introduced in that code on [Jan 17, 2017](https://github.com/pytorch/examples/commit/32c7386aef93737926069ee284d827f8e954e086) and these exact values have not changed since (up to the 3rd digit)."
   ]
  },
  {
   "cell_type": "markdown",
   "metadata": {},
   "source": [
    "One advantage of our code is that we can now manipulate these two values, to see if starting from a different tuple of numbers, we obtain an accuracy value that is different.\n",
    "\n"
   ]
  },
  {
   "cell_type": "markdown",
   "metadata": {},
   "source": [
    "Let's first see what happens without normalization:"
   ]
  },
  {
   "cell_type": "code",
   "execution_count": 6,
   "metadata": {
    "execution": {
     "iopub.execute_input": "2024-12-22T15:41:54.174272Z",
     "iopub.status.busy": "2024-12-22T15:41:54.174154Z",
     "iopub.status.idle": "2024-12-22T15:42:35.615633Z",
     "shell.execute_reply": "2024-12-22T15:42:35.615376Z"
    }
   },
   "outputs": [
    {
     "name": "stdout",
     "output_type": "stream",
     "text": [
      "accuracy=0.9913\n"
     ]
    }
   ],
   "source": [
    "accuracy = main(mean=None, std=None)\n",
    "print(f'{accuracy=:.4f}')"
   ]
  },
  {
   "cell_type": "markdown",
   "metadata": {},
   "source": [
    "Pretty much the same...\n",
    "\n",
    "What if we use standard numbers?"
   ]
  },
  {
   "cell_type": "code",
   "execution_count": 7,
   "metadata": {
    "execution": {
     "iopub.execute_input": "2024-12-22T15:42:35.616749Z",
     "iopub.status.busy": "2024-12-22T15:42:35.616649Z",
     "iopub.status.idle": "2024-12-22T15:43:22.661051Z",
     "shell.execute_reply": "2024-12-22T15:43:22.660745Z"
    },
    "scrolled": true
   },
   "outputs": [
    {
     "name": "stdout",
     "output_type": "stream",
     "text": [
      "accuracy=0.9906\n"
     ]
    }
   ],
   "source": [
    "accuracy = main(mean=0., std=1.)\n",
    "print(f'{accuracy=:.4f}')"
   ]
  },
  {
   "cell_type": "markdown",
   "metadata": {},
   "source": [
    "The result seems similar, but it's not enough to demonstrate that the mean and standard deviation have no effect on learning."
   ]
  },
  {
   "cell_type": "markdown",
   "metadata": {},
   "source": [
    "## computing accuracy on a regular grid of values\n",
    "\n",
    "I'm now going to push the boat out further, using a library that allows me to test several values and thus optimize the parameters. If the mean and deviation are so important, we'll converge on a fixed set of values, whereas if they're less important, the values can be quite scattered. In particular, this will allow us to choose an arbitrary value, such as a mean of 0 and a standard deviation of 1, better known as *normal* normalization."
   ]
  },
  {
   "cell_type": "code",
   "execution_count": 8,
   "metadata": {
    "execution": {
     "iopub.execute_input": "2024-12-22T15:43:22.662409Z",
     "iopub.status.busy": "2024-12-22T15:43:22.662303Z",
     "iopub.status.idle": "2024-12-22T15:43:22.664081Z",
     "shell.execute_reply": "2024-12-22T15:43:22.663793Z"
    }
   },
   "outputs": [],
   "source": [
    "# %rm {path_save_numpy}"
   ]
  },
  {
   "cell_type": "code",
   "execution_count": 9,
   "metadata": {
    "execution": {
     "iopub.execute_input": "2024-12-22T15:43:22.665172Z",
     "iopub.status.busy": "2024-12-22T15:43:22.665071Z",
     "iopub.status.idle": "2024-12-22T15:43:22.668036Z",
     "shell.execute_reply": "2024-12-22T15:43:22.667732Z"
    }
   },
   "outputs": [
    {
     "name": "stdout",
     "output_type": "stream",
     "text": [
      "Loading numpy-LeNet.npy\n"
     ]
    }
   ],
   "source": [
    "model = 'LeNet'\n",
    "epochs = 30 # a bit more than the original example which had 15 epochs\n",
    "N_scan = 15\n",
    "\n",
    "means = np.linspace(-2, 3., N_scan, endpoint=True)\n",
    "stds = np.geomspace(0.02, 2., N_scan, endpoint=True)\n",
    "\n",
    "path_save_numpy =  f'numpy-{model}.npy'\n",
    "if not(os.path.isfile(path_save_numpy)):\n",
    "    accuracy = np.empty((N_scan, N_scan))\n",
    "    for i_mean, mean in enumerate(means):\n",
    "        for i_std, std in enumerate(stds):\n",
    "            accuracy[i_mean, i_std] = main(mean=mean, std=std, epochs=epochs)\n",
    "    np.save(path_save_numpy, accuracy)\n",
    "else:\n",
    "    print(f'Loading {path_save_numpy}')\n",
    "    accuracy = np.load(path_save_numpy)    "
   ]
  },
  {
   "cell_type": "code",
   "execution_count": 10,
   "metadata": {
    "execution": {
     "iopub.execute_input": "2024-12-22T15:43:22.669179Z",
     "iopub.status.busy": "2024-12-22T15:43:22.669072Z",
     "iopub.status.idle": "2024-12-22T15:43:22.800356Z",
     "shell.execute_reply": "2024-12-22T15:43:22.800160Z"
    }
   },
   "outputs": [
    {
     "name": "stderr",
     "output_type": "stream",
     "text": [
      "/tmp/ipykernel_478690/562631438.py:2: UserWarning: The following kwargs were not used by contour: 'n'\n",
      "  pcm = ax.contourf(means, stds, accuracy, n=20, cmap='hot')#, vmax=.999)\n"
     ]
    },
    {
     "data": {
      "image/png": "[encoded data removed]",
      "text/plain": [
       "<Figure size 1000x618.034 with 2 Axes>"
      ]
     },
     "metadata": {},
     "output_type": "display_data"
    }
   ],
   "source": [
    "fig, ax = plt.subplots(figsize=figsize)\n",
    "pcm = ax.contourf(means, stds, accuracy, n=20, cmap='hot')#, vmax=.999)\n",
    "fig.colorbar(pcm, ax=ax, extendfrac=0)\n",
    "ax.set_title('Results for the LeNet model on the MNIST dataset')\n",
    "ax.set_xlabel('mean')\n",
    "ax.set_ylabel('std')\n",
    "fig;"
   ]
  },
  {
   "cell_type": "markdown",
   "metadata": {},
   "source": [
    "One is most certainly interested by the best value:"
   ]
  },
  {
   "cell_type": "code",
   "execution_count": 11,
   "metadata": {
    "execution": {
     "iopub.execute_input": "2024-12-22T15:43:22.801574Z",
     "iopub.status.busy": "2024-12-22T15:43:22.801455Z",
     "iopub.status.idle": "2024-12-22T15:43:22.803417Z",
     "shell.execute_reply": "2024-12-22T15:43:22.803177Z"
    }
   },
   "outputs": [
    {
     "name": "stdout",
     "output_type": "stream",
     "text": [
      "Optimal value at indicies (12, 7), with accuracy 0.9936\n"
     ]
    }
   ],
   "source": [
    "mean_max, std_max = np.unravel_index(np.argmax(accuracy), accuracy.shape)\n",
    "print(f'Optimal value at indicies {mean_max, std_max}, with accuracy {accuracy[mean_max, std_max]:.4f}')"
   ]
  },
  {
   "cell_type": "code",
   "execution_count": 12,
   "metadata": {
    "execution": {
     "iopub.execute_input": "2024-12-22T15:43:22.804722Z",
     "iopub.status.busy": "2024-12-22T15:43:22.804619Z",
     "iopub.status.idle": "2024-12-22T15:43:22.806229Z",
     "shell.execute_reply": "2024-12-22T15:43:22.806019Z"
    }
   },
   "outputs": [
    {
     "name": "stdout",
     "output_type": "stream",
     "text": [
      "Optimal value: of mean=2.2857, std=0.2000\n"
     ]
    }
   ],
   "source": [
    "print(f'Optimal value: of mean={means[mean_max]:.4f}, std={stds[std_max]:.4f}')"
   ]
  },
  {
   "cell_type": "markdown",
   "metadata": {},
   "source": [
    "Or by the barycenter of the accuracy map:"
   ]
  },
  {
   "cell_type": "code",
   "execution_count": 13,
   "metadata": {
    "execution": {
     "iopub.execute_input": "2024-12-22T15:43:22.807479Z",
     "iopub.status.busy": "2024-12-22T15:43:22.807402Z",
     "iopub.status.idle": "2024-12-22T15:43:22.809138Z",
     "shell.execute_reply": "2024-12-22T15:43:22.808927Z"
    }
   },
   "outputs": [
    {
     "name": "stdout",
     "output_type": "stream",
     "text": [
      "Center of gravity: 0.5026, 0.4728\n"
     ]
    }
   ],
   "source": [
    "print(f'Center of gravity: {np.sum(means*accuracy)/np.sum(accuracy):.4f}, {np.sum(stds*accuracy)/np.sum(accuracy):.4f}')"
   ]
  },
  {
   "cell_type": "markdown",
   "metadata": {},
   "source": [
    "There is a low variabilty of the accuracy:"
   ]
  },
  {
   "cell_type": "code",
   "execution_count": 14,
   "metadata": {
    "execution": {
     "iopub.execute_input": "2024-12-22T15:43:22.810383Z",
     "iopub.status.busy": "2024-12-22T15:43:22.810305Z",
     "iopub.status.idle": "2024-12-22T15:43:22.811881Z",
     "shell.execute_reply": "2024-12-22T15:43:22.811677Z"
    }
   },
   "outputs": [
    {
     "name": "stdout",
     "output_type": "stream",
     "text": [
      "Variabity of accuracy: 0.0025\n"
     ]
    }
   ],
   "source": [
    "print(f'Variabity of accuracy: {np.std(accuracy):.4f}')"
   ]
  },
  {
   "cell_type": "markdown",
   "metadata": {},
   "source": [
    "Mostly driven by the worst value:"
   ]
  },
  {
   "cell_type": "code",
   "execution_count": 15,
   "metadata": {
    "execution": {
     "iopub.execute_input": "2024-12-22T15:43:22.813147Z",
     "iopub.status.busy": "2024-12-22T15:43:22.813046Z",
     "iopub.status.idle": "2024-12-22T15:43:22.814668Z",
     "shell.execute_reply": "2024-12-22T15:43:22.814474Z"
    }
   },
   "outputs": [
    {
     "name": "stdout",
     "output_type": "stream",
     "text": [
      "Worst value at indicies (4, 0), with accuracy 0.9779\n"
     ]
    }
   ],
   "source": [
    "mean_min, std_min = np.unravel_index(np.argmin(accuracy), accuracy.shape)\n",
    "print(f'Worst value at indicies {mean_min, std_min}, with accuracy {accuracy[mean_min, std_min]:.4f}')"
   ]
  },
  {
   "cell_type": "code",
   "execution_count": 16,
   "metadata": {
    "execution": {
     "iopub.execute_input": "2024-12-22T15:43:22.815572Z",
     "iopub.status.busy": "2024-12-22T15:43:22.815496Z",
     "iopub.status.idle": "2024-12-22T15:43:22.817145Z",
     "shell.execute_reply": "2024-12-22T15:43:22.816864Z"
    }
   },
   "outputs": [
    {
     "name": "stdout",
     "output_type": "stream",
     "text": [
      "Worst value: of mean=-0.5714, std=0.0200\n"
     ]
    }
   ],
   "source": [
    "print(f'Worst value: of mean={means[mean_min]:.4f}, std={stds[std_min]:.4f}')"
   ]
  },
  {
   "cell_type": "markdown",
   "metadata": {},
   "source": [
    "The variability on the plateau is very low:"
   ]
  },
  {
   "cell_type": "code",
   "execution_count": 17,
   "metadata": {
    "execution": {
     "iopub.execute_input": "2024-12-22T15:43:22.818126Z",
     "iopub.status.busy": "2024-12-22T15:43:22.818028Z",
     "iopub.status.idle": "2024-12-22T15:43:22.819941Z",
     "shell.execute_reply": "2024-12-22T15:43:22.819658Z"
    }
   },
   "outputs": [
    {
     "name": "stdout",
     "output_type": "stream",
     "text": [
      "Variabity of accuracy: 0.0023\n"
     ]
    }
   ],
   "source": [
    "accuracy_best95 = accuracy[accuracy >np.percentile(accuracy, .05)].flatten()\n",
    "print(f'Variabity of accuracy: {np.std(accuracy_best95):.4f}')"
   ]
  },
  {
   "cell_type": "code",
   "execution_count": 18,
   "metadata": {
    "execution": {
     "iopub.execute_input": "2024-12-22T15:43:22.820879Z",
     "iopub.status.busy": "2024-12-22T15:43:22.820778Z",
     "iopub.status.idle": "2024-12-22T15:43:22.970626Z",
     "shell.execute_reply": "2024-12-22T15:43:22.970313Z"
    }
   },
   "outputs": [
    {
     "data": {
      "image/png": "[encoded data removed]",
      "text/plain": [
       "<Figure size 1000x618.034 with 1 Axes>"
      ]
     },
     "metadata": {},
     "output_type": "display_data"
    }
   ],
   "source": [
    "fig, ax = plt.subplots(figsize=figsize)\n",
    "ax.hist(accuracy_best95, bins=20, density=True)\n",
    "ax.set_title('Results for the LeNet model on the MNIST dataset')\n",
    "ax.set_xlabel('Accuracy')\n",
    "ax.set_xscale('logit')\n",
    "plt.xticks(rotation=30)\n",
    "ax.set_ylabel('Density')\n",
    "fig;"
   ]
  },
  {
   "cell_type": "markdown",
   "metadata": {},
   "source": [
    "Such that we can confidently say that we do not need a 3 digits initialization"
   ]
  },
  {
   "cell_type": "code",
   "execution_count": 19,
   "metadata": {
    "execution": {
     "iopub.execute_input": "2024-12-22T15:43:22.971984Z",
     "iopub.status.busy": "2024-12-22T15:43:22.971858Z",
     "iopub.status.idle": "2024-12-22T15:44:09.907690Z",
     "shell.execute_reply": "2024-12-22T15:44:09.907403Z"
    }
   },
   "outputs": [
    {
     "name": "stdout",
     "output_type": "stream",
     "text": [
      "accuracy=0.9909\n"
     ]
    }
   ],
   "source": [
    "accuracy = main(mean=0.5, std=0.5, verbose=False)\n",
    "print(f'{accuracy=:.4f}')"
   ]
  },
  {
   "cell_type": "markdown",
   "metadata": {},
   "source": [
    "## using optuna to search on a non-regular grid of values\n",
    "\n",
    "I'm now going to push the boat out further, using a library that allows me to test several values and thus optimize the parameters. If the mean and deviation are so important, we'll converge on a fixed set of values, whereas if they're less important, the values can be quite scattered. In particular, this will allow us to choose an arbitrary value, such as a mean of 0 and a standard deviation of 1, better known as *normal* normalization."
   ]
  },
  {
   "cell_type": "code",
   "execution_count": 20,
   "metadata": {
    "execution": {
     "iopub.execute_input": "2024-12-22T15:44:09.909004Z",
     "iopub.status.busy": "2024-12-22T15:44:09.908896Z",
     "iopub.status.idle": "2024-12-22T15:44:09.958676Z",
     "shell.execute_reply": "2024-12-22T15:44:09.958292Z"
    }
   },
   "outputs": [],
   "source": [
    "import optuna\n",
    "optuna.logging.set_verbosity(optuna.logging.WARNING)"
   ]
  },
  {
   "cell_type": "code",
   "execution_count": 21,
   "metadata": {
    "execution": {
     "iopub.execute_input": "2024-12-22T15:44:09.960039Z",
     "iopub.status.busy": "2024-12-22T15:44:09.959954Z",
     "iopub.status.idle": "2024-12-22T15:44:09.962201Z",
     "shell.execute_reply": "2024-12-22T15:44:09.961938Z"
    }
   },
   "outputs": [
    {
     "name": "stdout",
     "output_type": "stream",
     "text": [
      "-> file optuna-LeNet.sqlite3 exists: True\n"
     ]
    }
   ],
   "source": [
    "path_save_optuna =  f'optuna-{model}.sqlite3'\n",
    "print(f'-> file {path_save_optuna} exists: {os.path.isfile(path_save_optuna)}')"
   ]
  },
  {
   "cell_type": "code",
   "execution_count": 22,
   "metadata": {
    "execution": {
     "iopub.execute_input": "2024-12-22T15:44:09.963124Z",
     "iopub.status.busy": "2024-12-22T15:44:09.963045Z",
     "iopub.status.idle": "2024-12-22T15:44:09.964533Z",
     "shell.execute_reply": "2024-12-22T15:44:09.964287Z"
    }
   },
   "outputs": [],
   "source": [
    "n_trials = 200"
   ]
  },
  {
   "cell_type": "code",
   "execution_count": 23,
   "metadata": {
    "execution": {
     "iopub.execute_input": "2024-12-22T15:44:09.965392Z",
     "iopub.status.busy": "2024-12-22T15:44:09.965316Z",
     "iopub.status.idle": "2024-12-22T15:44:09.966607Z",
     "shell.execute_reply": "2024-12-22T15:44:09.966435Z"
    }
   },
   "outputs": [],
   "source": [
    "# %rm {path_save_optuna}"
   ]
  },
  {
   "cell_type": "code",
   "execution_count": 24,
   "metadata": {
    "execution": {
     "iopub.execute_input": "2024-12-22T15:44:09.967417Z",
     "iopub.status.busy": "2024-12-22T15:44:09.967348Z",
     "iopub.status.idle": "2024-12-22T15:44:10.234712Z",
     "shell.execute_reply": "2024-12-22T15:44:10.234366Z"
    }
   },
   "outputs": [
    {
     "name": "stdout",
     "output_type": "stream",
     "text": [
      "-.-.-.-.-.-.-.-.-.-.-.-.-.-.-.-.-.-.-.-.-.-.-.-.-.-.-.-.-.-.-.-.-.-.-.-.-.-.-.-.-.-.-.-.-.-.-.-.-.-.\n",
      "Best params:  {'mean': 0.1440116283993092, 'std': 0.5690034868978842}\n",
      "Best value:  0.9935\n",
      "==================================================\n"
     ]
    }
   ],
   "source": [
    "def objective(trial):\n",
    "    mean = trial.suggest_float('mean', -1, 2., log=False)\n",
    "    std = trial.suggest_float('std', 0.05, 1., log=True)\n",
    "    accuracy = main(mean=mean, std=std, epochs=epochs)\n",
    "    return accuracy\n",
    "\n",
    "study = optuna.create_study(direction='maximize', load_if_exists=True, \n",
    "                            storage=f\"sqlite:///{path_save_optuna}\", study_name=model)\n",
    "if len(study.get_trials())<n_trials:\n",
    "    study.optimize(objective, n_trials=n_trials-len(study.get_trials()), show_progress_bar=True)\n",
    "print(50*'-.')\n",
    "print(\"Best params: \", study.best_params)\n",
    "print(\"Best value: \", study.best_value)\n",
    "print(50*'=')"
   ]
  },
  {
   "cell_type": "code",
   "execution_count": 25,
   "metadata": {
    "execution": {
     "iopub.execute_input": "2024-12-22T15:44:10.236102Z",
     "iopub.status.busy": "2024-12-22T15:44:10.236017Z",
     "iopub.status.idle": "2024-12-22T15:44:10.506469Z",
     "shell.execute_reply": "2024-12-22T15:44:10.506049Z"
    }
   },
   "outputs": [
    {
     "name": "stderr",
     "output_type": "stream",
     "text": [
      "/tmp/ipykernel_478690/2318167149.py:4: ExperimentalWarning: plot_contour is experimental (supported from v2.2.0). The interface can change in the future.\n",
      "  ax = plot_contour(study, params=[\"mean\", \"std\"], target_name=\"Accuracy\")\n",
      "[W 2024-12-22 16:44:10,246] Output figures of this Matplotlib-based `plot_contour` function would be different from those of the Plotly-based `plot_contour`.\n"
     ]
    },
    {
     "data": {
      "image/png": "[encoded data removed]",
      "text/plain": [
       "<Figure size 1000x618.034 with 2 Axes>"
      ]
     },
     "metadata": {},
     "output_type": "display_data"
    }
   ],
   "source": [
    "# https://optuna.readthedocs.io/en/stable/reference/visualization/matplotlib/generated/optuna.visualization.matplotlib.contour.html\n",
    "from optuna.visualization.matplotlib import plot_contour\n",
    "\n",
    "ax = plot_contour(study, params=[\"mean\", \"std\"], target_name=\"Accuracy\")\n",
    "fig = plt.gcf()\n",
    "ax.set_title('Results for the LeNet model on the MNIST dataset')\n",
    "fig.set_size_inches(figsize[0], figsize[1])"
   ]
  },
  {
   "cell_type": "markdown",
   "metadata": {},
   "source": [
    "But wait, where do these values come from? How are layer weights and biases initialized by default?\n",
    "\n",
    "For [nn.Linear](https://pytorch.org/docs/stable/generated/torch.nn.Linear.html) and  [nn.conv2D](https://pytorch.org/docs/stable/generated/torch.ao.nn.quantized.Conv2d.html), the weights are initialized from $\\mathcal{U}(-\\sqrt{k}, \\sqrt{k})$, where $k = \\frac{1}{\\text{in\\_features}}$ for the linear layer and $k = \\frac{1}{C_\\text{in} * \\prod_{i=0}^{1}\\text{kernel\\_size}[i]}$.\n",
    "\n",
    "This is performed by [Glorot initialization](https://pytorch.org/docs/stable/nn.init.html#torch.nn.init.kaiming_uniform_) :\n"
   ]
  },
  {
   "cell_type": "code",
   "execution_count": 26,
   "metadata": {
    "execution": {
     "iopub.execute_input": "2024-12-22T15:44:10.507924Z",
     "iopub.status.busy": "2024-12-22T15:44:10.507742Z",
     "iopub.status.idle": "2024-12-22T15:44:10.510464Z",
     "shell.execute_reply": "2024-12-22T15:44:10.510282Z"
    }
   },
   "outputs": [
    {
     "name": "stdout",
     "output_type": "stream",
     "text": [
      "The mean of weight and bias in the first convolutional layer is 0.0212 and  0.0181\n",
      "The std of weight and bias in the first convolutional layer is 0.1869 and  0.1941\n",
      " k= 0.1111, sqrt(k) = 0.3333$\n"
     ]
    }
   ],
   "source": [
    "conv1 = nn.Conv2d(1, 32, 3, 1)\n",
    "print(f'The mean of weight and bias in the first convolutional layer is {conv1.weight.mean().item():.4f} and  {conv1.bias.mean().item():.4f}')\n",
    "print(f'The std of weight and bias in the first convolutional layer is {conv1.weight.std().item():.4f} and  {conv1.bias.std().item():.4f}')\n",
    "print(f' k= {1/3/3/1:.4f}, sqrt(k) = {np.sqrt(1/3/3/1):.4f}$')\n"
   ]
  },
  {
   "cell_type": "markdown",
   "metadata": {},
   "source": [
    "## using optuna to search for another initialization point\n"
   ]
  },
  {
   "cell_type": "markdown",
   "metadata": {},
   "source": [
    "But wait, where do these values come from? How are layer weights and biases initialized by default?\n",
    "\n",
    "For [nn.Linear](https://pytorch.org/docs/stable/generated/torch.nn.Linear.html) and  [nn.conv2D](https://pytorch.org/docs/stable/generated/torch.ao.nn.quantized.Conv2d.html), the weights and biases are initialized from $\\mathcal{U}(-\\sqrt{k}, \\sqrt{k})$, where $k = \\frac{1}{\\text{in\\_features}}$ for the linear layer and $k = \\frac{1}{C_\\text{in} * \\prod_{i=0}^{1}\\text{kernel\\_size}[i]}$.\n",
    "\n",
    "Let's see if for a given value of `mean=0` and `std=1`, we can optimize \n"
   ]
  },
  {
   "cell_type": "code",
   "execution_count": 27,
   "metadata": {
    "execution": {
     "iopub.execute_input": "2024-12-22T15:44:10.511948Z",
     "iopub.status.busy": "2024-12-22T15:44:10.511835Z",
     "iopub.status.idle": "2024-12-22T15:44:10.553012Z",
     "shell.execute_reply": "2024-12-22T15:44:10.552688Z"
    }
   },
   "outputs": [
    {
     "name": "stdout",
     "output_type": "stream",
     "text": [
      "-.-.-.-.-.-.-.-.-.-.-.-.-.-.-.-.-.-.-.-.-.-.-.-.-.-.-.-.-.-.-.-.-.-.-.-.-.-.-.-.-.-.-.-.-.-.-.-.-.-.\n",
      "Best params:  {'weight_init': 0.307155100974441, 'bias_init': 5.5455929037599185}\n",
      "Best value:  0.9941\n",
      "==================================================\n"
     ]
    }
   ],
   "source": [
    "def objective(trial):\n",
    "    weight_init = trial.suggest_float('weight_init', 0.05, 20., log=True)\n",
    "    bias_init = trial.suggest_float('bias_init', 0.05, 20., log=True)\n",
    "    accuracy = main(mean=-1, std=0.1, weight_init=weight_init, bias_init=bias_init, epochs=epochs)\n",
    "    return accuracy\n",
    "\n",
    "study = optuna.create_study(direction='maximize', load_if_exists=True, \n",
    "                            storage=f\"sqlite:///{path_save_optuna}\", study_name=model + '-init_WB')\n",
    "if len(study.get_trials())<n_trials:\n",
    "    study.optimize(objective, n_trials=n_trials-len(study.get_trials()), show_progress_bar=True)\n",
    "print(50*'-.')\n",
    "print(\"Best params: \", study.best_params)\n",
    "print(\"Best value: \", study.best_value)\n",
    "print(50*'=')"
   ]
  },
  {
   "cell_type": "markdown",
   "metadata": {},
   "source": [
    "# The ImageNet challenge and *residual networks* \n",
    "\n",
    "Second, let's tackle a real world problem: image classification with 1 million images and 1000 labels. For this we will use the well-known Resnet model defined in [Deep Residual Learning for Image Recognition](https://arxiv.org/abs/1512.03385) as it givves a nice balance between simplicity and performance. In general, [Residual neural networks](https://en.wikipedia.org/wiki/Residual_neural_network) are widely used architectures for feed-forward networks and \n",
    "\n",
    "The cell below allows you to do everything: first load the libraries, then define the neural network, and finally define the learning and testing procedures that are applied to the database. The output accuracy value corresponds to the percentage of images that are correctly classified. To simplify things, we will use pretrained weights and the retraining protocol which were used in [Jean-Nicolas Jérémie, Laurent U Perrinet (2023). Ultra-Fast Image Categorization in biology and in neural models.](https://laurentperrinet.github.io/publication/jeremie-23-ultra-fast-cat/) and available in the following code [UltraFastCat.ipynb](https://nbviewer.org/github/JNJER/2022-03_UltraFastCat/blob/main/UltraFastCat.ipynb)\n",
    "\n",
    "In this cell, we'll isolate the two parameters used to set the mean and standard deviation applied to the normalization function, which we'll be manipulating in the course of this book. Since we have colored images, that is, 3 channels, it means we manipulate 6 variables."
   ]
  },
  {
   "cell_type": "markdown",
   "metadata": {},
   "source": [
    "https://pytorch.org/hub/pytorch_vision_resnet/"
   ]
  },
  {
   "cell_type": "code",
   "execution_count": 28,
   "metadata": {
    "execution": {
     "iopub.execute_input": "2024-12-22T15:44:10.554560Z",
     "iopub.status.busy": "2024-12-22T15:44:10.554461Z",
     "iopub.status.idle": "2024-12-22T15:44:10.640912Z",
     "shell.execute_reply": "2024-12-22T15:44:10.640602Z"
    }
   },
   "outputs": [
    {
     "name": "stderr",
     "output_type": "stream",
     "text": [
      "Using cache found in /home/laurent/.cache/torch/hub/pytorch_vision_v0.10.0\n"
     ]
    },
    {
     "data": {
      "text/plain": [
       "ResNet(\n",
       "  (conv1): Conv2d(3, 64, kernel_size=(7, 7), stride=(2, 2), padding=(3, 3), bias=False)\n",
       "  (bn1): BatchNorm2d(64, eps=1e-05, momentum=0.1, affine=True, track_running_stats=True)\n",
       "  (relu): ReLU(inplace=True)\n",
       "  (maxpool): MaxPool2d(kernel_size=3, stride=2, padding=1, dilation=1, ceil_mode=False)\n",
       "  (layer1): Sequential(\n",
       "    (0): BasicBlock(\n",
       "      (conv1): Conv2d(64, 64, kernel_size=(3, 3), stride=(1, 1), padding=(1, 1), bias=False)\n",
       "      (bn1): BatchNorm2d(64, eps=1e-05, momentum=0.1, affine=True, track_running_stats=True)\n",
       "      (relu): ReLU(inplace=True)\n",
       "      (conv2): Conv2d(64, 64, kernel_size=(3, 3), stride=(1, 1), padding=(1, 1), bias=False)\n",
       "      (bn2): BatchNorm2d(64, eps=1e-05, momentum=0.1, affine=True, track_running_stats=True)\n",
       "    )\n",
       "    (1): BasicBlock(\n",
       "      (conv1): Conv2d(64, 64, kernel_size=(3, 3), stride=(1, 1), padding=(1, 1), bias=False)\n",
       "      (bn1): BatchNorm2d(64, eps=1e-05, momentum=0.1, affine=True, track_running_stats=True)\n",
       "      (relu): ReLU(inplace=True)\n",
       "      (conv2): Conv2d(64, 64, kernel_size=(3, 3), stride=(1, 1), padding=(1, 1), bias=False)\n",
       "      (bn2): BatchNorm2d(64, eps=1e-05, momentum=0.1, affine=True, track_running_stats=True)\n",
       "    )\n",
       "  )\n",
       "  (layer2): Sequential(\n",
       "    (0): BasicBlock(\n",
       "      (conv1): Conv2d(64, 128, kernel_size=(3, 3), stride=(2, 2), padding=(1, 1), bias=False)\n",
       "      (bn1): BatchNorm2d(128, eps=1e-05, momentum=0.1, affine=True, track_running_stats=True)\n",
       "      (relu): ReLU(inplace=True)\n",
       "      (conv2): Conv2d(128, 128, kernel_size=(3, 3), stride=(1, 1), padding=(1, 1), bias=False)\n",
       "      (bn2): BatchNorm2d(128, eps=1e-05, momentum=0.1, affine=True, track_running_stats=True)\n",
       "      (downsample): Sequential(\n",
       "        (0): Conv2d(64, 128, kernel_size=(1, 1), stride=(2, 2), bias=False)\n",
       "        (1): BatchNorm2d(128, eps=1e-05, momentum=0.1, affine=True, track_running_stats=True)\n",
       "      )\n",
       "    )\n",
       "    (1): BasicBlock(\n",
       "      (conv1): Conv2d(128, 128, kernel_size=(3, 3), stride=(1, 1), padding=(1, 1), bias=False)\n",
       "      (bn1): BatchNorm2d(128, eps=1e-05, momentum=0.1, affine=True, track_running_stats=True)\n",
       "      (relu): ReLU(inplace=True)\n",
       "      (conv2): Conv2d(128, 128, kernel_size=(3, 3), stride=(1, 1), padding=(1, 1), bias=False)\n",
       "      (bn2): BatchNorm2d(128, eps=1e-05, momentum=0.1, affine=True, track_running_stats=True)\n",
       "    )\n",
       "  )\n",
       "  (layer3): Sequential(\n",
       "    (0): BasicBlock(\n",
       "      (conv1): Conv2d(128, 256, kernel_size=(3, 3), stride=(2, 2), padding=(1, 1), bias=False)\n",
       "      (bn1): BatchNorm2d(256, eps=1e-05, momentum=0.1, affine=True, track_running_stats=True)\n",
       "      (relu): ReLU(inplace=True)\n",
       "      (conv2): Conv2d(256, 256, kernel_size=(3, 3), stride=(1, 1), padding=(1, 1), bias=False)\n",
       "      (bn2): BatchNorm2d(256, eps=1e-05, momentum=0.1, affine=True, track_running_stats=True)\n",
       "      (downsample): Sequential(\n",
       "        (0): Conv2d(128, 256, kernel_size=(1, 1), stride=(2, 2), bias=False)\n",
       "        (1): BatchNorm2d(256, eps=1e-05, momentum=0.1, affine=True, track_running_stats=True)\n",
       "      )\n",
       "    )\n",
       "    (1): BasicBlock(\n",
       "      (conv1): Conv2d(256, 256, kernel_size=(3, 3), stride=(1, 1), padding=(1, 1), bias=False)\n",
       "      (bn1): BatchNorm2d(256, eps=1e-05, momentum=0.1, affine=True, track_running_stats=True)\n",
       "      (relu): ReLU(inplace=True)\n",
       "      (conv2): Conv2d(256, 256, kernel_size=(3, 3), stride=(1, 1), padding=(1, 1), bias=False)\n",
       "      (bn2): BatchNorm2d(256, eps=1e-05, momentum=0.1, affine=True, track_running_stats=True)\n",
       "    )\n",
       "  )\n",
       "  (layer4): Sequential(\n",
       "    (0): BasicBlock(\n",
       "      (conv1): Conv2d(256, 512, kernel_size=(3, 3), stride=(2, 2), padding=(1, 1), bias=False)\n",
       "      (bn1): BatchNorm2d(512, eps=1e-05, momentum=0.1, affine=True, track_running_stats=True)\n",
       "      (relu): ReLU(inplace=True)\n",
       "      (conv2): Conv2d(512, 512, kernel_size=(3, 3), stride=(1, 1), padding=(1, 1), bias=False)\n",
       "      (bn2): BatchNorm2d(512, eps=1e-05, momentum=0.1, affine=True, track_running_stats=True)\n",
       "      (downsample): Sequential(\n",
       "        (0): Conv2d(256, 512, kernel_size=(1, 1), stride=(2, 2), bias=False)\n",
       "        (1): BatchNorm2d(512, eps=1e-05, momentum=0.1, affine=True, track_running_stats=True)\n",
       "      )\n",
       "    )\n",
       "    (1): BasicBlock(\n",
       "      (conv1): Conv2d(512, 512, kernel_size=(3, 3), stride=(1, 1), padding=(1, 1), bias=False)\n",
       "      (bn1): BatchNorm2d(512, eps=1e-05, momentum=0.1, affine=True, track_running_stats=True)\n",
       "      (relu): ReLU(inplace=True)\n",
       "      (conv2): Conv2d(512, 512, kernel_size=(3, 3), stride=(1, 1), padding=(1, 1), bias=False)\n",
       "      (bn2): BatchNorm2d(512, eps=1e-05, momentum=0.1, affine=True, track_running_stats=True)\n",
       "    )\n",
       "  )\n",
       "  (avgpool): AdaptiveAvgPool2d(output_size=(1, 1))\n",
       "  (fc): Linear(in_features=512, out_features=1000, bias=True)\n",
       ")"
      ]
     },
     "execution_count": 28,
     "metadata": {},
     "output_type": "execute_result"
    }
   ],
   "source": [
    "import torch\n",
    "from torchvision.models import ResNet18_Weights\n",
    "\n",
    "model = torch.hub.load('pytorch/vision:v0.10.0', 'resnet18', weights=ResNet18_Weights.DEFAULT)\n",
    "# or any of these variants 'resnet34', 'resnet50', 'resnet101', 'resnet152',\n",
    "model"
   ]
  },
  {
   "cell_type": "code",
   "execution_count": 29,
   "metadata": {
    "execution": {
     "iopub.execute_input": "2024-12-22T15:44:10.642105Z",
     "iopub.status.busy": "2024-12-22T15:44:10.641878Z",
     "iopub.status.idle": "2024-12-22T15:44:10.648170Z",
     "shell.execute_reply": "2024-12-22T15:44:10.647901Z"
    }
   },
   "outputs": [],
   "source": [
    "epochs = 1\n",
    "\n",
    "def train(model, device, train_loader, criterion, optimizer, epoch, log_interval=100, verbose=True):\n",
    "    model.train()\n",
    "    for batch_idx, (data, target) in enumerate(train_loader):\n",
    "        data, target = data.to(device), target.to(device)\n",
    "        optimizer.zero_grad()\n",
    "        output = model(data)\n",
    "        loss = criterion(output, target)\n",
    "        loss.backward()\n",
    "        optimizer.step()\n",
    "        if verbose and batch_idx % log_interval  == 0:\n",
    "            print('Train Epoch: {} [{}/{} ({:.0f}%)]\\tLoss: {:.6f}'.format(\n",
    "                epoch, batch_idx * len(data), len(train_loader.dataset),\n",
    "                100. * batch_idx / len(train_loader), loss.item()))\n",
    "\n",
    "\n",
    "def test(model, device, test_loader, verbose=True):\n",
    "    model.eval()\n",
    "    test_loss = 0\n",
    "    correct = 0\n",
    "    with torch.no_grad():\n",
    "        for data, target in test_loader:\n",
    "            data, target = data.to(device), target.to(device)\n",
    "            output = model(data)\n",
    "            pred = output.argmax(dim=1, keepdim=True)  # get the index of the max log-probability\n",
    "            correct += pred.eq(target.view_as(pred)).sum().item()\n",
    "\n",
    "\n",
    "    if verbose:\n",
    "        print('\\nTest set: Av Accuracy: {}/{} ({:.0f}%)\\n'.format(\n",
    "            correct, len(test_loader.dataset),\n",
    "            100. * correct / len(test_loader.dataset)))\n",
    "    return correct / len(test_loader.dataset)\n",
    "\n",
    "def main(mean_R, mean_G, mean_B, std_R, std_G, std_B, epochs=epochs, log_interval=100, verbose=False):\n",
    "    # Training settings\n",
    "    torch.manual_seed(1998) # FOOTIX rules !\n",
    "    train_kwargs = {'batch_size': 64}\n",
    "    test_kwargs = {'batch_size': 1000}\n",
    "    if torch.cuda.is_available():\n",
    "        device = torch.device(\"cuda\")\n",
    "        cuda_kwargs = {'num_workers': 1,\n",
    "                    #    'pin_memory': True,\n",
    "                       'shuffle': True}\n",
    "        train_kwargs.update(cuda_kwargs)\n",
    "        test_kwargs.update(cuda_kwargs)\n",
    "    elif torch.backends.mps.is_available():\n",
    "        device = torch.device(\"mps\")\n",
    "    else:\n",
    "        device = torch.device(\"cpu\")\n",
    "\n",
    "    transform = transforms.Compose([\n",
    "        transforms.Resize(256),\n",
    "        transforms.CenterCrop(224),\n",
    "        transforms.ToTensor(),\n",
    "        transforms.Normalize((mean_R, mean_G, mean_B), (std_R, std_G, std_B))\n",
    "        ])\n",
    "    \n",
    "    DATADIR = '../Deep_learning/data/Imagenet_redux'\n",
    "    DATADIR = '/home/laurent/app54_nextcloud/2024_archives/2024_science/Deep_learning/data/Imagenet_full'\n",
    "    train_loader = torch.utils.data.DataLoader(datasets.ImageFolder(DATADIR + '/train', transform=transform), **train_kwargs)\n",
    "    test_loader = torch.utils.data.DataLoader(datasets.ImageFolder(DATADIR + '/val', transform=transform), **test_kwargs)\n",
    "\n",
    "    model = torch.hub.load('pytorch/vision:v0.10.0', 'resnet18', weights=ResNet18_Weights.DEFAULT, verbose=False)\n",
    "    model = model.to(device)\n",
    "\n",
    "    # model.conv1.bias.data -= mean\n",
    "    # model.conv1.weight.data /= std\n",
    "\n",
    "    criterion = nn.CrossEntropyLoss()\n",
    "    # optimizer = optim.Adadelta(model.parameters(), lr=1.0)\n",
    "    optimizer = optim.SGD(model.parameters(), lr=0.01, momentum=0.9)\n",
    "\n",
    "    # scheduler = StepLR(optimizer, step_size=1, gamma=0.7)\n",
    "    scheduler = ReduceLROnPlateau(optimizer, 'min')\n",
    "    for epoch in range(1, epochs):\n",
    "        train(model, device, train_loader, criterion, optimizer, epoch, log_interval=log_interval, verbose=verbose)\n",
    "        scheduler.step()\n",
    "\n",
    "    accuracy = test(model, device, test_loader, verbose=verbose)\n",
    "    return accuracy"
   ]
  },
  {
   "cell_type": "markdown",
   "metadata": {},
   "source": [
    "\n",
    "Now that we've defined the entire protocol, we can test it in its most classic form, as delivered in the original code by 6 numbers with 3 digits precision:"
   ]
  },
  {
   "cell_type": "code",
   "execution_count": 30,
   "metadata": {
    "execution": {
     "iopub.execute_input": "2024-12-22T15:44:10.649374Z",
     "iopub.status.busy": "2024-12-22T15:44:10.649227Z",
     "iopub.status.idle": "2024-12-22T15:56:23.478178Z",
     "shell.execute_reply": "2024-12-22T15:56:23.477691Z"
    }
   },
   "outputs": [
    {
     "name": "stdout",
     "output_type": "stream",
     "text": [
      "accuracy=0.6976\n"
     ]
    }
   ],
   "source": [
    "accuracy = main(0.485, 0.456, 0.406, 0.229, 0.224, 0.225)\n",
    "print(f'{accuracy=:.4f}')"
   ]
  },
  {
   "cell_type": "markdown",
   "metadata": {},
   "source": [
    "What does it yield with normal parameters?"
   ]
  },
  {
   "cell_type": "code",
   "execution_count": 31,
   "metadata": {
    "execution": {
     "iopub.execute_input": "2024-12-22T15:56:23.479644Z",
     "iopub.status.busy": "2024-12-22T15:56:23.479532Z",
     "iopub.status.idle": "2024-12-22T15:58:40.096099Z",
     "shell.execute_reply": "2024-12-22T15:58:40.095687Z"
    }
   },
   "outputs": [
    {
     "name": "stdout",
     "output_type": "stream",
     "text": [
      "accuracy=0.4482\n"
     ]
    }
   ],
   "source": [
    "accuracy = main(0., 0., 0., 1., 1., 1.)\n",
    "print(f'{accuracy=:.4f}')"
   ]
  },
  {
   "cell_type": "markdown",
   "metadata": {},
   "source": [
    "Let's scan the parameters:"
   ]
  },
  {
   "cell_type": "code",
   "execution_count": 32,
   "metadata": {
    "execution": {
     "iopub.execute_input": "2024-12-22T15:58:40.097485Z",
     "iopub.status.busy": "2024-12-22T15:58:40.097363Z",
     "iopub.status.idle": "2024-12-22T15:58:40.099247Z",
     "shell.execute_reply": "2024-12-22T15:58:40.099008Z"
    }
   },
   "outputs": [],
   "source": [
    "model = 'ResNet'"
   ]
  },
  {
   "cell_type": "code",
   "execution_count": 33,
   "metadata": {
    "execution": {
     "iopub.execute_input": "2024-12-22T15:58:40.100218Z",
     "iopub.status.busy": "2024-12-22T15:58:40.100094Z",
     "iopub.status.idle": "2024-12-23T00:31:00.052335Z",
     "shell.execute_reply": "2024-12-23T00:31:00.051865Z"
    }
   },
   "outputs": [],
   "source": [
    "N_scan = 15\n",
    "means = np.linspace(-3, 3, N_scan, endpoint=True)\n",
    "stds = np.geomspace(0.05, 1., N_scan, endpoint=True)\n",
    "\n",
    "path_save_numpy =  f'numpy-{model}.npy'\n",
    "if not(os.path.isfile(path_save_numpy)):\n",
    "    accuracy = np.empty((N_scan, N_scan))\n",
    "    for i_mean, mean in enumerate(means):\n",
    "        for i_std, std in enumerate(stds):\n",
    "            accuracy[i_mean, i_std] = main(mean, mean, mean, std, std, std, epochs=epochs)\n",
    "\n",
    "    np.save(path_save_numpy, accuracy)\n",
    "else:\n",
    "    accuracy = np.load(path_save_numpy)"
   ]
  },
  {
   "cell_type": "code",
   "execution_count": 34,
   "metadata": {
    "execution": {
     "iopub.execute_input": "2024-12-23T00:31:00.054246Z",
     "iopub.status.busy": "2024-12-23T00:31:00.054041Z",
     "iopub.status.idle": "2024-12-23T00:31:00.257119Z",
     "shell.execute_reply": "2024-12-23T00:31:00.256801Z"
    }
   },
   "outputs": [
    {
     "data": {
      "image/png": "[encoded data removed]",
      "text/plain": [
       "<Figure size 1000x618.034 with 2 Axes>"
      ]
     },
     "metadata": {},
     "output_type": "display_data"
    }
   ],
   "source": [
    "fig, ax = plt.subplots(figsize=figsize)\n",
    "pcm = ax.contourf(means, stds, accuracy, cmap='hot')\n",
    "fig.colorbar(pcm, ax=ax)\n",
    "ax.set_title('Results for the ResNet model on the ImageNet dataset')\n",
    "ax.set_xlabel('mean')\n",
    "ax.set_ylabel('std')\n",
    "fig;"
   ]
  },
  {
   "cell_type": "markdown",
   "metadata": {},
   "source": [
    "And now with optuna:"
   ]
  },
  {
   "cell_type": "code",
   "execution_count": 35,
   "metadata": {
    "execution": {
     "iopub.execute_input": "2024-12-23T00:31:00.258590Z",
     "iopub.status.busy": "2024-12-23T00:31:00.258469Z",
     "iopub.status.idle": "2024-12-23T00:31:00.260075Z",
     "shell.execute_reply": "2024-12-23T00:31:00.259844Z"
    }
   },
   "outputs": [],
   "source": [
    "path_save_optuna =  f'optuna-{model}.sqlite3'"
   ]
  },
  {
   "cell_type": "code",
   "execution_count": 36,
   "metadata": {
    "execution": {
     "iopub.execute_input": "2024-12-23T00:31:00.261380Z",
     "iopub.status.busy": "2024-12-23T00:31:00.261275Z",
     "iopub.status.idle": "2024-12-23T00:31:00.262646Z",
     "shell.execute_reply": "2024-12-23T00:31:00.262407Z"
    }
   },
   "outputs": [],
   "source": [
    "# %rm {path_save_optuna}"
   ]
  },
  {
   "cell_type": "code",
   "execution_count": 37,
   "metadata": {
    "execution": {
     "iopub.execute_input": "2024-12-23T00:31:00.263780Z",
     "iopub.status.busy": "2024-12-23T00:31:00.263668Z",
     "iopub.status.idle": "2024-12-23T08:08:17.683717Z",
     "shell.execute_reply": "2024-12-23T08:08:17.683343Z"
    }
   },
   "outputs": [
    {
     "data": {
      "application/vnd.jupyter.widget-view+json": {
       "model_id": "b2a7fe484294475d958d0b83613eabd4",
       "version_major": 2,
       "version_minor": 0
      },
      "text/plain": [
       "  0%|          | 0/200 [00:00<?, ?it/s]"
      ]
     },
     "metadata": {},
     "output_type": "display_data"
    },
    {
     "name": "stdout",
     "output_type": "stream",
     "text": [
      "-.-.-.-.-.-.-.-.-.-.-.-.-.-.-.-.-.-.-.-.-.-.-.-.-.-.-.-.-.-.-.-.-.-.-.-.-.-.-.-.-.-.-.-.-.-.-.-.-.-.\n",
      "Best params:  {'mean': 0.46812841381944315, 'std': 0.23841314189679977}\n",
      "Best value:  0.69396\n",
      "==================================================\n"
     ]
    }
   ],
   "source": [
    "def objective(trial):\n",
    "    mean = trial.suggest_float('mean', -1, 2., log=False)\n",
    "    std = trial.suggest_float('std', 0.05, 1., log=True)\n",
    "    accuracy = main(mean, mean, mean, std, std, std, epochs=epochs)\n",
    "    return accuracy\n",
    "\n",
    "study = optuna.create_study(direction='maximize', load_if_exists=True, \n",
    "                            storage=f\"sqlite:///{path_save_optuna}\", study_name=model)\n",
    "if len(study.get_trials())<n_trials:\n",
    "    study.optimize(objective, n_trials=n_trials-len(study.get_trials()), show_progress_bar=True)\n",
    "print(50*'-.')\n",
    "print(\"Best params: \", study.best_params)\n",
    "print(\"Best value: \", study.best_value)\n",
    "print(50*'=')"
   ]
  },
  {
   "cell_type": "code",
   "execution_count": 38,
   "metadata": {
    "execution": {
     "iopub.execute_input": "2024-12-23T08:08:17.685059Z",
     "iopub.status.busy": "2024-12-23T08:08:17.684968Z",
     "iopub.status.idle": "2024-12-23T08:08:17.700887Z",
     "shell.execute_reply": "2024-12-23T08:08:17.700696Z"
    }
   },
   "outputs": [
    {
     "data": {
      "text/plain": [
       "([FrozenTrial(number=0, state=1, values=[0.00108], datetime_start=datetime.datetime(2024, 12, 23, 1, 31, 1, 981894), datetime_complete=datetime.datetime(2024, 12, 23, 1, 33, 20, 38512), params={'mean': 1.890147130268288, 'std': 0.2345417909999651}, user_attrs={}, system_attrs={}, intermediate_values={}, distributions={'mean': FloatDistribution(high=2.0, log=False, low=-1.0, step=None), 'std': FloatDistribution(high=1.0, log=True, low=0.05, step=None)}, trial_id=1, value=None),\n",
       "  FrozenTrial(number=1, state=1, values=[0.00308], datetime_start=datetime.datetime(2024, 12, 23, 1, 33, 20, 424251), datetime_complete=datetime.datetime(2024, 12, 23, 1, 35, 37, 574964), params={'mean': 1.0071701056187639, 'std': 0.09583538858954481}, user_attrs={}, system_attrs={}, intermediate_values={}, distributions={'mean': FloatDistribution(high=2.0, log=False, low=-1.0, step=None), 'std': FloatDistribution(high=1.0, log=True, low=0.05, step=None)}, trial_id=2, value=None),\n",
       "  FrozenTrial(number=2, state=1, values=[0.0014], datetime_start=datetime.datetime(2024, 12, 23, 1, 35, 37, 961727), datetime_complete=datetime.datetime(2024, 12, 23, 1, 37, 54, 771166), params={'mean': -0.33119560871291176, 'std': 0.10153337099526198}, user_attrs={}, system_attrs={}, intermediate_values={}, distributions={'mean': FloatDistribution(high=2.0, log=False, low=-1.0, step=None), 'std': FloatDistribution(high=1.0, log=True, low=0.05, step=None)}, trial_id=3, value=None),\n",
       "  FrozenTrial(number=3, state=1, values=[0.11324], datetime_start=datetime.datetime(2024, 12, 23, 1, 37, 55, 150917), datetime_complete=datetime.datetime(2024, 12, 23, 1, 40, 12, 79779), params={'mean': 0.6094750417390009, 'std': 0.09739109173502601}, user_attrs={}, system_attrs={}, intermediate_values={}, distributions={'mean': FloatDistribution(high=2.0, log=False, low=-1.0, step=None), 'std': FloatDistribution(high=1.0, log=True, low=0.05, step=None)}, trial_id=4, value=None),\n",
       "  FrozenTrial(number=4, state=1, values=[0.0025], datetime_start=datetime.datetime(2024, 12, 23, 1, 40, 12, 457650), datetime_complete=datetime.datetime(2024, 12, 23, 1, 42, 29, 673615), params={'mean': 0.012942614806624064, 'std': 0.0780487523081367}, user_attrs={}, system_attrs={}, intermediate_values={}, distributions={'mean': FloatDistribution(high=2.0, log=False, low=-1.0, step=None), 'std': FloatDistribution(high=1.0, log=True, low=0.05, step=None)}, trial_id=5, value=None),\n",
       "  FrozenTrial(number=5, state=1, values=[0.42262], datetime_start=datetime.datetime(2024, 12, 23, 1, 42, 30, 55276), datetime_complete=datetime.datetime(2024, 12, 23, 1, 44, 46, 53693), params={'mean': -0.43342124539358684, 'std': 0.4075694900041798}, user_attrs={}, system_attrs={}, intermediate_values={}, distributions={'mean': FloatDistribution(high=2.0, log=False, low=-1.0, step=None), 'std': FloatDistribution(high=1.0, log=True, low=0.05, step=None)}, trial_id=6, value=None),\n",
       "  FrozenTrial(number=6, state=1, values=[0.26838], datetime_start=datetime.datetime(2024, 12, 23, 1, 44, 46, 128132), datetime_complete=datetime.datetime(2024, 12, 23, 1, 47, 2, 960437), params={'mean': 1.909114646523396, 'std': 0.6218534781332444}, user_attrs={}, system_attrs={}, intermediate_values={}, distributions={'mean': FloatDistribution(high=2.0, log=False, low=-1.0, step=None), 'std': FloatDistribution(high=1.0, log=True, low=0.05, step=None)}, trial_id=7, value=None),\n",
       "  FrozenTrial(number=7, state=1, values=[0.00784], datetime_start=datetime.datetime(2024, 12, 23, 1, 47, 3, 334596), datetime_complete=datetime.datetime(2024, 12, 23, 1, 49, 20, 509129), params={'mean': 1.590500970164054, 'std': 0.28546104384541665}, user_attrs={}, system_attrs={}, intermediate_values={}, distributions={'mean': FloatDistribution(high=2.0, log=False, low=-1.0, step=None), 'std': FloatDistribution(high=1.0, log=True, low=0.05, step=None)}, trial_id=8, value=None),\n",
       "  FrozenTrial(number=8, state=1, values=[0.17362], datetime_start=datetime.datetime(2024, 12, 23, 1, 49, 20, 883829), datetime_complete=datetime.datetime(2024, 12, 23, 1, 51, 38, 542739), params={'mean': 0.7595648590111277, 'std': 0.14580586437752616}, user_attrs={}, system_attrs={}, intermediate_values={}, distributions={'mean': FloatDistribution(high=2.0, log=False, low=-1.0, step=None), 'std': FloatDistribution(high=1.0, log=True, low=0.05, step=None)}, trial_id=9, value=None),\n",
       "  FrozenTrial(number=9, state=1, values=[0.00114], datetime_start=datetime.datetime(2024, 12, 23, 1, 51, 38, 921902), datetime_complete=datetime.datetime(2024, 12, 23, 1, 53, 56, 634803), params={'mean': -0.6064016691405535, 'std': 0.05223744729889683}, user_attrs={}, system_attrs={}, intermediate_values={}, distributions={'mean': FloatDistribution(high=2.0, log=False, low=-1.0, step=None), 'std': FloatDistribution(high=1.0, log=True, low=0.05, step=None)}, trial_id=10, value=None),\n",
       "  FrozenTrial(number=10, state=1, values=[0.41038], datetime_start=datetime.datetime(2024, 12, 23, 1, 53, 56, 711147), datetime_complete=datetime.datetime(2024, 12, 23, 1, 56, 14, 278494), params={'mean': -0.8427263066919162, 'std': 0.9305626511356069}, user_attrs={}, system_attrs={}, intermediate_values={}, distributions={'mean': FloatDistribution(high=2.0, log=False, low=-1.0, step=None), 'std': FloatDistribution(high=1.0, log=True, low=0.05, step=None)}, trial_id=11, value=None),\n",
       "  FrozenTrial(number=11, state=1, values=[0.40894], datetime_start=datetime.datetime(2024, 12, 23, 1, 56, 14, 366684), datetime_complete=datetime.datetime(2024, 12, 23, 1, 58, 31, 70924), params={'mean': -0.7310935635489075, 'std': 0.968345618002939}, user_attrs={}, system_attrs={}, intermediate_values={}, distributions={'mean': FloatDistribution(high=2.0, log=False, low=-1.0, step=None), 'std': FloatDistribution(high=1.0, log=True, low=0.05, step=None)}, trial_id=12, value=None),\n",
       "  FrozenTrial(number=12, state=1, values=[0.03406], datetime_start=datetime.datetime(2024, 12, 23, 1, 58, 31, 164199), datetime_complete=datetime.datetime(2024, 12, 23, 2, 0, 47, 765005), params={'mean': -0.934499097928696, 'std': 0.43638141574388795}, user_attrs={}, system_attrs={}, intermediate_values={}, distributions={'mean': FloatDistribution(high=2.0, log=False, low=-1.0, step=None), 'std': FloatDistribution(high=1.0, log=True, low=0.05, step=None)}, trial_id=13, value=None),\n",
       "  FrozenTrial(number=13, state=1, values=[0.4585], datetime_start=datetime.datetime(2024, 12, 23, 2, 0, 47, 853566), datetime_complete=datetime.datetime(2024, 12, 23, 2, 3, 4, 971883), params={'mean': 0.07859404648704804, 'std': 0.9823697622080754}, user_attrs={}, system_attrs={}, intermediate_values={}, distributions={'mean': FloatDistribution(high=2.0, log=False, low=-1.0, step=None), 'std': FloatDistribution(high=1.0, log=True, low=0.05, step=None)}, trial_id=14, value=None),\n",
       "  FrozenTrial(number=14, state=1, values=[0.6227], datetime_start=datetime.datetime(2024, 12, 23, 2, 3, 5, 59070), datetime_complete=datetime.datetime(2024, 12, 23, 2, 5, 21, 805891), params={'mean': 0.06246301073078697, 'std': 0.41391203107072283}, user_attrs={}, system_attrs={}, intermediate_values={}, distributions={'mean': FloatDistribution(high=2.0, log=False, low=-1.0, step=None), 'std': FloatDistribution(high=1.0, log=True, low=0.05, step=None)}, trial_id=15, value=None),\n",
       "  FrozenTrial(number=15, state=1, values=[0.57264], datetime_start=datetime.datetime(2024, 12, 23, 2, 5, 21, 881956), datetime_complete=datetime.datetime(2024, 12, 23, 2, 7, 38, 925948), params={'mean': 0.16319515807468638, 'std': 0.6075605314841974}, user_attrs={}, system_attrs={}, intermediate_values={}, distributions={'mean': FloatDistribution(high=2.0, log=False, low=-1.0, step=None), 'std': FloatDistribution(high=1.0, log=True, low=0.05, step=None)}, trial_id=16, value=None),\n",
       "  FrozenTrial(number=16, state=1, values=[0.58232], datetime_start=datetime.datetime(2024, 12, 23, 2, 7, 39, 4470), datetime_complete=datetime.datetime(2024, 12, 23, 2, 9, 55, 215367), params={'mean': 0.14090512429092417, 'std': 0.566904940526958}, user_attrs={}, system_attrs={}, intermediate_values={}, distributions={'mean': FloatDistribution(high=2.0, log=False, low=-1.0, step=None), 'std': FloatDistribution(high=1.0, log=True, low=0.05, step=None)}, trial_id=17, value=None),\n",
       "  FrozenTrial(number=17, state=1, values=[0.58578], datetime_start=datetime.datetime(2024, 12, 23, 2, 9, 55, 293760), datetime_complete=datetime.datetime(2024, 12, 23, 2, 12, 11, 48247), params={'mean': 1.0555068670500254, 'std': 0.38092835010708764}, user_attrs={}, system_attrs={}, intermediate_values={}, distributions={'mean': FloatDistribution(high=2.0, log=False, low=-1.0, step=None), 'std': FloatDistribution(high=1.0, log=True, low=0.05, step=None)}, trial_id=18, value=None),\n",
       "  FrozenTrial(number=18, state=1, values=[0.18866], datetime_start=datetime.datetime(2024, 12, 23, 2, 12, 11, 125126), datetime_complete=datetime.datetime(2024, 12, 23, 2, 14, 28, 497759), params={'mean': 1.2408181831101202, 'std': 0.31711652039503574}, user_attrs={}, system_attrs={}, intermediate_values={}, distributions={'mean': FloatDistribution(high=2.0, log=False, low=-1.0, step=None), 'std': FloatDistribution(high=1.0, log=True, low=0.05, step=None)}, trial_id=19, value=None),\n",
       "  FrozenTrial(number=19, state=1, values=[0.02102], datetime_start=datetime.datetime(2024, 12, 23, 2, 14, 28, 564121), datetime_complete=datetime.datetime(2024, 12, 23, 2, 16, 44, 699745), params={'mean': 1.1689968720323511, 'std': 0.19629412951324382}, user_attrs={}, system_attrs={}, intermediate_values={}, distributions={'mean': FloatDistribution(high=2.0, log=False, low=-1.0, step=None), 'std': FloatDistribution(high=1.0, log=True, low=0.05, step=None)}, trial_id=20, value=None),\n",
       "  FrozenTrial(number=20, state=1, values=[0.64712], datetime_start=datetime.datetime(2024, 12, 23, 2, 16, 44, 771452), datetime_complete=datetime.datetime(2024, 12, 23, 2, 19, 1, 815383), params={'mean': 0.3926056356439165, 'std': 0.16288757529346135}, user_attrs={}, system_attrs={}, intermediate_values={}, distributions={'mean': FloatDistribution(high=2.0, log=False, low=-1.0, step=None), 'std': FloatDistribution(high=1.0, log=True, low=0.05, step=None)}, trial_id=21, value=None),\n",
       "  FrozenTrial(number=21, state=1, values=[0.66622], datetime_start=datetime.datetime(2024, 12, 23, 2, 19, 1, 909641), datetime_complete=datetime.datetime(2024, 12, 23, 2, 21, 19, 321122), params={'mean': 0.42122154865149647, 'std': 0.16921042843820913}, user_attrs={}, system_attrs={}, intermediate_values={}, distributions={'mean': FloatDistribution(high=2.0, log=False, low=-1.0, step=None), 'std': FloatDistribution(high=1.0, log=True, low=0.05, step=None)}, trial_id=22, value=None),\n",
       "  FrozenTrial(number=22, state=1, values=[0.6487], datetime_start=datetime.datetime(2024, 12, 23, 2, 21, 19, 390164), datetime_complete=datetime.datetime(2024, 12, 23, 2, 23, 37, 37866), params={'mean': 0.3948479751060748, 'std': 0.1631952690431246}, user_attrs={}, system_attrs={}, intermediate_values={}, distributions={'mean': FloatDistribution(high=2.0, log=False, low=-1.0, step=None), 'std': FloatDistribution(high=1.0, log=True, low=0.05, step=None)}, trial_id=23, value=None),\n",
       "  FrozenTrial(number=23, state=1, values=[0.63658], datetime_start=datetime.datetime(2024, 12, 23, 2, 23, 37, 128729), datetime_complete=datetime.datetime(2024, 12, 23, 2, 25, 54, 275132), params={'mean': 0.390495056673787, 'std': 0.158357489961347}, user_attrs={}, system_attrs={}, intermediate_values={}, distributions={'mean': FloatDistribution(high=2.0, log=False, low=-1.0, step=None), 'std': FloatDistribution(high=1.0, log=True, low=0.05, step=None)}, trial_id=24, value=None),\n",
       "  FrozenTrial(number=24, state=1, values=[0.57766], datetime_start=datetime.datetime(2024, 12, 23, 2, 25, 54, 344256), datetime_complete=datetime.datetime(2024, 12, 23, 2, 28, 11, 473322), params={'mean': 0.41144680271803885, 'std': 0.13959845790780515}, user_attrs={}, system_attrs={}, intermediate_values={}, distributions={'mean': FloatDistribution(high=2.0, log=False, low=-1.0, step=None), 'std': FloatDistribution(high=1.0, log=True, low=0.05, step=None)}, trial_id=25, value=None),\n",
       "  FrozenTrial(number=25, state=1, values=[0.5487], datetime_start=datetime.datetime(2024, 12, 23, 2, 28, 11, 565483), datetime_complete=datetime.datetime(2024, 12, 23, 2, 30, 29, 138379), params={'mean': 0.6985270150075126, 'std': 0.20174471416400655}, user_attrs={}, system_attrs={}, intermediate_values={}, distributions={'mean': FloatDistribution(high=2.0, log=False, low=-1.0, step=None), 'std': FloatDistribution(high=1.0, log=True, low=0.05, step=None)}, trial_id=26, value=None),\n",
       "  FrozenTrial(number=26, state=1, values=[0.00372], datetime_start=datetime.datetime(2024, 12, 23, 2, 30, 29, 229465), datetime_complete=datetime.datetime(2024, 12, 23, 2, 32, 45, 385157), params={'mean': -0.1304187578658954, 'std': 0.1266698919593359}, user_attrs={}, system_attrs={}, intermediate_values={}, distributions={'mean': FloatDistribution(high=2.0, log=False, low=-1.0, step=None), 'std': FloatDistribution(high=1.0, log=True, low=0.05, step=None)}, trial_id=27, value=None),\n",
       "  FrozenTrial(number=27, state=1, values=[0.65846], datetime_start=datetime.datetime(2024, 12, 23, 2, 32, 45, 477475), datetime_complete=datetime.datetime(2024, 12, 23, 2, 35, 3, 110070), params={'mean': 0.37017004594518527, 'std': 0.17399349986031187}, user_attrs={}, system_attrs={}, intermediate_values={}, distributions={'mean': FloatDistribution(high=2.0, log=False, low=-1.0, step=None), 'std': FloatDistribution(high=1.0, log=True, low=0.05, step=None)}, trial_id=28, value=None),\n",
       "  FrozenTrial(number=28, state=1, values=[0.48786], datetime_start=datetime.datetime(2024, 12, 23, 2, 35, 3, 193095), datetime_complete=datetime.datetime(2024, 12, 23, 2, 37, 20, 757658), params={'mean': 0.8699839657386179, 'std': 0.25372537587499083}, user_attrs={}, system_attrs={}, intermediate_values={}, distributions={'mean': FloatDistribution(high=2.0, log=False, low=-1.0, step=None), 'std': FloatDistribution(high=1.0, log=True, low=0.05, step=None)}, trial_id=29, value=None),\n",
       "  FrozenTrial(number=29, state=1, values=[0.00442], datetime_start=datetime.datetime(2024, 12, 23, 2, 37, 20, 830374), datetime_complete=datetime.datetime(2024, 12, 23, 2, 39, 38, 175963), params={'mean': 1.4462154129170428, 'std': 0.22069948329427586}, user_attrs={}, system_attrs={}, intermediate_values={}, distributions={'mean': FloatDistribution(high=2.0, log=False, low=-1.0, step=None), 'std': FloatDistribution(high=1.0, log=True, low=0.05, step=None)}, trial_id=30, value=None),\n",
       "  FrozenTrial(number=30, state=1, values=[0.00138], datetime_start=datetime.datetime(2024, 12, 23, 2, 39, 38, 246310), datetime_complete=datetime.datetime(2024, 12, 23, 2, 41, 54, 940018), params={'mean': -0.17829457174463487, 'std': 0.06583947878435238}, user_attrs={}, system_attrs={}, intermediate_values={}, distributions={'mean': FloatDistribution(high=2.0, log=False, low=-1.0, step=None), 'std': FloatDistribution(high=1.0, log=True, low=0.05, step=None)}, trial_id=31, value=None),\n",
       "  FrozenTrial(number=31, state=1, values=[0.63998], datetime_start=datetime.datetime(2024, 12, 23, 2, 41, 55, 25239), datetime_complete=datetime.datetime(2024, 12, 23, 2, 44, 11, 602389), params={'mean': 0.3759608754919163, 'std': 0.16299374323852614}, user_attrs={}, system_attrs={}, intermediate_values={}, distributions={'mean': FloatDistribution(high=2.0, log=False, low=-1.0, step=None), 'std': FloatDistribution(high=1.0, log=True, low=0.05, step=None)}, trial_id=32, value=None),\n",
       "  FrozenTrial(number=32, state=1, values=[0.36894], datetime_start=datetime.datetime(2024, 12, 23, 2, 44, 11, 681415), datetime_complete=datetime.datetime(2024, 12, 23, 2, 46, 28, 406245), params={'mean': 0.5041396137766105, 'std': 0.11539660065889659}, user_attrs={}, system_attrs={}, intermediate_values={}, distributions={'mean': FloatDistribution(high=2.0, log=False, low=-1.0, step=None), 'std': FloatDistribution(high=1.0, log=True, low=0.05, step=None)}, trial_id=33, value=None),\n",
       "  FrozenTrial(number=33, state=1, values=[0.60298], datetime_start=datetime.datetime(2024, 12, 23, 2, 46, 28, 487224), datetime_complete=datetime.datetime(2024, 12, 23, 2, 48, 46, 244839), params={'mean': 0.29540525352610425, 'std': 0.17439425795993213}, user_attrs={}, system_attrs={}, intermediate_values={}, distributions={'mean': FloatDistribution(high=2.0, log=False, low=-1.0, step=None), 'std': FloatDistribution(high=1.0, log=True, low=0.05, step=None)}, trial_id=34, value=None),\n",
       "  FrozenTrial(number=34, state=1, values=[0.1998], datetime_start=datetime.datetime(2024, 12, 23, 2, 48, 46, 317853), datetime_complete=datetime.datetime(2024, 12, 23, 2, 51, 2, 573041), params={'mean': 0.5966249280429174, 'std': 0.10870831925150275}, user_attrs={}, system_attrs={}, intermediate_values={}, distributions={'mean': FloatDistribution(high=2.0, log=False, low=-1.0, step=None), 'std': FloatDistribution(high=1.0, log=True, low=0.05, step=None)}, trial_id=35, value=None),\n",
       "  FrozenTrial(number=35, state=1, values=[0.008], datetime_start=datetime.datetime(2024, 12, 23, 2, 51, 2, 650357), datetime_complete=datetime.datetime(2024, 12, 23, 2, 53, 20, 504414), params={'mean': 0.8582433569070436, 'std': 0.0872773197134316}, user_attrs={}, system_attrs={}, intermediate_values={}, distributions={'mean': FloatDistribution(high=2.0, log=False, low=-1.0, step=None), 'std': FloatDistribution(high=1.0, log=True, low=0.05, step=None)}, trial_id=36, value=None),\n",
       "  FrozenTrial(number=36, state=1, values=[0.05206], datetime_start=datetime.datetime(2024, 12, 23, 2, 53, 20, 596065), datetime_complete=datetime.datetime(2024, 12, 23, 2, 55, 37, 181665), params={'mean': -0.3084731489730051, 'std': 0.2508386506686759}, user_attrs={}, system_attrs={}, intermediate_values={}, distributions={'mean': FloatDistribution(high=2.0, log=False, low=-1.0, step=None), 'std': FloatDistribution(high=1.0, log=True, low=0.05, step=None)}, trial_id=37, value=None),\n",
       "  FrozenTrial(number=37, state=1, values=[0.5869], datetime_start=datetime.datetime(2024, 12, 23, 2, 55, 37, 277322), datetime_complete=datetime.datetime(2024, 12, 23, 2, 57, 54, 592799), params={'mean': 0.2534660899290997, 'std': 0.18447566145803426}, user_attrs={}, system_attrs={}, intermediate_values={}, distributions={'mean': FloatDistribution(high=2.0, log=False, low=-1.0, step=None), 'std': FloatDistribution(high=1.0, log=True, low=0.05, step=None)}, trial_id=38, value=None),\n",
       "  FrozenTrial(number=38, state=1, values=[0.48154], datetime_start=datetime.datetime(2024, 12, 23, 2, 57, 54, 659330), datetime_complete=datetime.datetime(2024, 12, 23, 3, 0, 10, 928436), params={'mean': -0.1495547615416744, 'std': 0.31176782870726}, user_attrs={}, system_attrs={}, intermediate_values={}, distributions={'mean': FloatDistribution(high=2.0, log=False, low=-1.0, step=None), 'std': FloatDistribution(high=1.0, log=True, low=0.05, step=None)}, trial_id=39, value=None),\n",
       "  FrozenTrial(number=39, state=1, values=[0.05244], datetime_start=datetime.datetime(2024, 12, 23, 3, 0, 11, 23757), datetime_complete=datetime.datetime(2024, 12, 23, 3, 2, 28, 171268), params={'mean': 0.5758267294515932, 'std': 0.08077578012498009}, user_attrs={}, system_attrs={}, intermediate_values={}, distributions={'mean': FloatDistribution(high=2.0, log=False, low=-1.0, step=None), 'std': FloatDistribution(high=1.0, log=True, low=0.05, step=None)}, trial_id=40, value=None),\n",
       "  FrozenTrial(number=40, state=1, values=[0.03716], datetime_start=datetime.datetime(2024, 12, 23, 3, 2, 28, 254481), datetime_complete=datetime.datetime(2024, 12, 23, 3, 4, 45, 271979), params={'mean': 0.8711569273394622, 'std': 0.12920625700667152}, user_attrs={}, system_attrs={}, intermediate_values={}, distributions={'mean': FloatDistribution(high=2.0, log=False, low=-1.0, step=None), 'std': FloatDistribution(high=1.0, log=True, low=0.05, step=None)}, trial_id=41, value=None),\n",
       "  FrozenTrial(number=41, state=1, values=[0.6503], datetime_start=datetime.datetime(2024, 12, 23, 3, 4, 45, 360353), datetime_complete=datetime.datetime(2024, 12, 23, 3, 7, 1, 384618), params={'mean': 0.39949331929864795, 'std': 0.1630469071121648}, user_attrs={}, system_attrs={}, intermediate_values={}, distributions={'mean': FloatDistribution(high=2.0, log=False, low=-1.0, step=None), 'std': FloatDistribution(high=1.0, log=True, low=0.05, step=None)}, trial_id=42, value=None),\n",
       "  FrozenTrial(number=42, state=1, values=[0.65384], datetime_start=datetime.datetime(2024, 12, 23, 3, 7, 1, 473790), datetime_complete=datetime.datetime(2024, 12, 23, 3, 9, 18, 584494), params={'mean': 0.2584951759783555, 'std': 0.21775107136806574}, user_attrs={}, system_attrs={}, intermediate_values={}, distributions={'mean': FloatDistribution(high=2.0, log=False, low=-1.0, step=None), 'std': FloatDistribution(high=1.0, log=True, low=0.05, step=None)}, trial_id=43, value=None),\n",
       "  FrozenTrial(number=43, state=1, values=[0.6476], datetime_start=datetime.datetime(2024, 12, 23, 3, 9, 18, 663908), datetime_complete=datetime.datetime(2024, 12, 23, 3, 11, 34, 259655), params={'mean': 0.2406522074715461, 'std': 0.22143998461580586}, user_attrs={}, system_attrs={}, intermediate_values={}, distributions={'mean': FloatDistribution(high=2.0, log=False, low=-1.0, step=None), 'std': FloatDistribution(high=1.0, log=True, low=0.05, step=None)}, trial_id=44, value=None),\n",
       "  FrozenTrial(number=44, state=1, values=[0.6586], datetime_start=datetime.datetime(2024, 12, 23, 3, 11, 34, 335542), datetime_complete=datetime.datetime(2024, 12, 23, 3, 13, 52, 34158), params={'mean': 0.7058913389813126, 'std': 0.2648628680144454}, user_attrs={}, system_attrs={}, intermediate_values={}, distributions={'mean': FloatDistribution(high=2.0, log=False, low=-1.0, step=None), 'std': FloatDistribution(high=1.0, log=True, low=0.05, step=None)}, trial_id=45, value=None),\n",
       "  FrozenTrial(number=45, state=1, values=[0.66546], datetime_start=datetime.datetime(2024, 12, 23, 3, 13, 52, 124683), datetime_complete=datetime.datetime(2024, 12, 23, 3, 16, 10, 491311), params={'mean': 0.7089822356704716, 'std': 0.2776435901338029}, user_attrs={}, system_attrs={}, intermediate_values={}, distributions={'mean': FloatDistribution(high=2.0, log=False, low=-1.0, step=None), 'std': FloatDistribution(high=1.0, log=True, low=0.05, step=None)}, trial_id=46, value=None),\n",
       "  FrozenTrial(number=46, state=1, values=[0.68176], datetime_start=datetime.datetime(2024, 12, 23, 3, 16, 10, 588363), datetime_complete=datetime.datetime(2024, 12, 23, 3, 18, 27, 919594), params={'mean': 0.644471252312405, 'std': 0.2872500164852449}, user_attrs={}, system_attrs={}, intermediate_values={}, distributions={'mean': FloatDistribution(high=2.0, log=False, low=-1.0, step=None), 'std': FloatDistribution(high=1.0, log=True, low=0.05, step=None)}, trial_id=47, value=None),\n",
       "  FrozenTrial(number=47, state=1, values=[0.67834], datetime_start=datetime.datetime(2024, 12, 23, 3, 18, 27, 985328), datetime_complete=datetime.datetime(2024, 12, 23, 3, 20, 45, 428504), params={'mean': 0.6660019202284849, 'std': 0.2849115514960054}, user_attrs={}, system_attrs={}, intermediate_values={}, distributions={'mean': FloatDistribution(high=2.0, log=False, low=-1.0, step=None), 'std': FloatDistribution(high=1.0, log=True, low=0.05, step=None)}, trial_id=48, value=None),\n",
       "  FrozenTrial(number=48, state=1, values=[0.67836], datetime_start=datetime.datetime(2024, 12, 23, 3, 20, 45, 524666), datetime_complete=datetime.datetime(2024, 12, 23, 3, 23, 2, 914316), params={'mean': 0.6854271374234528, 'std': 0.3487610024718989}, user_attrs={}, system_attrs={}, intermediate_values={}, distributions={'mean': FloatDistribution(high=2.0, log=False, low=-1.0, step=None), 'std': FloatDistribution(high=1.0, log=True, low=0.05, step=None)}, trial_id=49, value=None),\n",
       "  FrozenTrial(number=49, state=1, values=[0.65132], datetime_start=datetime.datetime(2024, 12, 23, 3, 23, 3, 5400), datetime_complete=datetime.datetime(2024, 12, 23, 3, 25, 20, 347812), params={'mean': 1.033914673210236, 'std': 0.49166811519481696}, user_attrs={}, system_attrs={}, intermediate_values={}, distributions={'mean': FloatDistribution(high=2.0, log=False, low=-1.0, step=None), 'std': FloatDistribution(high=1.0, log=True, low=0.05, step=None)}, trial_id=50, value=None),\n",
       "  FrozenTrial(number=50, state=1, values=[0.22984], datetime_start=datetime.datetime(2024, 12, 23, 3, 25, 20, 427864), datetime_complete=datetime.datetime(2024, 12, 23, 3, 27, 37, 758497), params={'mean': 1.2956529560533452, 'std': 0.3516438938949111}, user_attrs={}, system_attrs={}, intermediate_values={}, distributions={'mean': FloatDistribution(high=2.0, log=False, low=-1.0, step=None), 'std': FloatDistribution(high=1.0, log=True, low=0.05, step=None)}, trial_id=51, value=None),\n",
       "  FrozenTrial(number=51, state=1, values=[0.66164], datetime_start=datetime.datetime(2024, 12, 23, 3, 27, 37, 835024), datetime_complete=datetime.datetime(2024, 12, 23, 3, 29, 55, 382070), params={'mean': 0.7138866865880386, 'std': 0.2741940364209949}, user_attrs={}, system_attrs={}, intermediate_values={}, distributions={'mean': FloatDistribution(high=2.0, log=False, low=-1.0, step=None), 'std': FloatDistribution(high=1.0, log=True, low=0.05, step=None)}, trial_id=52, value=None),\n",
       "  FrozenTrial(number=52, state=1, values=[0.65114], datetime_start=datetime.datetime(2024, 12, 23, 3, 29, 55, 472207), datetime_complete=datetime.datetime(2024, 12, 23, 3, 32, 13, 15566), params={'mean': 0.777188438494356, 'std': 0.2958849438530389}, user_attrs={}, system_attrs={}, intermediate_values={}, distributions={'mean': FloatDistribution(high=2.0, log=False, low=-1.0, step=None), 'std': FloatDistribution(high=1.0, log=True, low=0.05, step=None)}, trial_id=53, value=None),\n",
       "  FrozenTrial(number=53, state=1, values=[0.60344], datetime_start=datetime.datetime(2024, 12, 23, 3, 32, 13, 111608), datetime_complete=datetime.datetime(2024, 12, 23, 3, 34, 30, 215468), params={'mean': 0.9576628812156172, 'std': 0.3443289052749453}, user_attrs={}, system_attrs={}, intermediate_values={}, distributions={'mean': FloatDistribution(high=2.0, log=False, low=-1.0, step=None), 'std': FloatDistribution(high=1.0, log=True, low=0.05, step=None)}, trial_id=54, value=None),\n",
       "  FrozenTrial(number=54, state=1, values=[0.64664], datetime_start=datetime.datetime(2024, 12, 23, 3, 34, 30, 292256), datetime_complete=datetime.datetime(2024, 12, 23, 3, 36, 46, 308601), params={'mean': 0.6431237786720614, 'std': 0.4988751909876381}, user_attrs={}, system_attrs={}, intermediate_values={}, distributions={'mean': FloatDistribution(high=2.0, log=False, low=-1.0, step=None), 'std': FloatDistribution(high=1.0, log=True, low=0.05, step=None)}, trial_id=55, value=None),\n",
       "  FrozenTrial(number=55, state=1, values=[0.6885], datetime_start=datetime.datetime(2024, 12, 23, 3, 36, 46, 390166), datetime_complete=datetime.datetime(2024, 12, 23, 3, 39, 2, 887584), params={'mean': 0.5680857924693465, 'std': 0.27313263342652966}, user_attrs={}, system_attrs={}, intermediate_values={}, distributions={'mean': FloatDistribution(high=2.0, log=False, low=-1.0, step=None), 'std': FloatDistribution(high=1.0, log=True, low=0.05, step=None)}, trial_id=56, value=None),\n",
       "  FrozenTrial(number=56, state=1, values=[0.67894], datetime_start=datetime.datetime(2024, 12, 23, 3, 39, 2, 971167), datetime_complete=datetime.datetime(2024, 12, 23, 3, 41, 19, 706910), params={'mean': 0.5472625798955939, 'std': 0.34504552046347087}, user_attrs={}, system_attrs={}, intermediate_values={}, distributions={'mean': FloatDistribution(high=2.0, log=False, low=-1.0, step=None), 'std': FloatDistribution(high=1.0, log=True, low=0.05, step=None)}, trial_id=57, value=None),\n",
       "  FrozenTrial(number=57, state=1, values=[0.6683], datetime_start=datetime.datetime(2024, 12, 23, 3, 41, 19, 808613), datetime_complete=datetime.datetime(2024, 12, 23, 3, 43, 36, 903396), params={'mean': 0.5112249007699066, 'std': 0.3830874059676417}, user_attrs={}, system_attrs={}, intermediate_values={}, distributions={'mean': FloatDistribution(high=2.0, log=False, low=-1.0, step=None), 'std': FloatDistribution(high=1.0, log=True, low=0.05, step=None)}, trial_id=58, value=None),\n",
       "  FrozenTrial(number=58, state=1, values=[0.65684], datetime_start=datetime.datetime(2024, 12, 23, 3, 43, 36, 985190), datetime_complete=datetime.datetime(2024, 12, 23, 3, 45, 54, 594296), params={'mean': 0.5690540831362915, 'std': 0.4438058418648105}, user_attrs={}, system_attrs={}, intermediate_values={}, distributions={'mean': FloatDistribution(high=2.0, log=False, low=-1.0, step=None), 'std': FloatDistribution(high=1.0, log=True, low=0.05, step=None)}, trial_id=59, value=None),\n",
       "  FrozenTrial(number=59, state=1, values=[0.0294], datetime_start=datetime.datetime(2024, 12, 23, 3, 45, 54, 688158), datetime_complete=datetime.datetime(2024, 12, 23, 3, 48, 13, 154791), params={'mean': 1.7039357111020188, 'std': 0.380458682478987}, user_attrs={}, system_attrs={}, intermediate_values={}, distributions={'mean': FloatDistribution(high=2.0, log=False, low=-1.0, step=None), 'std': FloatDistribution(high=1.0, log=True, low=0.05, step=None)}, trial_id=60, value=None),\n",
       "  FrozenTrial(number=60, state=1, values=[0.4013], datetime_start=datetime.datetime(2024, 12, 23, 3, 48, 13, 243272), datetime_complete=datetime.datetime(2024, 12, 23, 3, 50, 30, 635763), params={'mean': 1.1327393343622283, 'std': 0.3371218576582114}, user_attrs={}, system_attrs={}, intermediate_values={}, distributions={'mean': FloatDistribution(high=2.0, log=False, low=-1.0, step=None), 'std': FloatDistribution(high=1.0, log=True, low=0.05, step=None)}, trial_id=61, value=None),\n",
       "  FrozenTrial(number=61, state=1, values=[0.566], datetime_start=datetime.datetime(2024, 12, 23, 3, 50, 30, 709895), datetime_complete=datetime.datetime(2024, 12, 23, 3, 52, 47, 952376), params={'mean': 0.5042147578987788, 'std': 0.7291009437601512}, user_attrs={}, system_attrs={}, intermediate_values={}, distributions={'mean': FloatDistribution(high=2.0, log=False, low=-1.0, step=None), 'std': FloatDistribution(high=1.0, log=True, low=0.05, step=None)}, trial_id=62, value=None),\n",
       "  FrozenTrial(number=62, state=1, values=[0.66806], datetime_start=datetime.datetime(2024, 12, 23, 3, 52, 48, 54778), datetime_complete=datetime.datetime(2024, 12, 23, 3, 55, 4, 342657), params={'mean': 0.8300041281187102, 'std': 0.38202548650365714}, user_attrs={}, system_attrs={}, intermediate_values={}, distributions={'mean': FloatDistribution(high=2.0, log=False, low=-1.0, step=None), 'std': FloatDistribution(high=1.0, log=True, low=0.05, step=None)}, trial_id=63, value=None),\n",
       "  FrozenTrial(number=63, state=1, values=[0.6697], datetime_start=datetime.datetime(2024, 12, 23, 3, 55, 4, 413554), datetime_complete=datetime.datetime(2024, 12, 23, 3, 57, 20, 539164), params={'mean': 0.8128905261114358, 'std': 0.38004915383301374}, user_attrs={}, system_attrs={}, intermediate_values={}, distributions={'mean': FloatDistribution(high=2.0, log=False, low=-1.0, step=None), 'std': FloatDistribution(high=1.0, log=True, low=0.05, step=None)}, trial_id=64, value=None),\n",
       "  FrozenTrial(number=64, state=1, values=[0.65734], datetime_start=datetime.datetime(2024, 12, 23, 3, 57, 20, 625300), datetime_complete=datetime.datetime(2024, 12, 23, 3, 59, 37, 472449), params={'mean': 0.9646605560711394, 'std': 0.471620443914274}, user_attrs={}, system_attrs={}, intermediate_values={}, distributions={'mean': FloatDistribution(high=2.0, log=False, low=-1.0, step=None), 'std': FloatDistribution(high=1.0, log=True, low=0.05, step=None)}, trial_id=65, value=None),\n",
       "  FrozenTrial(number=65, state=1, values=[0.62732], datetime_start=datetime.datetime(2024, 12, 23, 3, 59, 37, 572938), datetime_complete=datetime.datetime(2024, 12, 23, 4, 1, 54, 917105), params={'mean': 0.5736926898319983, 'std': 0.54960690715218}, user_attrs={}, system_attrs={}, intermediate_values={}, distributions={'mean': FloatDistribution(high=2.0, log=False, low=-1.0, step=None), 'std': FloatDistribution(high=1.0, log=True, low=0.05, step=None)}, trial_id=66, value=None),\n",
       "  FrozenTrial(number=66, state=1, values=[0.65352], datetime_start=datetime.datetime(2024, 12, 23, 4, 1, 54, 989515), datetime_complete=datetime.datetime(2024, 12, 23, 4, 4, 12, 265989), params={'mean': 0.15582277998223748, 'std': 0.30705971328985904}, user_attrs={}, system_attrs={}, intermediate_values={}, distributions={'mean': FloatDistribution(high=2.0, log=False, low=-1.0, step=None), 'std': FloatDistribution(high=1.0, log=True, low=0.05, step=None)}, trial_id=67, value=None),\n",
       "  FrozenTrial(number=67, state=1, values=[0.66986], datetime_start=datetime.datetime(2024, 12, 23, 4, 4, 12, 359415), datetime_complete=datetime.datetime(2024, 12, 23, 4, 6, 29, 152205), params={'mean': 0.7792037221586678, 'std': 0.41191666752236283}, user_attrs={}, system_attrs={}, intermediate_values={}, distributions={'mean': FloatDistribution(high=2.0, log=False, low=-1.0, step=None), 'std': FloatDistribution(high=1.0, log=True, low=0.05, step=None)}, trial_id=68, value=None),\n",
       "  FrozenTrial(number=68, state=1, values=[0.66094], datetime_start=datetime.datetime(2024, 12, 23, 4, 6, 29, 532712), datetime_complete=datetime.datetime(2024, 12, 23, 4, 8, 46, 323737), params={'mean': 0.927363039953275, 'std': 0.4319137272245187}, user_attrs={}, system_attrs={}, intermediate_values={}, distributions={'mean': FloatDistribution(high=2.0, log=False, low=-1.0, step=None), 'std': FloatDistribution(high=1.0, log=True, low=0.05, step=None)}, trial_id=69, value=None),\n",
       "  FrozenTrial(number=69, state=1, values=[0.12768], datetime_start=datetime.datetime(2024, 12, 23, 4, 8, 46, 713699), datetime_complete=datetime.datetime(2024, 12, 23, 4, 11, 4, 286756), params={'mean': 1.111391316089437, 'std': 0.24859781538772738}, user_attrs={}, system_attrs={}, intermediate_values={}, distributions={'mean': FloatDistribution(high=2.0, log=False, low=-1.0, step=None), 'std': FloatDistribution(high=1.0, log=True, low=0.05, step=None)}, trial_id=70, value=None),\n",
       "  FrozenTrial(number=70, state=1, values=[0.66744], datetime_start=datetime.datetime(2024, 12, 23, 4, 11, 4, 670335), datetime_complete=datetime.datetime(2024, 12, 23, 4, 13, 22, 340345), params={'mean': 0.7863659469183497, 'std': 0.3357049589207894}, user_attrs={}, system_attrs={}, intermediate_values={}, distributions={'mean': FloatDistribution(high=2.0, log=False, low=-1.0, step=None), 'std': FloatDistribution(high=1.0, log=True, low=0.05, step=None)}, trial_id=71, value=None),\n",
       "  FrozenTrial(number=71, state=1, values=[0.6707], datetime_start=datetime.datetime(2024, 12, 23, 4, 13, 22, 721192), datetime_complete=datetime.datetime(2024, 12, 23, 4, 15, 40, 562750), params={'mean': 0.48232632578848306, 'std': 0.3642376618992915}, user_attrs={}, system_attrs={}, intermediate_values={}, distributions={'mean': FloatDistribution(high=2.0, log=False, low=-1.0, step=None), 'std': FloatDistribution(high=1.0, log=True, low=0.05, step=None)}, trial_id=72, value=None),\n",
       "  FrozenTrial(number=72, state=1, values=[0.66816], datetime_start=datetime.datetime(2024, 12, 23, 4, 15, 40, 949308), datetime_complete=datetime.datetime(2024, 12, 23, 4, 17, 58, 529449), params={'mean': 0.6394014972015926, 'std': 0.40851212492678757}, user_attrs={}, system_attrs={}, intermediate_values={}, distributions={'mean': FloatDistribution(high=2.0, log=False, low=-1.0, step=None), 'std': FloatDistribution(high=1.0, log=True, low=0.05, step=None)}, trial_id=73, value=None),\n",
       "  FrozenTrial(number=73, state=1, values=[0.61864], datetime_start=datetime.datetime(2024, 12, 23, 4, 17, 58, 629964), datetime_complete=datetime.datetime(2024, 12, 23, 4, 20, 16, 534418), params={'mean': -0.022373358969989265, 'std': 0.35995758596908295}, user_attrs={}, system_attrs={}, intermediate_values={}, distributions={'mean': FloatDistribution(high=2.0, log=False, low=-1.0, step=None), 'std': FloatDistribution(high=1.0, log=True, low=0.05, step=None)}, trial_id=74, value=None),\n",
       "  FrozenTrial(number=74, state=1, values=[0.68522], datetime_start=datetime.datetime(2024, 12, 23, 4, 20, 17, 118462), datetime_complete=datetime.datetime(2024, 12, 23, 4, 22, 34, 547909), params={'mean': 0.49391851213263693, 'std': 0.29623329928209513}, user_attrs={}, system_attrs={}, intermediate_values={}, distributions={'mean': FloatDistribution(high=2.0, log=False, low=-1.0, step=None), 'std': FloatDistribution(high=1.0, log=True, low=0.05, step=None)}, trial_id=75, value=None),\n",
       "  FrozenTrial(number=75, state=1, values=[0.68126], datetime_start=datetime.datetime(2024, 12, 23, 4, 22, 34, 927522), datetime_complete=datetime.datetime(2024, 12, 23, 4, 24, 52, 284487), params={'mean': 0.4463092516267315, 'std': 0.3069462695929224}, user_attrs={}, system_attrs={}, intermediate_values={}, distributions={'mean': FloatDistribution(high=2.0, log=False, low=-1.0, step=None), 'std': FloatDistribution(high=1.0, log=True, low=0.05, step=None)}, trial_id=76, value=None),\n",
       "  FrozenTrial(number=76, state=1, values=[0.69396], datetime_start=datetime.datetime(2024, 12, 23, 4, 24, 52, 667203), datetime_complete=datetime.datetime(2024, 12, 23, 4, 27, 10, 11138), params={'mean': 0.46812841381944315, 'std': 0.23841314189679977}, user_attrs={}, system_attrs={}, intermediate_values={}, distributions={'mean': FloatDistribution(high=2.0, log=False, low=-1.0, step=None), 'std': FloatDistribution(high=1.0, log=True, low=0.05, step=None)}, trial_id=77, value=None),\n",
       "  FrozenTrial(number=77, state=1, values=[0.69372], datetime_start=datetime.datetime(2024, 12, 23, 4, 27, 10, 395747), datetime_complete=datetime.datetime(2024, 12, 23, 4, 29, 27, 458772), params={'mean': 0.4711162336770114, 'std': 0.24058915621636787}, user_attrs={}, system_attrs={}, intermediate_values={}, distributions={'mean': FloatDistribution(high=2.0, log=False, low=-1.0, step=None), 'std': FloatDistribution(high=1.0, log=True, low=0.05, step=None)}, trial_id=78, value=None),\n",
       "  FrozenTrial(number=78, state=1, values=[0.66816], datetime_start=datetime.datetime(2024, 12, 23, 4, 29, 27, 838665), datetime_complete=datetime.datetime(2024, 12, 23, 4, 31, 45, 566028), params={'mean': 0.3132633779302793, 'std': 0.20651275650543008}, user_attrs={}, system_attrs={}, intermediate_values={}, distributions={'mean': FloatDistribution(high=2.0, log=False, low=-1.0, step=None), 'std': FloatDistribution(high=1.0, log=True, low=0.05, step=None)}, trial_id=79, value=None),\n",
       "  FrozenTrial(number=79, state=1, values=[0.48886], datetime_start=datetime.datetime(2024, 12, 23, 4, 31, 45, 958420), datetime_complete=datetime.datetime(2024, 12, 23, 4, 34, 3, 402636), params={'mean': 0.05522445561228523, 'std': 0.23288032311165663}, user_attrs={}, system_attrs={}, intermediate_values={}, distributions={'mean': FloatDistribution(high=2.0, log=False, low=-1.0, step=None), 'std': FloatDistribution(high=1.0, log=True, low=0.05, step=None)}, trial_id=80, value=None),\n",
       "  FrozenTrial(number=80, state=1, values=[0.6933], datetime_start=datetime.datetime(2024, 12, 23, 4, 34, 3, 789444), datetime_complete=datetime.datetime(2024, 12, 23, 4, 36, 20, 725738), params={'mean': 0.4849189077932565, 'std': 0.24148664274784803}, user_attrs={}, system_attrs={}, intermediate_values={}, distributions={'mean': FloatDistribution(high=2.0, log=False, low=-1.0, step=None), 'std': FloatDistribution(high=1.0, log=True, low=0.05, step=None)}, trial_id=81, value=None),\n",
       "  FrozenTrial(number=81, state=1, values=[0.69376], datetime_start=datetime.datetime(2024, 12, 23, 4, 36, 20, 828773), datetime_complete=datetime.datetime(2024, 12, 23, 4, 38, 37, 514652), params={'mean': 0.4721171154274557, 'std': 0.242289311181108}, user_attrs={}, system_attrs={}, intermediate_values={}, distributions={'mean': FloatDistribution(high=2.0, log=False, low=-1.0, step=None), 'std': FloatDistribution(high=1.0, log=True, low=0.05, step=None)}, trial_id=82, value=None),\n",
       "  FrozenTrial(number=82, state=1, values=[0.68554], datetime_start=datetime.datetime(2024, 12, 23, 4, 38, 37, 601345), datetime_complete=datetime.datetime(2024, 12, 23, 4, 40, 55, 147636), params={'mean': 0.474534084472127, 'std': 0.19443496950010408}, user_attrs={}, system_attrs={}, intermediate_values={}, distributions={'mean': FloatDistribution(high=2.0, log=False, low=-1.0, step=None), 'std': FloatDistribution(high=1.0, log=True, low=0.05, step=None)}, trial_id=83, value=None),\n",
       "  FrozenTrial(number=83, state=1, values=[0.54578], datetime_start=datetime.datetime(2024, 12, 23, 4, 40, 55, 223796), datetime_complete=datetime.datetime(2024, 12, 23, 4, 43, 13, 29158), params={'mean': 0.20917173524343413, 'std': 0.18918806512444059}, user_attrs={}, system_attrs={}, intermediate_values={}, distributions={'mean': FloatDistribution(high=2.0, log=False, low=-1.0, step=None), 'std': FloatDistribution(high=1.0, log=True, low=0.05, step=None)}, trial_id=84, value=None),\n",
       "  FrozenTrial(number=84, state=1, values=[0.69328], datetime_start=datetime.datetime(2024, 12, 23, 4, 43, 13, 121181), datetime_complete=datetime.datetime(2024, 12, 23, 4, 45, 31, 74935), params={'mean': 0.4481516613899924, 'std': 0.23938017758728555}, user_attrs={}, system_attrs={}, intermediate_values={}, distributions={'mean': FloatDistribution(high=2.0, log=False, low=-1.0, step=None), 'std': FloatDistribution(high=1.0, log=True, low=0.05, step=None)}, trial_id=85, value=None),\n",
       "  FrozenTrial(number=85, state=1, values=[0.6826], datetime_start=datetime.datetime(2024, 12, 23, 4, 45, 31, 168079), datetime_complete=datetime.datetime(2024, 12, 23, 4, 47, 49, 132608), params={'mean': 0.32930771394712977, 'std': 0.24227913633513012}, user_attrs={}, system_attrs={}, intermediate_values={}, distributions={'mean': FloatDistribution(high=2.0, log=False, low=-1.0, step=None), 'std': FloatDistribution(high=1.0, log=True, low=0.05, step=None)}, trial_id=86, value=None),\n",
       "  FrozenTrial(number=86, state=1, values=[0.68122], datetime_start=datetime.datetime(2024, 12, 23, 4, 47, 49, 223672), datetime_complete=datetime.datetime(2024, 12, 23, 4, 50, 6, 770730), params={'mean': 0.32155295118600535, 'std': 0.24159718200863226}, user_attrs={}, system_attrs={}, intermediate_values={}, distributions={'mean': FloatDistribution(high=2.0, log=False, low=-1.0, step=None), 'std': FloatDistribution(high=1.0, log=True, low=0.05, step=None)}, trial_id=87, value=None),\n",
       "  FrozenTrial(number=87, state=1, values=[0.489], datetime_start=datetime.datetime(2024, 12, 23, 4, 50, 6, 870782), datetime_complete=datetime.datetime(2024, 12, 23, 4, 52, 23, 323421), params={'mean': -0.01788913217554844, 'std': 0.26125308616607257}, user_attrs={}, system_attrs={}, intermediate_values={}, distributions={'mean': FloatDistribution(high=2.0, log=False, low=-1.0, step=None), 'std': FloatDistribution(high=1.0, log=True, low=0.05, step=None)}, trial_id=88, value=None),\n",
       "  FrozenTrial(number=88, state=1, values=[0.48444], datetime_start=datetime.datetime(2024, 12, 23, 4, 52, 23, 404513), datetime_complete=datetime.datetime(2024, 12, 23, 4, 54, 38, 883635), params={'mean': 0.12662809951805387, 'std': 0.20509470808628855}, user_attrs={}, system_attrs={}, intermediate_values={}, distributions={'mean': FloatDistribution(high=2.0, log=False, low=-1.0, step=None), 'std': FloatDistribution(high=1.0, log=True, low=0.05, step=None)}, trial_id=89, value=None),\n",
       "  FrozenTrial(number=89, state=1, values=[0.66284], datetime_start=datetime.datetime(2024, 12, 23, 4, 54, 38, 975053), datetime_complete=datetime.datetime(2024, 12, 23, 4, 56, 56, 147048), params={'mean': 0.34977316235777745, 'std': 0.18493908862200426}, user_attrs={}, system_attrs={}, intermediate_values={}, distributions={'mean': FloatDistribution(high=2.0, log=False, low=-1.0, step=None), 'std': FloatDistribution(high=1.0, log=True, low=0.05, step=None)}, trial_id=90, value=None),\n",
       "  FrozenTrial(number=90, state=1, values=[0.69328], datetime_start=datetime.datetime(2024, 12, 23, 4, 56, 56, 239155), datetime_complete=datetime.datetime(2024, 12, 23, 4, 59, 13, 469898), params={'mean': 0.48084858314736917, 'std': 0.23059511118775836}, user_attrs={}, system_attrs={}, intermediate_values={}, distributions={'mean': FloatDistribution(high=2.0, log=False, low=-1.0, step=None), 'std': FloatDistribution(high=1.0, log=True, low=0.05, step=None)}, trial_id=91, value=None),\n",
       "  FrozenTrial(number=91, state=1, values=[0.69378], datetime_start=datetime.datetime(2024, 12, 23, 4, 59, 13, 561529), datetime_complete=datetime.datetime(2024, 12, 23, 5, 1, 31, 153711), params={'mean': 0.4545562096878705, 'std': 0.22996873300140203}, user_attrs={}, system_attrs={}, intermediate_values={}, distributions={'mean': FloatDistribution(high=2.0, log=False, low=-1.0, step=None), 'std': FloatDistribution(high=1.0, log=True, low=0.05, step=None)}, trial_id=92, value=None),\n",
       "  FrozenTrial(number=92, state=1, values=[0.69338], datetime_start=datetime.datetime(2024, 12, 23, 5, 1, 31, 258757), datetime_complete=datetime.datetime(2024, 12, 23, 5, 3, 48, 252200), params={'mean': 0.4430213362488017, 'std': 0.22612856566472742}, user_attrs={}, system_attrs={}, intermediate_values={}, distributions={'mean': FloatDistribution(high=2.0, log=False, low=-1.0, step=None), 'std': FloatDistribution(high=1.0, log=True, low=0.05, step=None)}, trial_id=93, value=None),\n",
       "  FrozenTrial(number=93, state=1, values=[0.69372], datetime_start=datetime.datetime(2024, 12, 23, 5, 3, 48, 347986), datetime_complete=datetime.datetime(2024, 12, 23, 5, 6, 4, 821770), params={'mean': 0.4611160050315828, 'std': 0.22105028443654173}, user_attrs={}, system_attrs={}, intermediate_values={}, distributions={'mean': FloatDistribution(high=2.0, log=False, low=-1.0, step=None), 'std': FloatDistribution(high=1.0, log=True, low=0.05, step=None)}, trial_id=94, value=None),\n",
       "  FrozenTrial(number=94, state=1, values=[0.61536], datetime_start=datetime.datetime(2024, 12, 23, 5, 6, 4, 903861), datetime_complete=datetime.datetime(2024, 12, 23, 5, 8, 22, 770358), params={'mean': 0.4037017712425067, 'std': 0.1492521035598871}, user_attrs={}, system_attrs={}, intermediate_values={}, distributions={'mean': FloatDistribution(high=2.0, log=False, low=-1.0, step=None), 'std': FloatDistribution(high=1.0, log=True, low=0.05, step=None)}, trial_id=95, value=None),\n",
       "  FrozenTrial(number=95, state=1, values=[0.67192], datetime_start=datetime.datetime(2024, 12, 23, 5, 8, 22, 868210), datetime_complete=datetime.datetime(2024, 12, 23, 5, 10, 40, 422639), params={'mean': 0.5980405318341138, 'std': 0.22654486415443162}, user_attrs={}, system_attrs={}, intermediate_values={}, distributions={'mean': FloatDistribution(high=2.0, log=False, low=-1.0, step=None), 'std': FloatDistribution(high=1.0, log=True, low=0.05, step=None)}, trial_id=96, value=None),\n",
       "  FrozenTrial(number=96, state=1, values=[0.6519], datetime_start=datetime.datetime(2024, 12, 23, 5, 10, 40, 515202), datetime_complete=datetime.datetime(2024, 12, 23, 5, 12, 58, 111358), params={'mean': 0.266889367634849, 'std': 0.21183443634184576}, user_attrs={}, system_attrs={}, intermediate_values={}, distributions={'mean': FloatDistribution(high=2.0, log=False, low=-1.0, step=None), 'std': FloatDistribution(high=1.0, log=True, low=0.05, step=None)}, trial_id=97, value=None),\n",
       "  FrozenTrial(number=97, state=1, values=[0.66132], datetime_start=datetime.datetime(2024, 12, 23, 5, 12, 58, 212352), datetime_complete=datetime.datetime(2024, 12, 23, 5, 15, 14, 311329), params={'mean': 0.21452910494650024, 'std': 0.262827198892714}, user_attrs={}, system_attrs={}, intermediate_values={}, distributions={'mean': FloatDistribution(high=2.0, log=False, low=-1.0, step=None), 'std': FloatDistribution(high=1.0, log=True, low=0.05, step=None)}, trial_id=98, value=None),\n",
       "  FrozenTrial(number=98, state=1, values=[0.69324], datetime_start=datetime.datetime(2024, 12, 23, 5, 15, 14, 418520), datetime_complete=datetime.datetime(2024, 12, 23, 5, 17, 30, 888573), params={'mean': 0.4358794645293965, 'std': 0.22612544875493001}, user_attrs={}, system_attrs={}, intermediate_values={}, distributions={'mean': FloatDistribution(high=2.0, log=False, low=-1.0, step=None), 'std': FloatDistribution(high=1.0, log=True, low=0.05, step=None)}, trial_id=99, value=None),\n",
       "  FrozenTrial(number=99, state=1, values=[0.69348], datetime_start=datetime.datetime(2024, 12, 23, 5, 17, 30, 982879), datetime_complete=datetime.datetime(2024, 12, 23, 5, 19, 48, 347832), params={'mean': 0.43006263970932346, 'std': 0.22748969537219224}, user_attrs={}, system_attrs={}, intermediate_values={}, distributions={'mean': FloatDistribution(high=2.0, log=False, low=-1.0, step=None), 'std': FloatDistribution(high=1.0, log=True, low=0.05, step=None)}, trial_id=100, value=None),\n",
       "  FrozenTrial(number=100, state=1, values=[0.45908], datetime_start=datetime.datetime(2024, 12, 23, 5, 19, 48, 447091), datetime_complete=datetime.datetime(2024, 12, 23, 5, 22, 6, 548618), params={'mean': 0.18487629420794405, 'std': 0.17930880241985928}, user_attrs={}, system_attrs={}, intermediate_values={}, distributions={'mean': FloatDistribution(high=2.0, log=False, low=-1.0, step=None), 'std': FloatDistribution(high=1.0, log=True, low=0.05, step=None)}, trial_id=101, value=None),\n",
       "  FrozenTrial(number=101, state=1, values=[0.69338], datetime_start=datetime.datetime(2024, 12, 23, 5, 22, 6, 635471), datetime_complete=datetime.datetime(2024, 12, 23, 5, 24, 24, 447353), params={'mean': 0.44420919051652, 'std': 0.22706029007420514}, user_attrs={}, system_attrs={}, intermediate_values={}, distributions={'mean': FloatDistribution(high=2.0, log=False, low=-1.0, step=None), 'std': FloatDistribution(high=1.0, log=True, low=0.05, step=None)}, trial_id=102, value=None),\n",
       "  FrozenTrial(number=102, state=1, values=[0.68558], datetime_start=datetime.datetime(2024, 12, 23, 5, 24, 24, 532999), datetime_complete=datetime.datetime(2024, 12, 23, 5, 26, 40, 192454), params={'mean': 0.3647429542699172, 'std': 0.21517111144492823}, user_attrs={}, system_attrs={}, intermediate_values={}, distributions={'mean': FloatDistribution(high=2.0, log=False, low=-1.0, step=None), 'std': FloatDistribution(high=1.0, log=True, low=0.05, step=None)}, trial_id=103, value=None),\n",
       "  FrozenTrial(number=103, state=1, values=[0.69148], datetime_start=datetime.datetime(2024, 12, 23, 5, 26, 40, 297875), datetime_complete=datetime.datetime(2024, 12, 23, 5, 28, 55, 793458), params={'mean': 0.5143272201020921, 'std': 0.23719235552179208}, user_attrs={}, system_attrs={}, intermediate_values={}, distributions={'mean': FloatDistribution(high=2.0, log=False, low=-1.0, step=None), 'std': FloatDistribution(high=1.0, log=True, low=0.05, step=None)}, trial_id=104, value=None),\n",
       "  FrozenTrial(number=104, state=1, values=[0.68898], datetime_start=datetime.datetime(2024, 12, 23, 5, 28, 55, 895847), datetime_complete=datetime.datetime(2024, 12, 23, 5, 31, 12, 251309), params={'mean': 0.4396360920693467, 'std': 0.19570229473274006}, user_attrs={}, system_attrs={}, intermediate_values={}, distributions={'mean': FloatDistribution(high=2.0, log=False, low=-1.0, step=None), 'std': FloatDistribution(high=1.0, log=True, low=0.05, step=None)}, trial_id=105, value=None),\n",
       "  FrozenTrial(number=105, state=1, values=[0.67794], datetime_start=datetime.datetime(2024, 12, 23, 5, 31, 12, 343519), datetime_complete=datetime.datetime(2024, 12, 23, 5, 33, 30, 172246), params={'mean': 0.2988870178509568, 'std': 0.24929694352627452}, user_attrs={}, system_attrs={}, intermediate_values={}, distributions={'mean': FloatDistribution(high=2.0, log=False, low=-1.0, step=None), 'std': FloatDistribution(high=1.0, log=True, low=0.05, step=None)}, trial_id=106, value=None),\n",
       "  FrozenTrial(number=106, state=1, values=[0.68644], datetime_start=datetime.datetime(2024, 12, 23, 5, 33, 30, 265805), datetime_complete=datetime.datetime(2024, 12, 23, 5, 35, 48, 127964), params={'mean': 0.5464256398832119, 'std': 0.2312973050725709}, user_attrs={}, system_attrs={}, intermediate_values={}, distributions={'mean': FloatDistribution(high=2.0, log=False, low=-1.0, step=None), 'std': FloatDistribution(high=1.0, log=True, low=0.05, step=None)}, trial_id=107, value=None),\n",
       "  FrozenTrial(number=107, state=1, values=[0.55414], datetime_start=datetime.datetime(2024, 12, 23, 5, 35, 48, 221242), datetime_complete=datetime.datetime(2024, 12, 23, 5, 38, 5, 69298), params={'mean': 0.6213943355906753, 'std': 0.17307283159122433}, user_attrs={}, system_attrs={}, intermediate_values={}, distributions={'mean': FloatDistribution(high=2.0, log=False, low=-1.0, step=None), 'std': FloatDistribution(high=1.0, log=True, low=0.05, step=None)}, trial_id=108, value=None),\n",
       "  FrozenTrial(number=108, state=1, values=[0.51466], datetime_start=datetime.datetime(2024, 12, 23, 5, 38, 5, 168536), datetime_complete=datetime.datetime(2024, 12, 23, 5, 40, 21, 958860), params={'mean': 0.7313674335121058, 'std': 0.2047636023263063}, user_attrs={}, system_attrs={}, intermediate_values={}, distributions={'mean': FloatDistribution(high=2.0, log=False, low=-1.0, step=None), 'std': FloatDistribution(high=1.0, log=True, low=0.05, step=None)}, trial_id=109, value=None),\n",
       "  FrozenTrial(number=109, state=1, values=[0.6881], datetime_start=datetime.datetime(2024, 12, 23, 5, 40, 22, 58380), datetime_complete=datetime.datetime(2024, 12, 23, 5, 42, 38, 907778), params={'mean': 0.4575101551475445, 'std': 0.27283792983199956}, user_attrs={}, system_attrs={}, intermediate_values={}, distributions={'mean': FloatDistribution(high=2.0, log=False, low=-1.0, step=None), 'std': FloatDistribution(high=1.0, log=True, low=0.05, step=None)}, trial_id=110, value=None),\n",
       "  FrozenTrial(number=110, state=1, values=[0.68796], datetime_start=datetime.datetime(2024, 12, 23, 5, 42, 38, 988946), datetime_complete=datetime.datetime(2024, 12, 23, 5, 44, 55, 223805), params={'mean': 0.3908454338857702, 'std': 0.25877030175548105}, user_attrs={}, system_attrs={}, intermediate_values={}, distributions={'mean': FloatDistribution(high=2.0, log=False, low=-1.0, step=None), 'std': FloatDistribution(high=1.0, log=True, low=0.05, step=None)}, trial_id=111, value=None),\n",
       "  FrozenTrial(number=111, state=1, values=[0.69288], datetime_start=datetime.datetime(2024, 12, 23, 5, 44, 55, 311635), datetime_complete=datetime.datetime(2024, 12, 23, 5, 47, 12, 899525), params={'mean': 0.43138068881611674, 'std': 0.21765144467419767}, user_attrs={}, system_attrs={}, intermediate_values={}, distributions={'mean': FloatDistribution(high=2.0, log=False, low=-1.0, step=None), 'std': FloatDistribution(high=1.0, log=True, low=0.05, step=None)}, trial_id=112, value=None),\n",
       "  FrozenTrial(number=112, state=1, values=[0.66156], datetime_start=datetime.datetime(2024, 12, 23, 5, 47, 13, 831), datetime_complete=datetime.datetime(2024, 12, 23, 5, 49, 29, 478389), params={'mean': 0.2621763654037548, 'std': 0.2256712591080074}, user_attrs={}, system_attrs={}, intermediate_values={}, distributions={'mean': FloatDistribution(high=2.0, log=False, low=-1.0, step=None), 'std': FloatDistribution(high=1.0, log=True, low=0.05, step=None)}, trial_id=113, value=None),\n",
       "  FrozenTrial(number=113, state=1, values=[0.53082], datetime_start=datetime.datetime(2024, 12, 23, 5, 49, 29, 600329), datetime_complete=datetime.datetime(2024, 12, 23, 5, 51, 46, 366883), params={'mean': 0.09098002207732553, 'std': 0.23085535818444705}, user_attrs={}, system_attrs={}, intermediate_values={}, distributions={'mean': FloatDistribution(high=2.0, log=False, low=-1.0, step=None), 'std': FloatDistribution(high=1.0, log=True, low=0.05, step=None)}, trial_id=114, value=None),\n",
       "  FrozenTrial(number=114, state=1, values=[0.6698], datetime_start=datetime.datetime(2024, 12, 23, 5, 51, 46, 454339), datetime_complete=datetime.datetime(2024, 12, 23, 5, 54, 3, 9896), params={'mean': 0.551998920772711, 'std': 0.20061701457512346}, user_attrs={}, system_attrs={}, intermediate_values={}, distributions={'mean': FloatDistribution(high=2.0, log=False, low=-1.0, step=None), 'std': FloatDistribution(high=1.0, log=True, low=0.05, step=None)}, trial_id=115, value=None),\n",
       "  FrozenTrial(number=115, state=1, values=[0.68666], datetime_start=datetime.datetime(2024, 12, 23, 5, 54, 3, 85321), datetime_complete=datetime.datetime(2024, 12, 23, 5, 56, 19, 461446), params={'mean': 0.3540123206247949, 'std': 0.24919869161617889}, user_attrs={}, system_attrs={}, intermediate_values={}, distributions={'mean': FloatDistribution(high=2.0, log=False, low=-1.0, step=None), 'std': FloatDistribution(high=1.0, log=True, low=0.05, step=None)}, trial_id=116, value=None),\n",
       "  FrozenTrial(number=116, state=1, values=[0.64782], datetime_start=datetime.datetime(2024, 12, 23, 5, 56, 19, 549609), datetime_complete=datetime.datetime(2024, 12, 23, 5, 58, 36, 788287), params={'mean': 0.6262936527865717, 'std': 0.21483977485426806}, user_attrs={}, system_attrs={}, intermediate_values={}, distributions={'mean': FloatDistribution(high=2.0, log=False, low=-1.0, step=None), 'std': FloatDistribution(high=1.0, log=True, low=0.05, step=None)}, trial_id=117, value=None),\n",
       "  FrozenTrial(number=117, state=1, values=[0.68778], datetime_start=datetime.datetime(2024, 12, 23, 5, 58, 36, 880552), datetime_complete=datetime.datetime(2024, 12, 23, 6, 0, 53, 982343), params={'mean': 0.4454829693990709, 'std': 0.2742267337594141}, user_attrs={}, system_attrs={}, intermediate_values={}, distributions={'mean': FloatDistribution(high=2.0, log=False, low=-1.0, step=None), 'std': FloatDistribution(high=1.0, log=True, low=0.05, step=None)}, trial_id=118, value=None),\n",
       "  FrozenTrial(number=118, state=1, values=[0.59324], datetime_start=datetime.datetime(2024, 12, 23, 6, 0, 54, 69705), datetime_complete=datetime.datetime(2024, 12, 23, 6, 3, 10, 258467), params={'mean': 0.5222439003511691, 'std': 0.15174485189563383}, user_attrs={}, system_attrs={}, intermediate_values={}, distributions={'mean': FloatDistribution(high=2.0, log=False, low=-1.0, step=None), 'std': FloatDistribution(high=1.0, log=True, low=0.05, step=None)}, trial_id=119, value=None),\n",
       "  FrozenTrial(number=119, state=1, values=[0.00388], datetime_start=datetime.datetime(2024, 12, 23, 6, 3, 10, 342539), datetime_complete=datetime.datetime(2024, 12, 23, 6, 5, 25, 902149), params={'mean': 0.670408352396175, 'std': 0.05085629849980655}, user_attrs={}, system_attrs={}, intermediate_values={}, distributions={'mean': FloatDistribution(high=2.0, log=False, low=-1.0, step=None), 'std': FloatDistribution(high=1.0, log=True, low=0.05, step=None)}, trial_id=120, value=None),\n",
       "  FrozenTrial(number=120, state=1, values=[0.0154], datetime_start=datetime.datetime(2024, 12, 23, 6, 5, 25, 999121), datetime_complete=datetime.datetime(2024, 12, 23, 6, 7, 42, 896688), params={'mean': -0.5566906999033585, 'std': 0.29195829443175764}, user_attrs={}, system_attrs={}, intermediate_values={}, distributions={'mean': FloatDistribution(high=2.0, log=False, low=-1.0, step=None), 'std': FloatDistribution(high=1.0, log=True, low=0.05, step=None)}, trial_id=121, value=None),\n",
       "  FrozenTrial(number=121, state=1, values=[0.69294], datetime_start=datetime.datetime(2024, 12, 23, 6, 7, 42, 988117), datetime_complete=datetime.datetime(2024, 12, 23, 6, 9, 58, 554742), params={'mean': 0.43639121460144514, 'std': 0.21818384799283164}, user_attrs={}, system_attrs={}, intermediate_values={}, distributions={'mean': FloatDistribution(high=2.0, log=False, low=-1.0, step=None), 'std': FloatDistribution(high=1.0, log=True, low=0.05, step=None)}, trial_id=122, value=None),\n",
       "  FrozenTrial(number=122, state=1, values=[0.69248], datetime_start=datetime.datetime(2024, 12, 23, 6, 9, 58, 644311), datetime_complete=datetime.datetime(2024, 12, 23, 6, 12, 15, 288522), params={'mean': 0.41586170835067116, 'std': 0.2401639407104763}, user_attrs={}, system_attrs={}, intermediate_values={}, distributions={'mean': FloatDistribution(high=2.0, log=False, low=-1.0, step=None), 'std': FloatDistribution(high=1.0, log=True, low=0.05, step=None)}, trial_id=123, value=None),\n",
       "  FrozenTrial(number=123, state=1, values=[0.62584], datetime_start=datetime.datetime(2024, 12, 23, 6, 12, 15, 366960), datetime_complete=datetime.datetime(2024, 12, 23, 6, 14, 32, 767654), params={'mean': 0.2812389411013202, 'std': 0.18901667963214874}, user_attrs={}, system_attrs={}, intermediate_values={}, distributions={'mean': FloatDistribution(high=2.0, log=False, low=-1.0, step=None), 'std': FloatDistribution(high=1.0, log=True, low=0.05, step=None)}, trial_id=124, value=None),\n",
       "  FrozenTrial(number=124, state=1, values=[0.68078], datetime_start=datetime.datetime(2024, 12, 23, 6, 14, 32, 864633), datetime_complete=datetime.datetime(2024, 12, 23, 6, 16, 50, 526824), params={'mean': 0.48513791390893823, 'std': 0.32197265860344754}, user_attrs={}, system_attrs={}, intermediate_values={}, distributions={'mean': FloatDistribution(high=2.0, log=False, low=-1.0, step=None), 'std': FloatDistribution(high=1.0, log=True, low=0.05, step=None)}, trial_id=125, value=None),\n",
       "  FrozenTrial(number=125, state=1, values=[0.68586], datetime_start=datetime.datetime(2024, 12, 23, 6, 16, 50, 620219), datetime_complete=datetime.datetime(2024, 12, 23, 6, 19, 7, 170594), params={'mean': 0.35819426739657534, 'std': 0.2219566648426015}, user_attrs={}, system_attrs={}, intermediate_values={}, distributions={'mean': FloatDistribution(high=2.0, log=False, low=-1.0, step=None), 'std': FloatDistribution(high=1.0, log=True, low=0.05, step=None)}, trial_id=126, value=None),\n",
       "  FrozenTrial(number=126, state=1, values=[0.68514], datetime_start=datetime.datetime(2024, 12, 23, 6, 19, 7, 250918), datetime_complete=datetime.datetime(2024, 12, 23, 6, 21, 24, 745440), params={'mean': 0.593199353366203, 'std': 0.25851150047883803}, user_attrs={}, system_attrs={}, intermediate_values={}, distributions={'mean': FloatDistribution(high=2.0, log=False, low=-1.0, step=None), 'std': FloatDistribution(high=1.0, log=True, low=0.05, step=None)}, trial_id=127, value=None),\n",
       "  FrozenTrial(number=127, state=1, values=[0.68728], datetime_start=datetime.datetime(2024, 12, 23, 6, 21, 24, 823218), datetime_complete=datetime.datetime(2024, 12, 23, 6, 23, 41, 841532), params={'mean': 0.4667914196326154, 'std': 0.19709103481599702}, user_attrs={}, system_attrs={}, intermediate_values={}, distributions={'mean': FloatDistribution(high=2.0, log=False, low=-1.0, step=None), 'std': FloatDistribution(high=1.0, log=True, low=0.05, step=None)}, trial_id=128, value=None),\n",
       "  FrozenTrial(number=128, state=1, values=[0.64368], datetime_start=datetime.datetime(2024, 12, 23, 6, 23, 41, 929132), datetime_complete=datetime.datetime(2024, 12, 23, 6, 25, 59, 64199), params={'mean': 0.20767139710066435, 'std': 0.23498954543026876}, user_attrs={}, system_attrs={}, intermediate_values={}, distributions={'mean': FloatDistribution(high=2.0, log=False, low=-1.0, step=None), 'std': FloatDistribution(high=1.0, log=True, low=0.05, step=None)}, trial_id=129, value=None),\n",
       "  FrozenTrial(number=129, state=1, values=[0.67846], datetime_start=datetime.datetime(2024, 12, 23, 6, 25, 59, 151627), datetime_complete=datetime.datetime(2024, 12, 23, 6, 28, 16, 652808), params={'mean': 0.5495414165498955, 'std': 0.21180228638919915}, user_attrs={}, system_attrs={}, intermediate_values={}, distributions={'mean': FloatDistribution(high=2.0, log=False, low=-1.0, step=None), 'std': FloatDistribution(high=1.0, log=True, low=0.05, step=None)}, trial_id=130, value=None),\n",
       "  FrozenTrial(number=130, state=1, values=[0.62876], datetime_start=datetime.datetime(2024, 12, 23, 6, 28, 16, 749062), datetime_complete=datetime.datetime(2024, 12, 23, 6, 30, 33, 413083), params={'mean': 0.33429320156224823, 'std': 0.17050981485908986}, user_attrs={}, system_attrs={}, intermediate_values={}, distributions={'mean': FloatDistribution(high=2.0, log=False, low=-1.0, step=None), 'std': FloatDistribution(high=1.0, log=True, low=0.05, step=None)}, trial_id=131, value=None),\n",
       "  FrozenTrial(number=131, state=1, values=[0.69254], datetime_start=datetime.datetime(2024, 12, 23, 6, 30, 33, 504888), datetime_complete=datetime.datetime(2024, 12, 23, 6, 32, 50, 654249), params={'mean': 0.4218127903677724, 'std': 0.22254312307321863}, user_attrs={}, system_attrs={}, intermediate_values={}, distributions={'mean': FloatDistribution(high=2.0, log=False, low=-1.0, step=None), 'std': FloatDistribution(high=1.0, log=True, low=0.05, step=None)}, trial_id=132, value=None),\n",
       "  FrozenTrial(number=132, state=1, values=[0.68952], datetime_start=datetime.datetime(2024, 12, 23, 6, 32, 50, 744146), datetime_complete=datetime.datetime(2024, 12, 23, 6, 35, 8, 295649), params={'mean': 0.3991818665323485, 'std': 0.2549033012934698}, user_attrs={}, system_attrs={}, intermediate_values={}, distributions={'mean': FloatDistribution(high=2.0, log=False, low=-1.0, step=None), 'std': FloatDistribution(high=1.0, log=True, low=0.05, step=None)}, trial_id=133, value=None),\n",
       "  FrozenTrial(number=133, state=1, values=[0.68382], datetime_start=datetime.datetime(2024, 12, 23, 6, 35, 8, 399516), datetime_complete=datetime.datetime(2024, 12, 23, 6, 37, 25, 499037), params={'mean': 0.5194074054360375, 'std': 0.2092470262078013}, user_attrs={}, system_attrs={}, intermediate_values={}, distributions={'mean': FloatDistribution(high=2.0, log=False, low=-1.0, step=None), 'std': FloatDistribution(high=1.0, log=True, low=0.05, step=None)}, trial_id=134, value=None),\n",
       "  FrozenTrial(number=134, state=1, values=[0.67872], datetime_start=datetime.datetime(2024, 12, 23, 6, 37, 25, 588702), datetime_complete=datetime.datetime(2024, 12, 23, 6, 39, 42, 583581), params={'mean': 0.45907441607409855, 'std': 0.18114832172861428}, user_attrs={}, system_attrs={}, intermediate_values={}, distributions={'mean': FloatDistribution(high=2.0, log=False, low=-1.0, step=None), 'std': FloatDistribution(high=1.0, log=True, low=0.05, step=None)}, trial_id=135, value=None),\n",
       "  FrozenTrial(number=135, state=1, values=[0.00104], datetime_start=datetime.datetime(2024, 12, 23, 6, 39, 42, 669751), datetime_complete=datetime.datetime(2024, 12, 23, 6, 41, 59, 693213), params={'mean': 1.975970643124033, 'std': 0.23869880603930047}, user_attrs={}, system_attrs={}, intermediate_values={}, distributions={'mean': FloatDistribution(high=2.0, log=False, low=-1.0, step=None), 'std': FloatDistribution(high=1.0, log=True, low=0.05, step=None)}, trial_id=136, value=None),\n",
       "  FrozenTrial(number=136, state=1, values=[0.67388], datetime_start=datetime.datetime(2024, 12, 23, 6, 41, 59, 784073), datetime_complete=datetime.datetime(2024, 12, 23, 6, 44, 17, 131529), params={'mean': 0.2927353499385537, 'std': 0.28775298740746474}, user_attrs={}, system_attrs={}, intermediate_values={}, distributions={'mean': FloatDistribution(high=2.0, log=False, low=-1.0, step=None), 'std': FloatDistribution(high=1.0, log=True, low=0.05, step=None)}, trial_id=137, value=None),\n",
       "  FrozenTrial(number=137, state=1, values=[0.65896], datetime_start=datetime.datetime(2024, 12, 23, 6, 44, 17, 222721), datetime_complete=datetime.datetime(2024, 12, 23, 6, 46, 34, 931284), params={'mean': 0.6191855965875661, 'std': 0.22140473750024406}, user_attrs={}, system_attrs={}, intermediate_values={}, distributions={'mean': FloatDistribution(high=2.0, log=False, low=-1.0, step=None), 'std': FloatDistribution(high=1.0, log=True, low=0.05, step=None)}, trial_id=138, value=None),\n",
       "  FrozenTrial(number=138, state=1, values=[0.64338], datetime_start=datetime.datetime(2024, 12, 23, 6, 46, 35, 20254), datetime_complete=datetime.datetime(2024, 12, 23, 6, 48, 52, 484944), params={'mean': 0.740888703618976, 'std': 0.26737945256554324}, user_attrs={}, system_attrs={}, intermediate_values={}, distributions={'mean': FloatDistribution(high=2.0, log=False, low=-1.0, step=None), 'std': FloatDistribution(high=1.0, log=True, low=0.05, step=None)}, trial_id=139, value=None),\n",
       "  FrozenTrial(number=139, state=1, values=[0.00574], datetime_start=datetime.datetime(2024, 12, 23, 6, 48, 52, 567414), datetime_complete=datetime.datetime(2024, 12, 23, 6, 51, 9, 761184), params={'mean': 0.6858349088859582, 'std': 0.05800231108138326}, user_attrs={}, system_attrs={}, intermediate_values={}, distributions={'mean': FloatDistribution(high=2.0, log=False, low=-1.0, step=None), 'std': FloatDistribution(high=1.0, log=True, low=0.05, step=None)}, trial_id=140, value=None),\n",
       "  FrozenTrial(number=140, state=1, values=[0.68492], datetime_start=datetime.datetime(2024, 12, 23, 6, 51, 9, 848416), datetime_complete=datetime.datetime(2024, 12, 23, 6, 53, 26, 739672), params={'mean': 0.38415555398278495, 'std': 0.20067530472368783}, user_attrs={}, system_attrs={}, intermediate_values={}, distributions={'mean': FloatDistribution(high=2.0, log=False, low=-1.0, step=None), 'std': FloatDistribution(high=1.0, log=True, low=0.05, step=None)}, trial_id=141, value=None),\n",
       "  FrozenTrial(number=141, state=1, values=[0.69312], datetime_start=datetime.datetime(2024, 12, 23, 6, 53, 26, 829109), datetime_complete=datetime.datetime(2024, 12, 23, 6, 55, 43, 616530), params={'mean': 0.42803603663023554, 'std': 0.22330458142162818}, user_attrs={}, system_attrs={}, intermediate_values={}, distributions={'mean': FloatDistribution(high=2.0, log=False, low=-1.0, step=None), 'std': FloatDistribution(high=1.0, log=True, low=0.05, step=None)}, trial_id=142, value=None),\n",
       "  FrozenTrial(number=142, state=1, values=[0.69204], datetime_start=datetime.datetime(2024, 12, 23, 6, 55, 43, 710089), datetime_complete=datetime.datetime(2024, 12, 23, 6, 58, 1, 501335), params={'mean': 0.50615566694986, 'std': 0.24720930012527548}, user_attrs={}, system_attrs={}, intermediate_values={}, distributions={'mean': FloatDistribution(high=2.0, log=False, low=-1.0, step=None), 'std': FloatDistribution(high=1.0, log=True, low=0.05, step=None)}, trial_id=143, value=None),\n",
       "  FrozenTrial(number=143, state=1, values=[0.69364], datetime_start=datetime.datetime(2024, 12, 23, 6, 58, 1, 590384), datetime_complete=datetime.datetime(2024, 12, 23, 7, 0, 18, 391056), params={'mean': 0.443496160119815, 'std': 0.23020890295638394}, user_attrs={}, system_attrs={}, intermediate_values={}, distributions={'mean': FloatDistribution(high=2.0, log=False, low=-1.0, step=None), 'std': FloatDistribution(high=1.0, log=True, low=0.05, step=None)}, trial_id=144, value=None),\n",
       "  FrozenTrial(number=144, state=1, values=[0.68212], datetime_start=datetime.datetime(2024, 12, 23, 7, 0, 18, 479772), datetime_complete=datetime.datetime(2024, 12, 23, 7, 2, 35, 548016), params={'mean': 0.32974036119277966, 'std': 0.2312790260843441}, user_attrs={}, system_attrs={}, intermediate_values={}, distributions={'mean': FloatDistribution(high=2.0, log=False, low=-1.0, step=None), 'std': FloatDistribution(high=1.0, log=True, low=0.05, step=None)}, trial_id=145, value=None),\n",
       "  FrozenTrial(number=145, state=1, values=[0.68816], datetime_start=datetime.datetime(2024, 12, 23, 7, 2, 35, 643966), datetime_complete=datetime.datetime(2024, 12, 23, 7, 4, 53, 1809), params={'mean': 0.5722862245715721, 'std': 0.27597530999432773}, user_attrs={}, system_attrs={}, intermediate_values={}, distributions={'mean': FloatDistribution(high=2.0, log=False, low=-1.0, step=None), 'std': FloatDistribution(high=1.0, log=True, low=0.05, step=None)}, trial_id=146, value=None),\n",
       "  FrozenTrial(number=146, state=1, values=[0.60388], datetime_start=datetime.datetime(2024, 12, 23, 7, 4, 53, 91030), datetime_complete=datetime.datetime(2024, 12, 23, 7, 7, 9, 894745), params={'mean': 0.2550491675044259, 'std': 0.1900869792274384}, user_attrs={}, system_attrs={}, intermediate_values={}, distributions={'mean': FloatDistribution(high=2.0, log=False, low=-1.0, step=None), 'std': FloatDistribution(high=1.0, log=True, low=0.05, step=None)}, trial_id=147, value=None),\n",
       "  FrozenTrial(number=147, state=1, values=[0.69282], datetime_start=datetime.datetime(2024, 12, 23, 7, 7, 9, 972286), datetime_complete=datetime.datetime(2024, 12, 23, 7, 9, 27, 19365), params={'mean': 0.4803394521248881, 'std': 0.24720901148656327}, user_attrs={}, system_attrs={}, intermediate_values={}, distributions={'mean': FloatDistribution(high=2.0, log=False, low=-1.0, step=None), 'std': FloatDistribution(high=1.0, log=True, low=0.05, step=None)}, trial_id=148, value=None),\n",
       "  FrozenTrial(number=148, state=1, values=[0.55362], datetime_start=datetime.datetime(2024, 12, 23, 7, 9, 27, 103016), datetime_complete=datetime.datetime(2024, 12, 23, 7, 11, 44, 559890), params={'mean': 0.15689959101234408, 'std': 0.211365915165964}, user_attrs={}, system_attrs={}, intermediate_values={}, distributions={'mean': FloatDistribution(high=2.0, log=False, low=-1.0, step=None), 'std': FloatDistribution(high=1.0, log=True, low=0.05, step=None)}, trial_id=149, value=None),\n",
       "  FrozenTrial(number=149, state=1, values=[0.69234], datetime_start=datetime.datetime(2024, 12, 23, 7, 11, 44, 658553), datetime_complete=datetime.datetime(2024, 12, 23, 7, 14, 1, 575360), params={'mean': 0.4093227098675005, 'std': 0.22941157743258045}, user_attrs={}, system_attrs={}, intermediate_values={}, distributions={'mean': FloatDistribution(high=2.0, log=False, low=-1.0, step=None), 'std': FloatDistribution(high=1.0, log=True, low=0.05, step=None)}, trial_id=150, value=None),\n",
       "  FrozenTrial(number=150, state=1, values=[0.67594], datetime_start=datetime.datetime(2024, 12, 23, 7, 14, 1, 664518), datetime_complete=datetime.datetime(2024, 12, 23, 7, 16, 19, 544588), params={'mean': 0.5422053327948017, 'std': 0.20362008828362474}, user_attrs={}, system_attrs={}, intermediate_values={}, distributions={'mean': FloatDistribution(high=2.0, log=False, low=-1.0, step=None), 'std': FloatDistribution(high=1.0, log=True, low=0.05, step=None)}, trial_id=151, value=None),\n",
       "  FrozenTrial(number=151, state=1, values=[0.69316], datetime_start=datetime.datetime(2024, 12, 23, 7, 16, 19, 636700), datetime_complete=datetime.datetime(2024, 12, 23, 7, 18, 36, 365162), params={'mean': 0.45805003301878133, 'std': 0.22383379425840907}, user_attrs={}, system_attrs={}, intermediate_values={}, distributions={'mean': FloatDistribution(high=2.0, log=False, low=-1.0, step=None), 'std': FloatDistribution(high=1.0, log=True, low=0.05, step=None)}, trial_id=152, value=None),\n",
       "  FrozenTrial(number=152, state=1, values=[0.69114], datetime_start=datetime.datetime(2024, 12, 23, 7, 18, 36, 459190), datetime_complete=datetime.datetime(2024, 12, 23, 7, 20, 52, 47424), params={'mean': 0.4614530675885084, 'std': 0.25793115590293975}, user_attrs={}, system_attrs={}, intermediate_values={}, distributions={'mean': FloatDistribution(high=2.0, log=False, low=-1.0, step=None), 'std': FloatDistribution(high=1.0, log=True, low=0.05, step=None)}, trial_id=153, value=None),\n",
       "  FrozenTrial(number=153, state=1, values=[0.68614], datetime_start=datetime.datetime(2024, 12, 23, 7, 20, 52, 123882), datetime_complete=datetime.datetime(2024, 12, 23, 7, 23, 10, 57053), params={'mean': 0.34901127124954556, 'std': 0.23565145109393204}, user_attrs={}, system_attrs={}, intermediate_values={}, distributions={'mean': FloatDistribution(high=2.0, log=False, low=-1.0, step=None), 'std': FloatDistribution(high=1.0, log=True, low=0.05, step=None)}, trial_id=154, value=None),\n",
       "  FrozenTrial(number=154, state=1, values=[0.66192], datetime_start=datetime.datetime(2024, 12, 23, 7, 23, 10, 146050), datetime_complete=datetime.datetime(2024, 12, 23, 7, 25, 27, 770386), params={'mean': 0.608249070615523, 'std': 0.21974161031043227}, user_attrs={}, system_attrs={}, intermediate_values={}, distributions={'mean': FloatDistribution(high=2.0, log=False, low=-1.0, step=None), 'std': FloatDistribution(high=1.0, log=True, low=0.05, step=None)}, trial_id=155, value=None),\n",
       "  FrozenTrial(number=155, state=1, values=[0.69238], datetime_start=datetime.datetime(2024, 12, 23, 7, 25, 27, 876608), datetime_complete=datetime.datetime(2024, 12, 23, 7, 27, 45, 77202), params={'mean': 0.5132809678402679, 'std': 0.2446678542552782}, user_attrs={}, system_attrs={}, intermediate_values={}, distributions={'mean': FloatDistribution(high=2.0, log=False, low=-1.0, step=None), 'std': FloatDistribution(high=1.0, log=True, low=0.05, step=None)}, trial_id=156, value=None),\n",
       "  FrozenTrial(number=156, state=1, values=[0.68182], datetime_start=datetime.datetime(2024, 12, 23, 7, 27, 45, 165733), datetime_complete=datetime.datetime(2024, 12, 23, 7, 30, 1, 291605), params={'mean': 0.3862316648236276, 'std': 0.19329005899375043}, user_attrs={}, system_attrs={}, intermediate_values={}, distributions={'mean': FloatDistribution(high=2.0, log=False, low=-1.0, step=None), 'std': FloatDistribution(high=1.0, log=True, low=0.05, step=None)}, trial_id=157, value=None),\n",
       "  FrozenTrial(number=157, state=1, values=[0.6778], datetime_start=datetime.datetime(2024, 12, 23, 7, 30, 1, 380365), datetime_complete=datetime.datetime(2024, 12, 23, 7, 32, 19, 80902), params={'mean': 0.30075129363821296, 'std': 0.2681846903518459}, user_attrs={}, system_attrs={}, intermediate_values={}, distributions={'mean': FloatDistribution(high=2.0, log=False, low=-1.0, step=None), 'std': FloatDistribution(high=1.0, log=True, low=0.05, step=None)}, trial_id=158, value=None),\n",
       "  FrozenTrial(number=158, state=1, values=[0.6932], datetime_start=datetime.datetime(2024, 12, 23, 7, 32, 19, 169156), datetime_complete=datetime.datetime(2024, 12, 23, 7, 34, 35, 788507), params={'mean': 0.4461197211816718, 'std': 0.21173712525227142}, user_attrs={}, system_attrs={}, intermediate_values={}, distributions={'mean': FloatDistribution(high=2.0, log=False, low=-1.0, step=None), 'std': FloatDistribution(high=1.0, log=True, low=0.05, step=None)}, trial_id=159, value=None),\n",
       "  FrozenTrial(number=159, state=1, values=[0.54528], datetime_start=datetime.datetime(2024, 12, 23, 7, 34, 35, 875133), datetime_complete=datetime.datetime(2024, 12, 23, 7, 36, 53, 171080), params={'mean': 0.647643322559333, 'std': 0.18079571574526934}, user_attrs={}, system_attrs={}, intermediate_values={}, distributions={'mean': FloatDistribution(high=2.0, log=False, low=-1.0, step=None), 'std': FloatDistribution(high=1.0, log=True, low=0.05, step=None)}, trial_id=160, value=None),\n",
       "  FrozenTrial(number=160, state=1, values=[0.66156], datetime_start=datetime.datetime(2024, 12, 23, 7, 36, 53, 272629), datetime_complete=datetime.datetime(2024, 12, 23, 7, 39, 10, 489415), params={'mean': 0.5739933763380024, 'std': 0.20339454816099273}, user_attrs={}, system_attrs={}, intermediate_values={}, distributions={'mean': FloatDistribution(high=2.0, log=False, low=-1.0, step=None), 'std': FloatDistribution(high=1.0, log=True, low=0.05, step=None)}, trial_id=161, value=None),\n",
       "  FrozenTrial(number=161, state=1, values=[0.6935], datetime_start=datetime.datetime(2024, 12, 23, 7, 39, 10, 603983), datetime_complete=datetime.datetime(2024, 12, 23, 7, 41, 27, 716550), params={'mean': 0.43432314014773077, 'std': 0.22272881716821902}, user_attrs={}, system_attrs={}, intermediate_values={}, distributions={'mean': FloatDistribution(high=2.0, log=False, low=-1.0, step=None), 'std': FloatDistribution(high=1.0, log=True, low=0.05, step=None)}, trial_id=162, value=None),\n",
       "  FrozenTrial(number=162, state=1, values=[0.6935], datetime_start=datetime.datetime(2024, 12, 23, 7, 41, 27, 817433), datetime_complete=datetime.datetime(2024, 12, 23, 7, 43, 44, 534565), params={'mean': 0.46634129539790686, 'std': 0.22826945110077662}, user_attrs={}, system_attrs={}, intermediate_values={}, distributions={'mean': FloatDistribution(high=2.0, log=False, low=-1.0, step=None), 'std': FloatDistribution(high=1.0, log=True, low=0.05, step=None)}, trial_id=163, value=None),\n",
       "  FrozenTrial(number=163, state=1, values=[0.69334], datetime_start=datetime.datetime(2024, 12, 23, 7, 43, 44, 615071), datetime_complete=datetime.datetime(2024, 12, 23, 7, 46, 1, 355567), params={'mean': 0.49791802552644315, 'std': 0.23912490887979004}, user_attrs={}, system_attrs={}, intermediate_values={}, distributions={'mean': FloatDistribution(high=2.0, log=False, low=-1.0, step=None), 'std': FloatDistribution(high=1.0, log=True, low=0.05, step=None)}, trial_id=164, value=None),\n",
       "  FrozenTrial(number=164, state=1, values=[0.69132], datetime_start=datetime.datetime(2024, 12, 23, 7, 46, 1, 445997), datetime_complete=datetime.datetime(2024, 12, 23, 7, 48, 17, 577181), params={'mean': 0.5292516499170371, 'std': 0.25173737813875785}, user_attrs={}, system_attrs={}, intermediate_values={}, distributions={'mean': FloatDistribution(high=2.0, log=False, low=-1.0, step=None), 'std': FloatDistribution(high=1.0, log=True, low=0.05, step=None)}, trial_id=165, value=None),\n",
       "  FrozenTrial(number=165, state=1, values=[0.68684], datetime_start=datetime.datetime(2024, 12, 23, 7, 48, 17, 660523), datetime_complete=datetime.datetime(2024, 12, 23, 7, 50, 34, 723769), params={'mean': 0.35618255896227125, 'std': 0.23742602942510202}, user_attrs={}, system_attrs={}, intermediate_values={}, distributions={'mean': FloatDistribution(high=2.0, log=False, low=-1.0, step=None), 'std': FloatDistribution(high=1.0, log=True, low=0.05, step=None)}, trial_id=166, value=None),\n",
       "  FrozenTrial(number=166, state=1, values=[0.68716], datetime_start=datetime.datetime(2024, 12, 23, 7, 50, 34, 816359), datetime_complete=datetime.datetime(2024, 12, 23, 7, 52, 52, 273590), params={'mean': 0.5109234708727469, 'std': 0.29089343773875226}, user_attrs={}, system_attrs={}, intermediate_values={}, distributions={'mean': FloatDistribution(high=2.0, log=False, low=-1.0, step=None), 'std': FloatDistribution(high=1.0, log=True, low=0.05, step=None)}, trial_id=167, value=None),\n",
       "  FrozenTrial(number=167, state=1, values=[0.68658], datetime_start=datetime.datetime(2024, 12, 23, 7, 52, 52, 363600), datetime_complete=datetime.datetime(2024, 12, 23, 7, 55, 9, 1964), params={'mean': 0.5840566536150477, 'std': 0.2621332385866894}, user_attrs={}, system_attrs={}, intermediate_values={}, distributions={'mean': FloatDistribution(high=2.0, log=False, low=-1.0, step=None), 'std': FloatDistribution(high=1.0, log=True, low=0.05, step=None)}, trial_id=168, value=None),\n",
       "  FrozenTrial(number=168, state=1, values=[0.68746], datetime_start=datetime.datetime(2024, 12, 23, 7, 55, 9, 118302), datetime_complete=datetime.datetime(2024, 12, 23, 7, 57, 26, 79556), params={'mean': 0.381035713372337, 'std': 0.21060587666477865}, user_attrs={}, system_attrs={}, intermediate_values={}, distributions={'mean': FloatDistribution(high=2.0, log=False, low=-1.0, step=None), 'std': FloatDistribution(high=1.0, log=True, low=0.05, step=None)}, trial_id=169, value=None),\n",
       "  FrozenTrial(number=169, state=1, values=[0.6509], datetime_start=datetime.datetime(2024, 12, 23, 7, 57, 26, 459326), datetime_complete=datetime.datetime(2024, 12, 23, 7, 59, 42, 839196), params={'mean': 0.6697959671527609, 'std': 0.23872350888334504}, user_attrs={}, system_attrs={}, intermediate_values={}, distributions={'mean': FloatDistribution(high=2.0, log=False, low=-1.0, step=None), 'std': FloatDistribution(high=1.0, log=True, low=0.05, step=None)}, trial_id=170, value=None),\n",
       "  FrozenTrial(number=170, state=1, values=[0.68778], datetime_start=datetime.datetime(2024, 12, 23, 7, 59, 43, 215816), datetime_complete=datetime.datetime(2024, 12, 23, 8, 1, 58, 784820), params={'mean': 0.4601459035297494, 'std': 0.2770418028922387}, user_attrs={}, system_attrs={}, intermediate_values={}, distributions={'mean': FloatDistribution(high=2.0, log=False, low=-1.0, step=None), 'std': FloatDistribution(high=1.0, log=True, low=0.05, step=None)}, trial_id=171, value=None),\n",
       "  FrozenTrial(number=171, state=1, values=[0.69368], datetime_start=datetime.datetime(2024, 12, 23, 8, 1, 59, 164237), datetime_complete=datetime.datetime(2024, 12, 23, 8, 4, 16, 433099), params={'mean': 0.47189017852015513, 'std': 0.22768821397512135}, user_attrs={}, system_attrs={}, intermediate_values={}, distributions={'mean': FloatDistribution(high=2.0, log=False, low=-1.0, step=None), 'std': FloatDistribution(high=1.0, log=True, low=0.05, step=None)}, trial_id=172, value=None),\n",
       "  FrozenTrial(number=172, state=1, values=[0.69246], datetime_start=datetime.datetime(2024, 12, 23, 8, 4, 16, 812231), datetime_complete=datetime.datetime(2024, 12, 23, 8, 6, 34, 333825), params={'mean': 0.49422448287609766, 'std': 0.23012779211094522}, user_attrs={}, system_attrs={}, intermediate_values={}, distributions={'mean': FloatDistribution(high=2.0, log=False, low=-1.0, step=None), 'std': FloatDistribution(high=1.0, log=True, low=0.05, step=None)}, trial_id=173, value=None),\n",
       "  FrozenTrial(number=173, state=1, values=[0.63404], datetime_start=datetime.datetime(2024, 12, 23, 8, 6, 34, 718626), datetime_complete=datetime.datetime(2024, 12, 23, 8, 8, 51, 66996), params={'mean': 0.24959204239971616, 'std': 0.20732866614817055}, user_attrs={}, system_attrs={}, intermediate_values={}, distributions={'mean': FloatDistribution(high=2.0, log=False, low=-1.0, step=None), 'std': FloatDistribution(high=1.0, log=True, low=0.05, step=None)}, trial_id=174, value=None),\n",
       "  FrozenTrial(number=174, state=1, values=[0.69], datetime_start=datetime.datetime(2024, 12, 23, 8, 8, 51, 157997), datetime_complete=datetime.datetime(2024, 12, 23, 8, 11, 8, 302689), params={'mean': 0.40846857969590133, 'std': 0.25406330985398184}, user_attrs={}, system_attrs={}, intermediate_values={}, distributions={'mean': FloatDistribution(high=2.0, log=False, low=-1.0, step=None), 'std': FloatDistribution(high=1.0, log=True, low=0.05, step=None)}, trial_id=175, value=None),\n",
       "  FrozenTrial(number=175, state=1, values=[0.65436], datetime_start=datetime.datetime(2024, 12, 23, 8, 11, 8, 680466), datetime_complete=datetime.datetime(2024, 12, 23, 8, 13, 26, 387018), params={'mean': 0.3138219295942446, 'std': 0.19226468541593048}, user_attrs={}, system_attrs={}, intermediate_values={}, distributions={'mean': FloatDistribution(high=2.0, log=False, low=-1.0, step=None), 'std': FloatDistribution(high=1.0, log=True, low=0.05, step=None)}, trial_id=176, value=None),\n",
       "  FrozenTrial(number=176, state=1, values=[0.68682], datetime_start=datetime.datetime(2024, 12, 23, 8, 13, 26, 762027), datetime_complete=datetime.datetime(2024, 12, 23, 8, 15, 43, 208199), params={'mean': 0.557527764191364, 'std': 0.24041155335326472}, user_attrs={}, system_attrs={}, intermediate_values={}, distributions={'mean': FloatDistribution(high=2.0, log=False, low=-1.0, step=None), 'std': FloatDistribution(high=1.0, log=True, low=0.05, step=None)}, trial_id=177, value=None),\n",
       "  FrozenTrial(number=177, state=1, values=[0.69262], datetime_start=datetime.datetime(2024, 12, 23, 8, 15, 43, 601352), datetime_complete=datetime.datetime(2024, 12, 23, 8, 18, 0, 909335), params={'mean': 0.4721828597307393, 'std': 0.21843556215460008}, user_attrs={}, system_attrs={}, intermediate_values={}, distributions={'mean': FloatDistribution(high=2.0, log=False, low=-1.0, step=None), 'std': FloatDistribution(high=1.0, log=True, low=0.05, step=None)}, trial_id=178, value=None),\n",
       "  FrozenTrial(number=178, state=1, values=[0.00136], datetime_start=datetime.datetime(2024, 12, 23, 8, 18, 1, 291259), datetime_complete=datetime.datetime(2024, 12, 23, 8, 20, 18, 57219), params={'mean': -0.863086902037749, 'std': 0.2514991226759677}, user_attrs={}, system_attrs={}, intermediate_values={}, distributions={'mean': FloatDistribution(high=2.0, log=False, low=-1.0, step=None), 'std': FloatDistribution(high=1.0, log=True, low=0.05, step=None)}, trial_id=179, value=None),\n",
       "  FrozenTrial(number=179, state=1, values=[0.68796], datetime_start=datetime.datetime(2024, 12, 23, 8, 20, 18, 439543), datetime_complete=datetime.datetime(2024, 12, 23, 8, 22, 36, 79601), params={'mean': 0.3635975550073993, 'std': 0.22918664661161442}, user_attrs={}, system_attrs={}, intermediate_values={}, distributions={'mean': FloatDistribution(high=2.0, log=False, low=-1.0, step=None), 'std': FloatDistribution(high=1.0, log=True, low=0.05, step=None)}, trial_id=180, value=None),\n",
       "  FrozenTrial(number=180, state=1, values=[0.65398], datetime_start=datetime.datetime(2024, 12, 23, 8, 22, 36, 470764), datetime_complete=datetime.datetime(2024, 12, 23, 8, 24, 52, 613930), params={'mean': 0.608071580220222, 'std': 0.21127847828667798}, user_attrs={}, system_attrs={}, intermediate_values={}, distributions={'mean': FloatDistribution(high=2.0, log=False, low=-1.0, step=None), 'std': FloatDistribution(high=1.0, log=True, low=0.05, step=None)}, trial_id=181, value=None),\n",
       "  FrozenTrial(number=181, state=1, values=[0.69352], datetime_start=datetime.datetime(2024, 12, 23, 8, 24, 52, 710104), datetime_complete=datetime.datetime(2024, 12, 23, 8, 27, 9, 363316), params={'mean': 0.43905431391323646, 'std': 0.22652116832362887}, user_attrs={}, system_attrs={}, intermediate_values={}, distributions={'mean': FloatDistribution(high=2.0, log=False, low=-1.0, step=None), 'std': FloatDistribution(high=1.0, log=True, low=0.05, step=None)}, trial_id=182, value=None),\n",
       "  FrozenTrial(number=182, state=1, values=[0.6931], datetime_start=datetime.datetime(2024, 12, 23, 8, 27, 9, 457774), datetime_complete=datetime.datetime(2024, 12, 23, 8, 29, 26, 859038), params={'mean': 0.42291942790754977, 'std': 0.2289630259984382}, user_attrs={}, system_attrs={}, intermediate_values={}, distributions={'mean': FloatDistribution(high=2.0, log=False, low=-1.0, step=None), 'std': FloatDistribution(high=1.0, log=True, low=0.05, step=None)}, trial_id=183, value=None),\n",
       "  FrozenTrial(number=183, state=1, values=[0.6798], datetime_start=datetime.datetime(2024, 12, 23, 8, 29, 27, 239224), datetime_complete=datetime.datetime(2024, 12, 23, 8, 31, 44, 398013), params={'mean': 0.521602835768205, 'std': 0.20055014572450638}, user_attrs={}, system_attrs={}, intermediate_values={}, distributions={'mean': FloatDistribution(high=2.0, log=False, low=-1.0, step=None), 'std': FloatDistribution(high=1.0, log=True, low=0.05, step=None)}, trial_id=184, value=None),\n",
       "  FrozenTrial(number=184, state=1, values=[0.69266], datetime_start=datetime.datetime(2024, 12, 23, 8, 31, 44, 779083), datetime_complete=datetime.datetime(2024, 12, 23, 8, 34, 2, 295117), params={'mean': 0.43555735271387, 'std': 0.24501493933265006}, user_attrs={}, system_attrs={}, intermediate_values={}, distributions={'mean': FloatDistribution(high=2.0, log=False, low=-1.0, step=None), 'std': FloatDistribution(high=1.0, log=True, low=0.05, step=None)}, trial_id=185, value=None),\n",
       "  FrozenTrial(number=185, state=1, values=[0.67812], datetime_start=datetime.datetime(2024, 12, 23, 8, 34, 2, 384401), datetime_complete=datetime.datetime(2024, 12, 23, 8, 36, 19, 662755), params={'mean': 0.30487552084126346, 'std': 0.26950041279689924}, user_attrs={}, system_attrs={}, intermediate_values={}, distributions={'mean': FloatDistribution(high=2.0, log=False, low=-1.0, step=None), 'std': FloatDistribution(high=1.0, log=True, low=0.05, step=None)}, trial_id=186, value=None),\n",
       "  FrozenTrial(number=186, state=1, values=[0.69024], datetime_start=datetime.datetime(2024, 12, 23, 8, 36, 19, 757117), datetime_complete=datetime.datetime(2024, 12, 23, 8, 38, 36, 688955), params={'mean': 0.49317135166331494, 'std': 0.22033905970391016}, user_attrs={}, system_attrs={}, intermediate_values={}, distributions={'mean': FloatDistribution(high=2.0, log=False, low=-1.0, step=None), 'std': FloatDistribution(high=1.0, log=True, low=0.05, step=None)}, trial_id=187, value=None),\n",
       "  FrozenTrial(number=187, state=1, values=[0.6907], datetime_start=datetime.datetime(2024, 12, 23, 8, 38, 36, 779434), datetime_complete=datetime.datetime(2024, 12, 23, 8, 40, 53, 440877), params={'mean': 0.3875885962390238, 'std': 0.2364138647607882}, user_attrs={}, system_attrs={}, intermediate_values={}, distributions={'mean': FloatDistribution(high=2.0, log=False, low=-1.0, step=None), 'std': FloatDistribution(high=1.0, log=True, low=0.05, step=None)}, trial_id=188, value=None),\n",
       "  FrozenTrial(number=188, state=1, values=[0.67204], datetime_start=datetime.datetime(2024, 12, 23, 8, 40, 53, 543699), datetime_complete=datetime.datetime(2024, 12, 23, 8, 43, 10, 695714), params={'mean': 0.5673045471456956, 'std': 0.21157490916150323}, user_attrs={}, system_attrs={}, intermediate_values={}, distributions={'mean': FloatDistribution(high=2.0, log=False, low=-1.0, step=None), 'std': FloatDistribution(high=1.0, log=True, low=0.05, step=None)}, trial_id=189, value=None),\n",
       "  FrozenTrial(number=189, state=1, values=[0.69172], datetime_start=datetime.datetime(2024, 12, 23, 8, 43, 10, 790967), datetime_complete=datetime.datetime(2024, 12, 23, 8, 45, 28, 368054), params={'mean': 0.45951873417646605, 'std': 0.25380010654576096}, user_attrs={}, system_attrs={}, intermediate_values={}, distributions={'mean': FloatDistribution(high=2.0, log=False, low=-1.0, step=None), 'std': FloatDistribution(high=1.0, log=True, low=0.05, step=None)}, trial_id=190, value=None),\n",
       "  FrozenTrial(number=190, state=1, values=[0.67728], datetime_start=datetime.datetime(2024, 12, 23, 8, 45, 28, 471666), datetime_complete=datetime.datetime(2024, 12, 23, 8, 47, 45, 542353), params={'mean': 0.35600552769190397, 'std': 0.3023867710804508}, user_attrs={}, system_attrs={}, intermediate_values={}, distributions={'mean': FloatDistribution(high=2.0, log=False, low=-1.0, step=None), 'std': FloatDistribution(high=1.0, log=True, low=0.05, step=None)}, trial_id=191, value=None),\n",
       "  FrozenTrial(number=191, state=1, values=[0.69338], datetime_start=datetime.datetime(2024, 12, 23, 8, 47, 45, 627381), datetime_complete=datetime.datetime(2024, 12, 23, 8, 50, 1, 307025), params={'mean': 0.4518485727802254, 'std': 0.22489601512016147}, user_attrs={}, system_attrs={}, intermediate_values={}, distributions={'mean': FloatDistribution(high=2.0, log=False, low=-1.0, step=None), 'std': FloatDistribution(high=1.0, log=True, low=0.05, step=None)}, trial_id=192, value=None),\n",
       "  FrozenTrial(number=192, state=1, values=[0.6884], datetime_start=datetime.datetime(2024, 12, 23, 8, 50, 1, 400519), datetime_complete=datetime.datetime(2024, 12, 23, 8, 52, 18, 335047), params={'mean': 0.5324636133386949, 'std': 0.23001252644154757}, user_attrs={}, system_attrs={}, intermediate_values={}, distributions={'mean': FloatDistribution(high=2.0, log=False, low=-1.0, step=None), 'std': FloatDistribution(high=1.0, log=True, low=0.05, step=None)}, trial_id=193, value=None),\n",
       "  FrozenTrial(number=193, state=1, values=[0.69054], datetime_start=datetime.datetime(2024, 12, 23, 8, 52, 18, 431380), datetime_complete=datetime.datetime(2024, 12, 23, 8, 54, 35, 467371), params={'mean': 0.4410079532013761, 'std': 0.2008069108924705}, user_attrs={}, system_attrs={}, intermediate_values={}, distributions={'mean': FloatDistribution(high=2.0, log=False, low=-1.0, step=None), 'std': FloatDistribution(high=1.0, log=True, low=0.05, step=None)}, trial_id=194, value=None),\n",
       "  FrozenTrial(number=194, state=1, values=[0.69134], datetime_start=datetime.datetime(2024, 12, 23, 8, 54, 35, 554070), datetime_complete=datetime.datetime(2024, 12, 23, 8, 56, 53, 4228), params={'mean': 0.4848711871241132, 'std': 0.2192081075587708}, user_attrs={}, system_attrs={}, intermediate_values={}, distributions={'mean': FloatDistribution(high=2.0, log=False, low=-1.0, step=None), 'std': FloatDistribution(high=1.0, log=True, low=0.05, step=None)}, trial_id=195, value=None),\n",
       "  FrozenTrial(number=195, state=1, values=[0.69128], datetime_start=datetime.datetime(2024, 12, 23, 8, 56, 53, 101350), datetime_complete=datetime.datetime(2024, 12, 23, 8, 59, 9, 488169), params={'mean': 0.3961545941804004, 'std': 0.24137195310791096}, user_attrs={}, system_attrs={}, intermediate_values={}, distributions={'mean': FloatDistribution(high=2.0, log=False, low=-1.0, step=None), 'std': FloatDistribution(high=1.0, log=True, low=0.05, step=None)}, trial_id=196, value=None),\n",
       "  FrozenTrial(number=196, state=1, values=[0.6897], datetime_start=datetime.datetime(2024, 12, 23, 8, 59, 9, 573519), datetime_complete=datetime.datetime(2024, 12, 23, 9, 1, 26, 907008), params={'mean': 0.5528470921878741, 'std': 0.2648287311727155}, user_attrs={}, system_attrs={}, intermediate_values={}, distributions={'mean': FloatDistribution(high=2.0, log=False, low=-1.0, step=None), 'std': FloatDistribution(high=1.0, log=True, low=0.05, step=None)}, trial_id=197, value=None),\n",
       "  FrozenTrial(number=197, state=1, values=[0.57966], datetime_start=datetime.datetime(2024, 12, 23, 9, 1, 27, 4844), datetime_complete=datetime.datetime(2024, 12, 23, 9, 3, 42, 866222), params={'mean': 0.6322078695180741, 'std': 0.18489043452319318}, user_attrs={}, system_attrs={}, intermediate_values={}, distributions={'mean': FloatDistribution(high=2.0, log=False, low=-1.0, step=None), 'std': FloatDistribution(high=1.0, log=True, low=0.05, step=None)}, trial_id=198, value=None),\n",
       "  FrozenTrial(number=198, state=1, values=[0.67394], datetime_start=datetime.datetime(2024, 12, 23, 9, 3, 42, 969490), datetime_complete=datetime.datetime(2024, 12, 23, 9, 6, 0, 140732), params={'mean': 0.3165116280047455, 'std': 0.21440339956395707}, user_attrs={}, system_attrs={}, intermediate_values={}, distributions={'mean': FloatDistribution(high=2.0, log=False, low=-1.0, step=None), 'std': FloatDistribution(high=1.0, log=True, low=0.05, step=None)}, trial_id=199, value=None),\n",
       "  FrozenTrial(number=199, state=1, values=[0.69204], datetime_start=datetime.datetime(2024, 12, 23, 9, 6, 0, 233306), datetime_complete=datetime.datetime(2024, 12, 23, 9, 8, 17, 589576), params={'mean': 0.42079025288244876, 'std': 0.24396591885711336}, user_attrs={}, system_attrs={}, intermediate_values={}, distributions={'mean': FloatDistribution(high=2.0, log=False, low=-1.0, step=None), 'std': FloatDistribution(high=1.0, log=True, low=0.05, step=None)}, trial_id=200, value=None)],\n",
       " 'optuna-ResNet.sqlite3',\n",
       " 200)"
      ]
     },
     "execution_count": 38,
     "metadata": {},
     "output_type": "execute_result"
    }
   ],
   "source": [
    "study.get_trials(), path_save_optuna, len(study.get_trials())"
   ]
  },
  {
   "cell_type": "code",
   "execution_count": 39,
   "metadata": {
    "execution": {
     "iopub.execute_input": "2024-12-23T08:08:17.702135Z",
     "iopub.status.busy": "2024-12-23T08:08:17.702030Z",
     "iopub.status.idle": "2024-12-23T08:08:17.707531Z",
     "shell.execute_reply": "2024-12-23T08:08:17.707332Z"
    }
   },
   "outputs": [],
   "source": [
    "study.optimize(objective, n_trials=n_trials-len(study.get_trials()), show_progress_bar=True)"
   ]
  },
  {
   "cell_type": "code",
   "execution_count": 40,
   "metadata": {
    "execution": {
     "iopub.execute_input": "2024-12-23T08:08:17.708520Z",
     "iopub.status.busy": "2024-12-23T08:08:17.708401Z",
     "iopub.status.idle": "2024-12-23T08:08:17.918375Z",
     "shell.execute_reply": "2024-12-23T08:08:17.918028Z"
    }
   },
   "outputs": [
    {
     "name": "stderr",
     "output_type": "stream",
     "text": [
      "/tmp/ipykernel_478690/1797386942.py:4: ExperimentalWarning: plot_contour is experimental (supported from v2.2.0). The interface can change in the future.\n",
      "  ax = plot_contour(study, params=[\"mean\", \"std\"], target_name=\"Accuracy\")\n",
      "[W 2024-12-23 09:08:17,709] Output figures of this Matplotlib-based `plot_contour` function would be different from those of the Plotly-based `plot_contour`.\n"
     ]
    },
    {
     "data": {
      "image/png": "[encoded data removed]",
      "text/plain": [
       "<Figure size 1000x618.034 with 2 Axes>"
      ]
     },
     "metadata": {},
     "output_type": "display_data"
    }
   ],
   "source": [
    "# https://optuna.readthedocs.io/en/stable/reference/visualization/matplotlib/generated/optuna.visualization.matplotlib.contour.html\n",
    "from optuna.visualization.matplotlib import plot_contour\n",
    "\n",
    "ax = plot_contour(study, params=[\"mean\", \"std\"], target_name=\"Accuracy\")\n",
    "ax.set_title('Results for the ResNet model on the ImageNet dataset')\n",
    "fig = plt.gcf()\n",
    "fig.set_size_inches(figsize[0], figsize[1])"
   ]
  },
  {
   "cell_type": "code",
   "execution_count": 41,
   "metadata": {
    "execution": {
     "iopub.execute_input": "2024-12-23T08:08:17.919547Z",
     "iopub.status.busy": "2024-12-23T08:08:17.919437Z",
     "iopub.status.idle": "2024-12-23T15:44:45.191553Z",
     "shell.execute_reply": "2024-12-23T15:44:45.190974Z"
    }
   },
   "outputs": [
    {
     "data": {
      "application/vnd.jupyter.widget-view+json": {
       "model_id": "40bfd2dc4c404e67900f137aebfe744c",
       "version_major": 2,
       "version_minor": 0
      },
      "text/plain": [
       "  0%|          | 0/200 [00:00<?, ?it/s]"
      ]
     },
     "metadata": {},
     "output_type": "display_data"
    },
    {
     "name": "stdout",
     "output_type": "stream",
     "text": [
      "-.-.-.-.-.-.-.-.-.-.-.-.-.-.-.-.-.-.-.-.-.-.-.-.-.-.-.-.-.-.-.-.-.-.-.-.-.-.-.-.-.-.-.-.-.-.-.-.-.-.\n",
      "Best params:  {'mean_R': 1.3298819797085812, 'mean_G': 1.158044524356995, 'mean_B': 0.8608253845142254, 'std_R': 0.5979328216633798, 'std_G': 0.5617464047018473, 'std_B': 0.4674990941714531}\n",
      "Best value:  0.63608\n",
      "==================================================\n"
     ]
    }
   ],
   "source": [
    "def objective(trial):\n",
    "    mean_R = trial.suggest_float('mean_R', -1, 2., log=False)\n",
    "    mean_G = trial.suggest_float('mean_G', -1, 2., log=False)\n",
    "    mean_B = trial.suggest_float('mean_B', -1, 2., log=False)\n",
    "    std_R = trial.suggest_float('std_R', 0.05, 1., log=True)\n",
    "    std_G = trial.suggest_float('std_G', 0.05, 1., log=True)\n",
    "    std_B = trial.suggest_float('std_B', 0.05, 1., log=True)\n",
    "    accuracy = main(mean_R, mean_G, mean_B, std_R, std_G, std_B, epochs=epochs)\n",
    "    return accuracy\n",
    "\n",
    "study = optuna.create_study(direction='maximize', load_if_exists=True, \n",
    "                            storage=f\"sqlite:///{path_save_optuna}\", study_name=model + '-RGB')\n",
    "if len(study.get_trials())<n_trials:\n",
    "    study.optimize(objective, n_trials=n_trials-len(study.get_trials()), show_progress_bar=True)\n",
    "print(50*'-.')\n",
    "print(\"Best params: \", study.best_params)\n",
    "print(\"Best value: \", study.best_value)\n",
    "print(50*'=')"
   ]
  },
  {
   "cell_type": "markdown",
   "metadata": {},
   "source": [
    "The problem being now, how do you visualize a 6 dimensional accuracy landscape ? Or rather, how do you validate that the accuracy is stable on a given area of that space ?\n"
   ]
  },
  {
   "cell_type": "markdown",
   "metadata": {},
   "source": [
    "## some book keeping for the notebook"
   ]
  },
  {
   "cell_type": "code",
   "execution_count": 42,
   "metadata": {
    "execution": {
     "iopub.execute_input": "2024-12-23T15:44:45.192828Z",
     "iopub.status.busy": "2024-12-23T15:44:45.192726Z",
     "iopub.status.idle": "2024-12-23T15:44:45.212830Z",
     "shell.execute_reply": "2024-12-23T15:44:45.212497Z"
    }
   },
   "outputs": [
    {
     "name": "stdout",
     "output_type": "stream",
     "text": [
      "Python implementation: CPython\n",
      "Python version       : 3.12.7\n",
      "IPython version      : 8.31.0\n",
      "\n",
      "numpy     : 1.26.4\n",
      "matplotlib: 3.10.0\n",
      "torch     : 2.5.1\n",
      "\n",
      "Compiler    : GCC 14.2.0\n",
      "OS          : Linux\n",
      "Release     : 6.11.0-13-generic\n",
      "Machine     : x86_64\n",
      "Processor   : x86_64\n",
      "CPU cores   : 24\n",
      "Architecture: 64bit\n",
      "\n",
      "Hostname: CONECT-LID-01\n",
      "\n",
      "Git hash: 55485a0f637795ce4ade9afc461b5916623408f0\n",
      "\n",
      "Git repo: https://github.com/laurentperrinet/2024-12-09-normalizing-images-in-convolutional-neural-networks.git\n",
      "\n",
      "Git branch: main\n",
      "\n"
     ]
    }
   ],
   "source": [
    "%load_ext watermark\n",
    "%watermark -i -h -m -v -p numpy,matplotlib,torch  -r -g -b"
   ]
  }
 ],
 "metadata": {
  "kernelspec": {
   "display_name": ".venv",
   "language": "python",
   "name": "python3"
  },
  "language_info": {
   "codemirror_mode": {
    "name": "ipython",
    "version": 3
   },
   "file_extension": ".py",
   "mimetype": "text/x-python",
   "name": "python",
   "nbconvert_exporter": "python",
   "pygments_lexer": "ipython3",
   "version": "3.12.7"
  },
  "toc": {
   "base_numbering": 1,
   "nav_menu": {},
   "number_sections": true,
   "sideBar": true,
   "skip_h1_title": false,
   "title_cell": "Table of Contents",
   "title_sidebar": "Contents",
   "toc_cell": false,
   "toc_position": {},
   "toc_section_display": true,
   "toc_window_display": false
  },
  "widgets": {
   "application/vnd.jupyter.widget-state+json": {
    "state": {
     "124f4064c4c9426db804891384185973": {
      "model_module": "@jupyter-widgets/controls",
      "model_module_version": "2.0.0",
      "model_name": "HTMLStyleModel",
      "state": {
       "_model_module": "@jupyter-widgets/controls",
       "_model_module_version": "2.0.0",
       "_model_name": "HTMLStyleModel",
       "_view_count": null,
       "_view_module": "@jupyter-widgets/base",
       "_view_module_version": "2.0.0",
       "_view_name": "StyleView",
       "background": null,
       "description_width": "",
       "font_size": null,
       "text_color": null
      }
     },
     "1310ff9e9e094e0cbf1e02eece69d951": {
      "model_module": "@jupyter-widgets/controls",
      "model_module_version": "2.0.0",
      "model_name": "ProgressStyleModel",
      "state": {
       "_model_module": "@jupyter-widgets/controls",
       "_model_module_version": "2.0.0",
       "_model_name": "ProgressStyleModel",
       "_view_count": null,
       "_view_module": "@jupyter-widgets/base",
       "_view_module_version": "2.0.0",
       "_view_name": "StyleView",
       "bar_color": null,
       "description_width": ""
      }
     },
     "16ba8d0a0b55423d812be542d1a5be34": {
      "model_module": "@jupyter-widgets/controls",
      "model_module_version": "2.0.0",
      "model_name": "ProgressStyleModel",
      "state": {
       "_model_module": "@jupyter-widgets/controls",
       "_model_module_version": "2.0.0",
       "_model_name": "ProgressStyleModel",
       "_view_count": null,
       "_view_module": "@jupyter-widgets/base",
       "_view_module_version": "2.0.0",
       "_view_name": "StyleView",
       "bar_color": null,
       "description_width": ""
      }
     },
     "1b8659c344eb4370bbe76b72b6a70c97": {
      "model_module": "@jupyter-widgets/controls",
      "model_module_version": "2.0.0",
      "model_name": "HTMLStyleModel",
      "state": {
       "_model_module": "@jupyter-widgets/controls",
       "_model_module_version": "2.0.0",
       "_model_name": "HTMLStyleModel",
       "_view_count": null,
       "_view_module": "@jupyter-widgets/base",
       "_view_module_version": "2.0.0",
       "_view_name": "StyleView",
       "background": null,
       "description_width": "",
       "font_size": null,
       "text_color": null
      }
     },
     "2f9cd48dcd104c5f9506508d77af2b38": {
      "model_module": "@jupyter-widgets/base",
      "model_module_version": "2.0.0",
      "model_name": "LayoutModel",
      "state": {
       "_model_module": "@jupyter-widgets/base",
       "_model_module_version": "2.0.0",
       "_model_name": "LayoutModel",
       "_view_count": null,
       "_view_module": "@jupyter-widgets/base",
       "_view_module_version": "2.0.0",
       "_view_name": "LayoutView",
       "align_content": null,
       "align_items": null,
       "align_self": null,
       "border_bottom": null,
       "border_left": null,
       "border_right": null,
       "border_top": null,
       "bottom": null,
       "display": null,
       "flex": null,
       "flex_flow": null,
       "grid_area": null,
       "grid_auto_columns": null,
       "grid_auto_flow": null,
       "grid_auto_rows": null,
       "grid_column": null,
       "grid_gap": null,
       "grid_row": null,
       "grid_template_areas": null,
       "grid_template_columns": null,
       "grid_template_rows": null,
       "height": null,
       "justify_content": null,
       "justify_items": null,
       "left": null,
       "margin": null,
       "max_height": null,
       "max_width": null,
       "min_height": null,
       "min_width": null,
       "object_fit": null,
       "object_position": null,
       "order": null,
       "overflow": null,
       "padding": null,
       "right": null,
       "top": null,
       "visibility": null,
       "width": null
      }
     },
     "3f2a3ee8b4d34680a92f9ada1778b08d": {
      "model_module": "@jupyter-widgets/controls",
      "model_module_version": "2.0.0",
      "model_name": "FloatProgressModel",
      "state": {
       "_dom_classes": [],
       "_model_module": "@jupyter-widgets/controls",
       "_model_module_version": "2.0.0",
       "_model_name": "FloatProgressModel",
       "_view_count": null,
       "_view_module": "@jupyter-widgets/controls",
       "_view_module_version": "2.0.0",
       "_view_name": "ProgressView",
       "bar_style": "success",
       "description": "",
       "description_allow_html": false,
       "layout": "IPY_MODEL_2f9cd48dcd104c5f9506508d77af2b38",
       "max": 200.0,
       "min": 0.0,
       "orientation": "horizontal",
       "style": "IPY_MODEL_1310ff9e9e094e0cbf1e02eece69d951",
       "tabbable": null,
       "tooltip": null,
       "value": 200.0
      }
     },
     "40bfd2dc4c404e67900f137aebfe744c": {
      "model_module": "@jupyter-widgets/controls",
      "model_module_version": "2.0.0",
      "model_name": "HBoxModel",
      "state": {
       "_dom_classes": [],
       "_model_module": "@jupyter-widgets/controls",
       "_model_module_version": "2.0.0",
       "_model_name": "HBoxModel",
       "_view_count": null,
       "_view_module": "@jupyter-widgets/controls",
       "_view_module_version": "2.0.0",
       "_view_name": "HBoxView",
       "box_style": "",
       "children": [
        "IPY_MODEL_fe3f4aaaa40a4d83ac8d981e574032f4",
        "IPY_MODEL_65172c7cbfcc49d0ad911580d71e2b7c",
        "IPY_MODEL_d7246f58d49c4ee2bc4c97669ec99c9e"
       ],
       "layout": "IPY_MODEL_883278e0ff694dbab89066462b25dddd",
       "tabbable": null,
       "tooltip": null
      }
     },
     "5069c001e5a44048a7db6dfb84860c33": {
      "model_module": "@jupyter-widgets/base",
      "model_module_version": "2.0.0",
      "model_name": "LayoutModel",
      "state": {
       "_model_module": "@jupyter-widgets/base",
       "_model_module_version": "2.0.0",
       "_model_name": "LayoutModel",
       "_view_count": null,
       "_view_module": "@jupyter-widgets/base",
       "_view_module_version": "2.0.0",
       "_view_name": "LayoutView",
       "align_content": null,
       "align_items": null,
       "align_self": null,
       "border_bottom": null,
       "border_left": null,
       "border_right": null,
       "border_top": null,
       "bottom": null,
       "display": null,
       "flex": null,
       "flex_flow": null,
       "grid_area": null,
       "grid_auto_columns": null,
       "grid_auto_flow": null,
       "grid_auto_rows": null,
       "grid_column": null,
       "grid_gap": null,
       "grid_row": null,
       "grid_template_areas": null,
       "grid_template_columns": null,
       "grid_template_rows": null,
       "height": null,
       "justify_content": null,
       "justify_items": null,
       "left": null,
       "margin": null,
       "max_height": null,
       "max_width": null,
       "min_height": null,
       "min_width": null,
       "object_fit": null,
       "object_position": null,
       "order": null,
       "overflow": null,
       "padding": null,
       "right": null,
       "top": null,
       "visibility": null,
       "width": null
      }
     },
     "65172c7cbfcc49d0ad911580d71e2b7c": {
      "model_module": "@jupyter-widgets/controls",
      "model_module_version": "2.0.0",
      "model_name": "FloatProgressModel",
      "state": {
       "_dom_classes": [],
       "_model_module": "@jupyter-widgets/controls",
       "_model_module_version": "2.0.0",
       "_model_name": "FloatProgressModel",
       "_view_count": null,
       "_view_module": "@jupyter-widgets/controls",
       "_view_module_version": "2.0.0",
       "_view_name": "ProgressView",
       "bar_style": "success",
       "description": "",
       "description_allow_html": false,
       "layout": "IPY_MODEL_974bf932deef4670a987d94669792f6c",
       "max": 200.0,
       "min": 0.0,
       "orientation": "horizontal",
       "style": "IPY_MODEL_16ba8d0a0b55423d812be542d1a5be34",
       "tabbable": null,
       "tooltip": null,
       "value": 200.0
      }
     },
     "6bac8c8e86e24041a5f5befd7ea51dea": {
      "model_module": "@jupyter-widgets/base",
      "model_module_version": "2.0.0",
      "model_name": "LayoutModel",
      "state": {
       "_model_module": "@jupyter-widgets/base",
       "_model_module_version": "2.0.0",
       "_model_name": "LayoutModel",
       "_view_count": null,
       "_view_module": "@jupyter-widgets/base",
       "_view_module_version": "2.0.0",
       "_view_name": "LayoutView",
       "align_content": null,
       "align_items": null,
       "align_self": null,
       "border_bottom": null,
       "border_left": null,
       "border_right": null,
       "border_top": null,
       "bottom": null,
       "display": null,
       "flex": null,
       "flex_flow": null,
       "grid_area": null,
       "grid_auto_columns": null,
       "grid_auto_flow": null,
       "grid_auto_rows": null,
       "grid_column": null,
       "grid_gap": null,
       "grid_row": null,
       "grid_template_areas": null,
       "grid_template_columns": null,
       "grid_template_rows": null,
       "height": null,
       "justify_content": null,
       "justify_items": null,
       "left": null,
       "margin": null,
       "max_height": null,
       "max_width": null,
       "min_height": null,
       "min_width": null,
       "object_fit": null,
       "object_position": null,
       "order": null,
       "overflow": null,
       "padding": null,
       "right": null,
       "top": null,
       "visibility": null,
       "width": null
      }
     },
     "759a309084f144ba87814f3172edd2fc": {
      "model_module": "@jupyter-widgets/base",
      "model_module_version": "2.0.0",
      "model_name": "LayoutModel",
      "state": {
       "_model_module": "@jupyter-widgets/base",
       "_model_module_version": "2.0.0",
       "_model_name": "LayoutModel",
       "_view_count": null,
       "_view_module": "@jupyter-widgets/base",
       "_view_module_version": "2.0.0",
       "_view_name": "LayoutView",
       "align_content": null,
       "align_items": null,
       "align_self": null,
       "border_bottom": null,
       "border_left": null,
       "border_right": null,
       "border_top": null,
       "bottom": null,
       "display": null,
       "flex": null,
       "flex_flow": null,
       "grid_area": null,
       "grid_auto_columns": null,
       "grid_auto_flow": null,
       "grid_auto_rows": null,
       "grid_column": null,
       "grid_gap": null,
       "grid_row": null,
       "grid_template_areas": null,
       "grid_template_columns": null,
       "grid_template_rows": null,
       "height": null,
       "justify_content": null,
       "justify_items": null,
       "left": null,
       "margin": null,
       "max_height": null,
       "max_width": null,
       "min_height": null,
       "min_width": null,
       "object_fit": null,
       "object_position": null,
       "order": null,
       "overflow": null,
       "padding": null,
       "right": null,
       "top": null,
       "visibility": null,
       "width": null
      }
     },
     "77ee107c46fa444a97888d42f1b96bd1": {
      "model_module": "@jupyter-widgets/controls",
      "model_module_version": "2.0.0",
      "model_name": "HTMLStyleModel",
      "state": {
       "_model_module": "@jupyter-widgets/controls",
       "_model_module_version": "2.0.0",
       "_model_name": "HTMLStyleModel",
       "_view_count": null,
       "_view_module": "@jupyter-widgets/base",
       "_view_module_version": "2.0.0",
       "_view_name": "StyleView",
       "background": null,
       "description_width": "",
       "font_size": null,
       "text_color": null
      }
     },
     "7e05b47d41b14c6890d1951068552dc4": {
      "model_module": "@jupyter-widgets/controls",
      "model_module_version": "2.0.0",
      "model_name": "HTMLStyleModel",
      "state": {
       "_model_module": "@jupyter-widgets/controls",
       "_model_module_version": "2.0.0",
       "_model_name": "HTMLStyleModel",
       "_view_count": null,
       "_view_module": "@jupyter-widgets/base",
       "_view_module_version": "2.0.0",
       "_view_name": "StyleView",
       "background": null,
       "description_width": "",
       "font_size": null,
       "text_color": null
      }
     },
     "845b235e3a0843b39fbb9be98ab374c8": {
      "model_module": "@jupyter-widgets/controls",
      "model_module_version": "2.0.0",
      "model_name": "HTMLModel",
      "state": {
       "_dom_classes": [],
       "_model_module": "@jupyter-widgets/controls",
       "_model_module_version": "2.0.0",
       "_model_name": "HTMLModel",
       "_view_count": null,
       "_view_module": "@jupyter-widgets/controls",
       "_view_module_version": "2.0.0",
       "_view_name": "HTMLView",
       "description": "",
       "description_allow_html": false,
       "layout": "IPY_MODEL_ef18bd8524ad438a97dfc5ae5f3531b5",
       "placeholder": "​",
       "style": "IPY_MODEL_77ee107c46fa444a97888d42f1b96bd1",
       "tabbable": null,
       "tooltip": null,
       "value": " 200/200 [7:37:15&lt;00:00, 137.07s/it]"
      }
     },
     "883278e0ff694dbab89066462b25dddd": {
      "model_module": "@jupyter-widgets/base",
      "model_module_version": "2.0.0",
      "model_name": "LayoutModel",
      "state": {
       "_model_module": "@jupyter-widgets/base",
       "_model_module_version": "2.0.0",
       "_model_name": "LayoutModel",
       "_view_count": null,
       "_view_module": "@jupyter-widgets/base",
       "_view_module_version": "2.0.0",
       "_view_name": "LayoutView",
       "align_content": null,
       "align_items": null,
       "align_self": null,
       "border_bottom": null,
       "border_left": null,
       "border_right": null,
       "border_top": null,
       "bottom": null,
       "display": null,
       "flex": null,
       "flex_flow": null,
       "grid_area": null,
       "grid_auto_columns": null,
       "grid_auto_flow": null,
       "grid_auto_rows": null,
       "grid_column": null,
       "grid_gap": null,
       "grid_row": null,
       "grid_template_areas": null,
       "grid_template_columns": null,
       "grid_template_rows": null,
       "height": null,
       "justify_content": null,
       "justify_items": null,
       "left": null,
       "margin": null,
       "max_height": null,
       "max_width": null,
       "min_height": null,
       "min_width": null,
       "object_fit": null,
       "object_position": null,
       "order": null,
       "overflow": null,
       "padding": null,
       "right": null,
       "top": null,
       "visibility": null,
       "width": null
      }
     },
     "974bf932deef4670a987d94669792f6c": {
      "model_module": "@jupyter-widgets/base",
      "model_module_version": "2.0.0",
      "model_name": "LayoutModel",
      "state": {
       "_model_module": "@jupyter-widgets/base",
       "_model_module_version": "2.0.0",
       "_model_name": "LayoutModel",
       "_view_count": null,
       "_view_module": "@jupyter-widgets/base",
       "_view_module_version": "2.0.0",
       "_view_name": "LayoutView",
       "align_content": null,
       "align_items": null,
       "align_self": null,
       "border_bottom": null,
       "border_left": null,
       "border_right": null,
       "border_top": null,
       "bottom": null,
       "display": null,
       "flex": null,
       "flex_flow": null,
       "grid_area": null,
       "grid_auto_columns": null,
       "grid_auto_flow": null,
       "grid_auto_rows": null,
       "grid_column": null,
       "grid_gap": null,
       "grid_row": null,
       "grid_template_areas": null,
       "grid_template_columns": null,
       "grid_template_rows": null,
       "height": null,
       "justify_content": null,
       "justify_items": null,
       "left": null,
       "margin": null,
       "max_height": null,
       "max_width": null,
       "min_height": null,
       "min_width": null,
       "object_fit": null,
       "object_position": null,
       "order": null,
       "overflow": null,
       "padding": null,
       "right": null,
       "top": null,
       "visibility": null,
       "width": null
      }
     },
     "b2a7fe484294475d958d0b83613eabd4": {
      "model_module": "@jupyter-widgets/controls",
      "model_module_version": "2.0.0",
      "model_name": "HBoxModel",
      "state": {
       "_dom_classes": [],
       "_model_module": "@jupyter-widgets/controls",
       "_model_module_version": "2.0.0",
       "_model_name": "HBoxModel",
       "_view_count": null,
       "_view_module": "@jupyter-widgets/controls",
       "_view_module_version": "2.0.0",
       "_view_name": "HBoxView",
       "box_style": "",
       "children": [
        "IPY_MODEL_f1047974df424883a6fe705d074080d1",
        "IPY_MODEL_3f2a3ee8b4d34680a92f9ada1778b08d",
        "IPY_MODEL_845b235e3a0843b39fbb9be98ab374c8"
       ],
       "layout": "IPY_MODEL_759a309084f144ba87814f3172edd2fc",
       "tabbable": null,
       "tooltip": null
      }
     },
     "be18a8bd5789434a917bb6dc5436f09e": {
      "model_module": "@jupyter-widgets/base",
      "model_module_version": "2.0.0",
      "model_name": "LayoutModel",
      "state": {
       "_model_module": "@jupyter-widgets/base",
       "_model_module_version": "2.0.0",
       "_model_name": "LayoutModel",
       "_view_count": null,
       "_view_module": "@jupyter-widgets/base",
       "_view_module_version": "2.0.0",
       "_view_name": "LayoutView",
       "align_content": null,
       "align_items": null,
       "align_self": null,
       "border_bottom": null,
       "border_left": null,
       "border_right": null,
       "border_top": null,
       "bottom": null,
       "display": null,
       "flex": null,
       "flex_flow": null,
       "grid_area": null,
       "grid_auto_columns": null,
       "grid_auto_flow": null,
       "grid_auto_rows": null,
       "grid_column": null,
       "grid_gap": null,
       "grid_row": null,
       "grid_template_areas": null,
       "grid_template_columns": null,
       "grid_template_rows": null,
       "height": null,
       "justify_content": null,
       "justify_items": null,
       "left": null,
       "margin": null,
       "max_height": null,
       "max_width": null,
       "min_height": null,
       "min_width": null,
       "object_fit": null,
       "object_position": null,
       "order": null,
       "overflow": null,
       "padding": null,
       "right": null,
       "top": null,
       "visibility": null,
       "width": null
      }
     },
     "d7246f58d49c4ee2bc4c97669ec99c9e": {
      "model_module": "@jupyter-widgets/controls",
      "model_module_version": "2.0.0",
      "model_name": "HTMLModel",
      "state": {
       "_dom_classes": [],
       "_model_module": "@jupyter-widgets/controls",
       "_model_module_version": "2.0.0",
       "_model_name": "HTMLModel",
       "_view_count": null,
       "_view_module": "@jupyter-widgets/controls",
       "_view_module_version": "2.0.0",
       "_view_name": "HTMLView",
       "description": "",
       "description_allow_html": false,
       "layout": "IPY_MODEL_be18a8bd5789434a917bb6dc5436f09e",
       "placeholder": "​",
       "style": "IPY_MODEL_1b8659c344eb4370bbe76b72b6a70c97",
       "tabbable": null,
       "tooltip": null,
       "value": " 200/200 [7:36:27&lt;00:00, 136.13s/it]"
      }
     },
     "ef18bd8524ad438a97dfc5ae5f3531b5": {
      "model_module": "@jupyter-widgets/base",
      "model_module_version": "2.0.0",
      "model_name": "LayoutModel",
      "state": {
       "_model_module": "@jupyter-widgets/base",
       "_model_module_version": "2.0.0",
       "_model_name": "LayoutModel",
       "_view_count": null,
       "_view_module": "@jupyter-widgets/base",
       "_view_module_version": "2.0.0",
       "_view_name": "LayoutView",
       "align_content": null,
       "align_items": null,
       "align_self": null,
       "border_bottom": null,
       "border_left": null,
       "border_right": null,
       "border_top": null,
       "bottom": null,
       "display": null,
       "flex": null,
       "flex_flow": null,
       "grid_area": null,
       "grid_auto_columns": null,
       "grid_auto_flow": null,
       "grid_auto_rows": null,
       "grid_column": null,
       "grid_gap": null,
       "grid_row": null,
       "grid_template_areas": null,
       "grid_template_columns": null,
       "grid_template_rows": null,
       "height": null,
       "justify_content": null,
       "justify_items": null,
       "left": null,
       "margin": null,
       "max_height": null,
       "max_width": null,
       "min_height": null,
       "min_width": null,
       "object_fit": null,
       "object_position": null,
       "order": null,
       "overflow": null,
       "padding": null,
       "right": null,
       "top": null,
       "visibility": null,
       "width": null
      }
     },
     "f1047974df424883a6fe705d074080d1": {
      "model_module": "@jupyter-widgets/controls",
      "model_module_version": "2.0.0",
      "model_name": "HTMLModel",
      "state": {
       "_dom_classes": [],
       "_model_module": "@jupyter-widgets/controls",
       "_model_module_version": "2.0.0",
       "_model_name": "HTMLModel",
       "_view_count": null,
       "_view_module": "@jupyter-widgets/controls",
       "_view_module_version": "2.0.0",
       "_view_name": "HTMLView",
       "description": "",
       "description_allow_html": false,
       "layout": "IPY_MODEL_5069c001e5a44048a7db6dfb84860c33",
       "placeholder": "​",
       "style": "IPY_MODEL_7e05b47d41b14c6890d1951068552dc4",
       "tabbable": null,
       "tooltip": null,
       "value": "Best trial: 76. Best value: 0.69396: 100%"
      }
     },
     "fe3f4aaaa40a4d83ac8d981e574032f4": {
      "model_module": "@jupyter-widgets/controls",
      "model_module_version": "2.0.0",
      "model_name": "HTMLModel",
      "state": {
       "_dom_classes": [],
       "_model_module": "@jupyter-widgets/controls",
       "_model_module_version": "2.0.0",
       "_model_name": "HTMLModel",
       "_view_count": null,
       "_view_module": "@jupyter-widgets/controls",
       "_view_module_version": "2.0.0",
       "_view_name": "HTMLView",
       "description": "",
       "description_allow_html": false,
       "layout": "IPY_MODEL_6bac8c8e86e24041a5f5befd7ea51dea",
       "placeholder": "​",
       "style": "IPY_MODEL_124f4064c4c9426db804891384185973",
       "tabbable": null,
       "tooltip": null,
       "value": "Best trial: 181. Best value: 0.63608: 100%"
      }
     }
    },
    "version_major": 2,
    "version_minor": 0
   }
  }
 },
 "nbformat": 4,
 "nbformat_minor": 4
}
