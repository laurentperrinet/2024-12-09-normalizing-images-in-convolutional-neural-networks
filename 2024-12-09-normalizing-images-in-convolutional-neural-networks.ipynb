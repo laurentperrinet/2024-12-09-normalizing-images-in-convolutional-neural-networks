{
 "cells": [
  {
   "cell_type": "markdown",
   "metadata": {},
   "source": [
    "It's interesting to note that in deep learning, the evolution of architecture and techniques is very rapid, but that certain aspects can remain present for years in bits of code, without really knowing if they are totally necessary. Most of the time, we take for granted that these were optimized and this should not be taken care of.\n",
    "\n",
    "One such aspect is *input normalization*, which is used as input to most convolutional neural networks (CNNs) used to process visual images. This is all the more true as we often use in the community networks that are pre-trained for images normalized to given values, like VGG or ResNET. When you ask Github's copilot, it says that \n",
    "\n",
    ">    Image normalization in convolutional neural networks (CNNs) has several beneficial effects:\n",
    ">    1- Improved convergence: Normalization helps to stabilize and speed up the learning process by ensuring that pixel values are in a similar range, thus facilitating optimization.\n",
    ">    2- Reduced sensitivity to scale variations: Normalizing images reduces the model's sensitivity to scale variations in pixel values, which can improve model robustness.\n",
    ">    3- Prevention of neuron saturation: Unnormalized pixel values can lead to neuron saturation, which slows down learning. Normalization helps prevent this problem.\n",
    ">    4- Improved performance: In general, image normalization can lead to better model performance in terms of accuracy and generalization.\n",
    "\n",
    "\n",
    "**I'm interested here in whether these networks remain effective when we change the input normalization.** Indeed, as the weights of the first convolutional layer are learned, and as convolution kernels can be multiplied by arbitrary values thanks to the bias in the convolutions, normalizing to a certain value makes no sense, and simply normalizing does. This is even more evident when that values are given with 3 digits of precision! I propose here to show quantitatively that this is the case, first for a *historical* network [LeNet](https://en.wikipedia.org/wiki/LeNet) applied to the MNIST challenge, and then for [ResNet](https://en.wikipedia.org/wiki/Residual_neural_network) applied to ImageNet.\n",
    "\n",
    "\n",
    "<!-- TEASER_END -->\n",
    "\n",
    "Let's first initialize the notebook:"
   ]
  },
  {
   "cell_type": "code",
   "execution_count": 2,
   "metadata": {},
   "outputs": [],
   "source": [
    "import numpy as np\n",
    "np.set_printoptions(precision=6, suppress=True)\n",
    "import os\n",
    "\n",
    "import matplotlib.pyplot as plt\n",
    "phi = (np.sqrt(5)+1)/2\n",
    "fig_width = 10\n",
    "figsize = (fig_width, fig_width/phi)"
   ]
  },
  {
   "cell_type": "code",
   "execution_count": 3,
   "metadata": {},
   "outputs": [
    {
     "name": "stdout",
     "output_type": "stream",
     "text": [
      "Note: you may need to restart the kernel to use updated packages.\n"
     ]
    }
   ],
   "source": [
    "%pip install -Uq -r requirements.txt\n"
   ]
  },
  {
   "cell_type": "code",
   "execution_count": 3,
   "metadata": {},
   "outputs": [],
   "source": [
    "%mkdir -p data"
   ]
  },
  {
   "cell_type": "markdown",
   "metadata": {},
   "source": [
    "# The MNIST challenge and the *French Touche* \n",
    "\n",
    "First, let's explore the *LeNet* network  (Lecun, Y.; Bottou, L.; Bengio, Y.; Haffner, P. (1998). \"Gradient-based learning applied to document recognition\" (PDF). Proceedings of the IEEE. 86 (11): 2278–2324. doi:10.1109/5.726791. S2CID 14542261), whose objective is to categorize images of written digits, one of the first great successes of Multilayer neural networks. For this one, we're going to use the classic implementation, as proposed in the PyTorch library example series. \n",
    "\n",
    "The cell below allows you to do everything: first load the libraries, then define the neural network, and finally define the learning and testing procedures that are applied to the database. The output accuracy value corresponds to the percentage of letters that are correctly classified.\n",
    "\n",
    "In this cell, we'll isolate the two parameters used to set the mean and standard deviation applied to the normalization function, which we'll be manipulating in the course of this book."
   ]
  },
  {
   "cell_type": "code",
   "execution_count": 9,
   "metadata": {},
   "outputs": [
    {
     "name": "stderr",
     "output_type": "stream",
     "text": [
      "\n",
      "A module that was compiled using NumPy 1.x cannot be run in\n",
      "NumPy 2.2.0 as it may crash. To support both 1.x and 2.x\n",
      "versions of NumPy, modules must be compiled with NumPy 2.0.\n",
      "Some module may need to rebuild instead e.g. with 'pybind11>=2.12'.\n",
      "\n",
      "If you are a user of the module, the easiest solution will be to\n",
      "downgrade to 'numpy<2' or try to upgrade the affected module.\n",
      "We expect that some modules will need time to support NumPy 2.\n",
      "\n",
      "Traceback (most recent call last):  File \"<frozen runpy>\", line 198, in _run_module_as_main\n",
      "  File \"<frozen runpy>\", line 88, in _run_code\n",
      "  File \"/Users/laurentperrinet/.venv/lib/python3.12/site-packages/ipykernel_launcher.py\", line 18, in <module>\n",
      "    app.launch_new_instance()\n",
      "  File \"/Users/laurentperrinet/.venv/lib/python3.12/site-packages/traitlets/config/application.py\", line 1075, in launch_instance\n",
      "    app.start()\n",
      "  File \"/Users/laurentperrinet/.venv/lib/python3.12/site-packages/ipykernel/kernelapp.py\", line 739, in start\n",
      "    self.io_loop.start()\n",
      "  File \"/Users/laurentperrinet/.venv/lib/python3.12/site-packages/tornado/platform/asyncio.py\", line 205, in start\n",
      "    self.asyncio_loop.run_forever()\n",
      "  File \"/usr/local/Cellar/python@3.12/3.12.7_1/Frameworks/Python.framework/Versions/3.12/lib/python3.12/asyncio/base_events.py\", line 641, in run_forever\n",
      "    self._run_once()\n",
      "  File \"/usr/local/Cellar/python@3.12/3.12.7_1/Frameworks/Python.framework/Versions/3.12/lib/python3.12/asyncio/base_events.py\", line 1986, in _run_once\n",
      "    handle._run()\n",
      "  File \"/usr/local/Cellar/python@3.12/3.12.7_1/Frameworks/Python.framework/Versions/3.12/lib/python3.12/asyncio/events.py\", line 88, in _run\n",
      "    self._context.run(self._callback, *self._args)\n",
      "  File \"/Users/laurentperrinet/.venv/lib/python3.12/site-packages/ipykernel/kernelbase.py\", line 545, in dispatch_queue\n",
      "    await self.process_one()\n",
      "  File \"/Users/laurentperrinet/.venv/lib/python3.12/site-packages/ipykernel/kernelbase.py\", line 534, in process_one\n",
      "    await dispatch(*args)\n",
      "  File \"/Users/laurentperrinet/.venv/lib/python3.12/site-packages/ipykernel/kernelbase.py\", line 437, in dispatch_shell\n",
      "    await result\n",
      "  File \"/Users/laurentperrinet/.venv/lib/python3.12/site-packages/ipykernel/ipkernel.py\", line 362, in execute_request\n",
      "    await super().execute_request(stream, ident, parent)\n",
      "  File \"/Users/laurentperrinet/.venv/lib/python3.12/site-packages/ipykernel/kernelbase.py\", line 778, in execute_request\n",
      "    reply_content = await reply_content\n",
      "  File \"/Users/laurentperrinet/.venv/lib/python3.12/site-packages/ipykernel/ipkernel.py\", line 449, in do_execute\n",
      "    res = shell.run_cell(\n",
      "  File \"/Users/laurentperrinet/.venv/lib/python3.12/site-packages/ipykernel/zmqshell.py\", line 549, in run_cell\n",
      "    return super().run_cell(*args, **kwargs)\n",
      "  File \"/Users/laurentperrinet/.venv/lib/python3.12/site-packages/IPython/core/interactiveshell.py\", line 3075, in run_cell\n",
      "    result = self._run_cell(\n",
      "  File \"/Users/laurentperrinet/.venv/lib/python3.12/site-packages/IPython/core/interactiveshell.py\", line 3130, in _run_cell\n",
      "    result = runner(coro)\n",
      "  File \"/Users/laurentperrinet/.venv/lib/python3.12/site-packages/IPython/core/async_helpers.py\", line 128, in _pseudo_sync_runner\n",
      "    coro.send(None)\n",
      "  File \"/Users/laurentperrinet/.venv/lib/python3.12/site-packages/IPython/core/interactiveshell.py\", line 3334, in run_cell_async\n",
      "    has_raised = await self.run_ast_nodes(code_ast.body, cell_name,\n",
      "  File \"/Users/laurentperrinet/.venv/lib/python3.12/site-packages/IPython/core/interactiveshell.py\", line 3517, in run_ast_nodes\n",
      "    if await self.run_code(code, result, async_=asy):\n",
      "  File \"/Users/laurentperrinet/.venv/lib/python3.12/site-packages/IPython/core/interactiveshell.py\", line 3577, in run_code\n",
      "    exec(code_obj, self.user_global_ns, self.user_ns)\n",
      "  File \"/var/folders/3p/m0g52j9j69z3gj8ktpgg1dm00000gn/T/ipykernel_69255/148962913.py\", line 2, in <module>\n",
      "    import torch\n",
      "  File \"/Users/laurentperrinet/.venv/lib/python3.12/site-packages/torch/__init__.py\", line 1477, in <module>\n",
      "    from .functional import *  # noqa: F403\n",
      "  File \"/Users/laurentperrinet/.venv/lib/python3.12/site-packages/torch/functional.py\", line 9, in <module>\n",
      "    import torch.nn.functional as F\n",
      "  File \"/Users/laurentperrinet/.venv/lib/python3.12/site-packages/torch/nn/__init__.py\", line 1, in <module>\n",
      "    from .modules import *  # noqa: F403\n",
      "  File \"/Users/laurentperrinet/.venv/lib/python3.12/site-packages/torch/nn/modules/__init__.py\", line 35, in <module>\n",
      "    from .transformer import TransformerEncoder, TransformerDecoder, \\\n",
      "  File \"/Users/laurentperrinet/.venv/lib/python3.12/site-packages/torch/nn/modules/transformer.py\", line 20, in <module>\n",
      "    device: torch.device = torch.device(torch._C._get_default_device()),  # torch.device('cpu'),\n",
      "/Users/laurentperrinet/.venv/lib/python3.12/site-packages/torch/nn/modules/transformer.py:20: UserWarning: Failed to initialize NumPy: _ARRAY_API not found (Triggered internally at /Users/runner/work/pytorch/pytorch/pytorch/torch/csrc/utils/tensor_numpy.cpp:84.)\n",
      "  device: torch.device = torch.device(torch._C._get_default_device()),  # torch.device('cpu'),\n"
     ]
    }
   ],
   "source": [
    "# adapted from https://raw.githubusercontent.com/pytorch/examples/refs/heads/main/mnist/main.py\n",
    "import torch\n",
    "import torch.nn as nn\n",
    "import torch.nn.functional as F\n",
    "import torch.optim as optim\n",
    "from torchvision import datasets, transforms\n",
    "from torch.optim.lr_scheduler import StepLR, ReduceLROnPlateau\n",
    "\n",
    "epochs = 15\n",
    "\n",
    "class Net(nn.Module):\n",
    "    def __init__(self):\n",
    "        super(Net, self).__init__()\n",
    "        self.conv1 = nn.Conv2d(1, 32, 3, 1)\n",
    "        self.conv2 = nn.Conv2d(32, 64, 3, 1)\n",
    "        self.dropout1 = nn.Dropout(0.25)\n",
    "        self.dropout2 = nn.Dropout(0.5)\n",
    "        self.fc1 = nn.Linear(9216, 128)\n",
    "        self.fc2 = nn.Linear(128, 10)\n",
    "\n",
    "    def forward(self, x):\n",
    "        x = self.conv1(x)\n",
    "        x = F.relu(x)\n",
    "        x = self.conv2(x)\n",
    "        x = F.relu(x)\n",
    "        x = F.max_pool2d(x, 2)\n",
    "        x = self.dropout1(x)\n",
    "        x = torch.flatten(x, 1)\n",
    "        x = self.fc1(x)\n",
    "        x = F.relu(x)\n",
    "        x = self.dropout2(x)\n",
    "        x = self.fc2(x)\n",
    "        output = F.log_softmax(x, dim=1)\n",
    "        return output\n",
    "\n",
    "\n",
    "def train(model, device, train_loader, optimizer, epoch, log_interval=100, verbose=True):\n",
    "    model.train()\n",
    "    for batch_idx, (data, target) in enumerate(train_loader):\n",
    "        data, target = data.to(device), target.to(device)\n",
    "        optimizer.zero_grad()\n",
    "        output = model(data)\n",
    "        loss = F.nll_loss(output, target)\n",
    "        loss.backward()\n",
    "        optimizer.step()\n",
    "        if verbose and batch_idx % log_interval  == 0:\n",
    "            print('Train Epoch: {} [{}/{} ({:.0f}%)]\\tLoss: {:.6f}'.format(\n",
    "                epoch, batch_idx * len(data), len(train_loader.dataset),\n",
    "                100. * batch_idx / len(train_loader), loss.item()))\n",
    "\n",
    "\n",
    "def test(model, device, test_loader, verbose=True):\n",
    "    model.eval()\n",
    "    test_loss = 0\n",
    "    correct = 0\n",
    "    with torch.no_grad():\n",
    "        for data, target in test_loader:\n",
    "            data, target = data.to(device), target.to(device)\n",
    "            output = model(data)\n",
    "            test_loss += F.nll_loss(output, target, reduction='sum').item()  # sum up batch loss\n",
    "            pred = output.argmax(dim=1, keepdim=True)  # get the index of the max log-probability\n",
    "            correct += pred.eq(target.view_as(pred)).sum().item()\n",
    "\n",
    "    test_loss /= len(test_loader.dataset)\n",
    "\n",
    "    if verbose:\n",
    "        print('\\nTest set: Average loss: {:.4f}, Accuracy: {}/{} ({:.0f}%)\\n'.format(\n",
    "        test_loss, correct, len(test_loader.dataset),\n",
    "        100. * correct / len(test_loader.dataset)))\n",
    "    return correct / len(test_loader.dataset)\n",
    "\n",
    "\n",
    "def main(mean, std, epochs=epochs, log_interval=100, verbose=False):\n",
    "    # Training settings\n",
    "    torch.manual_seed(1998) # FOOTIX rules !\n",
    "    train_kwargs = {'batch_size': 64}\n",
    "    test_kwargs = {'batch_size': 1000}\n",
    "    if torch.cuda.is_available():\n",
    "        device = torch.device(\"cuda\")\n",
    "        cuda_kwargs = {'num_workers': 1,\n",
    "                       'pin_memory': True,\n",
    "                       'shuffle': True}\n",
    "        train_kwargs.update(cuda_kwargs)\n",
    "        test_kwargs.update(cuda_kwargs)\n",
    "    elif torch.backends.mps.is_available():\n",
    "        device = torch.device(\"mps\")\n",
    "    else:\n",
    "        device = torch.device(\"cpu\")\n",
    "\n",
    "    if mean is None:\n",
    "        transform = transforms.ToTensor()\n",
    "    else:\n",
    "        transform=transforms.Compose([\n",
    "            transforms.ToTensor(),\n",
    "            transforms.Normalize((mean,), (std,))\n",
    "            ])\n",
    "    dataset1 = datasets.MNIST('data', train=True, download=True,\n",
    "                       transform=transform)\n",
    "    train_loader = torch.utils.data.DataLoader(dataset1, **train_kwargs)\n",
    "\n",
    "    dataset2 = datasets.MNIST('data', train=False,\n",
    "                       transform=transform)\n",
    "    test_loader = torch.utils.data.DataLoader(dataset2, **test_kwargs)\n",
    "\n",
    "    model = Net().to(device)\n",
    "\n",
    "    if not mean is None:\n",
    "        model.conv1.bias.data -= mean\n",
    "        model.conv1.weight.data /= std\n",
    "\n",
    "    \n",
    "    optimizer = optim.Adadelta(model.parameters(), lr=1.0)\n",
    "    # scheduler = StepLR(optimizer, step_size=1, gamma=0.7)\n",
    "    scheduler = ReduceLROnPlateau(optimizer, 'max')\n",
    "    for epoch in range(1, epochs+1):\n",
    "        train(model, device, train_loader, optimizer, epoch, log_interval=log_interval, verbose=verbose)\n",
    "        accuracy = test(model, device, test_loader, verbose=verbose)\n",
    "        scheduler.step(accuracy)\n",
    "    return accuracy\n",
    "\n"
   ]
  },
  {
   "cell_type": "markdown",
   "metadata": {},
   "source": [
    "You can notice that I made one change by using the `ReduceLROnPlateau` scheduler instead of `StepLR`. In practice, this only changed the values I could test - run the notebook with enough epochs and the other scheduler to make your own opinion.\n",
    "\n",
    "Now that we've defined the entire protocol, we can test it in its most classic form, as delivered in the original code with 3 digits precision (!) :"
   ]
  },
  {
   "cell_type": "code",
   "execution_count": 5,
   "metadata": {},
   "outputs": [
    {
     "name": "stdout",
     "output_type": "stream",
     "text": [
      "Train Epoch: 1 [0/60000 (0%)]\tLoss: 2.314523\n",
      "Train Epoch: 1 [6400/60000 (11%)]\tLoss: 0.236322\n",
      "Train Epoch: 1 [12800/60000 (21%)]\tLoss: 0.448669\n",
      "Train Epoch: 1 [19200/60000 (32%)]\tLoss: 0.354365\n",
      "Train Epoch: 1 [25600/60000 (43%)]\tLoss: 0.205463\n",
      "Train Epoch: 1 [32000/60000 (53%)]\tLoss: 0.095123\n",
      "Train Epoch: 1 [38400/60000 (64%)]\tLoss: 0.071973\n",
      "Train Epoch: 1 [44800/60000 (75%)]\tLoss: 0.070792\n",
      "Train Epoch: 1 [51200/60000 (85%)]\tLoss: 0.065651\n",
      "Train Epoch: 1 [57600/60000 (96%)]\tLoss: 0.025615\n",
      "\n",
      "Test set: Average loss: 0.0515, Accuracy: 9843/10000 (98%)\n",
      "\n",
      "Train Epoch: 2 [0/60000 (0%)]\tLoss: 0.027898\n",
      "Train Epoch: 2 [6400/60000 (11%)]\tLoss: 0.034083\n",
      "Train Epoch: 2 [12800/60000 (21%)]\tLoss: 0.121287\n",
      "Train Epoch: 2 [19200/60000 (32%)]\tLoss: 0.038534\n",
      "Train Epoch: 2 [25600/60000 (43%)]\tLoss: 0.092220\n",
      "Train Epoch: 2 [32000/60000 (53%)]\tLoss: 0.157338\n",
      "Train Epoch: 2 [38400/60000 (64%)]\tLoss: 0.026233\n",
      "Train Epoch: 2 [44800/60000 (75%)]\tLoss: 0.007240\n",
      "Train Epoch: 2 [51200/60000 (85%)]\tLoss: 0.002509\n",
      "Train Epoch: 2 [57600/60000 (96%)]\tLoss: 0.141234\n",
      "\n",
      "Test set: Average loss: 0.0401, Accuracy: 9874/10000 (99%)\n",
      "\n",
      "Train Epoch: 3 [0/60000 (0%)]\tLoss: 0.002949\n",
      "Train Epoch: 3 [6400/60000 (11%)]\tLoss: 0.007469\n",
      "Train Epoch: 3 [12800/60000 (21%)]\tLoss: 0.231905\n",
      "Train Epoch: 3 [19200/60000 (32%)]\tLoss: 0.027577\n",
      "Train Epoch: 3 [25600/60000 (43%)]\tLoss: 0.012634\n",
      "Train Epoch: 3 [32000/60000 (53%)]\tLoss: 0.018396\n",
      "Train Epoch: 3 [38400/60000 (64%)]\tLoss: 0.012986\n",
      "Train Epoch: 3 [44800/60000 (75%)]\tLoss: 0.061146\n",
      "Train Epoch: 3 [51200/60000 (85%)]\tLoss: 0.018272\n",
      "Train Epoch: 3 [57600/60000 (96%)]\tLoss: 0.080821\n",
      "\n",
      "Test set: Average loss: 0.0368, Accuracy: 9877/10000 (99%)\n",
      "\n",
      "Train Epoch: 4 [0/60000 (0%)]\tLoss: 0.068267\n",
      "Train Epoch: 4 [6400/60000 (11%)]\tLoss: 0.004584\n",
      "Train Epoch: 4 [12800/60000 (21%)]\tLoss: 0.147518\n",
      "Train Epoch: 4 [19200/60000 (32%)]\tLoss: 0.167045\n",
      "Train Epoch: 4 [25600/60000 (43%)]\tLoss: 0.086485\n",
      "Train Epoch: 4 [32000/60000 (53%)]\tLoss: 0.001989\n",
      "Train Epoch: 4 [38400/60000 (64%)]\tLoss: 0.137518\n",
      "Train Epoch: 4 [44800/60000 (75%)]\tLoss: 0.128316\n",
      "Train Epoch: 4 [51200/60000 (85%)]\tLoss: 0.002762\n",
      "Train Epoch: 4 [57600/60000 (96%)]\tLoss: 0.168111\n",
      "\n",
      "Test set: Average loss: 0.0308, Accuracy: 9903/10000 (99%)\n",
      "\n",
      "Train Epoch: 5 [0/60000 (0%)]\tLoss: 0.017260\n",
      "Train Epoch: 5 [6400/60000 (11%)]\tLoss: 0.073951\n",
      "Train Epoch: 5 [12800/60000 (21%)]\tLoss: 0.262954\n",
      "Train Epoch: 5 [19200/60000 (32%)]\tLoss: 0.123041\n",
      "Train Epoch: 5 [25600/60000 (43%)]\tLoss: 0.065320\n",
      "Train Epoch: 5 [32000/60000 (53%)]\tLoss: 0.011981\n",
      "Train Epoch: 5 [38400/60000 (64%)]\tLoss: 0.073368\n",
      "Train Epoch: 5 [44800/60000 (75%)]\tLoss: 0.027413\n",
      "Train Epoch: 5 [51200/60000 (85%)]\tLoss: 0.082088\n",
      "Train Epoch: 5 [57600/60000 (96%)]\tLoss: 0.012099\n",
      "\n",
      "Test set: Average loss: 0.0346, Accuracy: 9901/10000 (99%)\n",
      "\n",
      "Train Epoch: 6 [0/60000 (0%)]\tLoss: 0.001192\n",
      "Train Epoch: 6 [6400/60000 (11%)]\tLoss: 0.003795\n",
      "Train Epoch: 6 [12800/60000 (21%)]\tLoss: 0.068516\n",
      "Train Epoch: 6 [19200/60000 (32%)]\tLoss: 0.001422\n",
      "Train Epoch: 6 [25600/60000 (43%)]\tLoss: 0.083447\n",
      "Train Epoch: 6 [32000/60000 (53%)]\tLoss: 0.013740\n",
      "Train Epoch: 6 [38400/60000 (64%)]\tLoss: 0.008872\n",
      "Train Epoch: 6 [44800/60000 (75%)]\tLoss: 0.002610\n",
      "Train Epoch: 6 [51200/60000 (85%)]\tLoss: 0.003221\n",
      "Train Epoch: 6 [57600/60000 (96%)]\tLoss: 0.094118\n",
      "\n",
      "Test set: Average loss: 0.0347, Accuracy: 9908/10000 (99%)\n",
      "\n",
      "Train Epoch: 7 [0/60000 (0%)]\tLoss: 0.060312\n",
      "Train Epoch: 7 [6400/60000 (11%)]\tLoss: 0.131058\n",
      "Train Epoch: 7 [12800/60000 (21%)]\tLoss: 0.014429\n",
      "Train Epoch: 7 [19200/60000 (32%)]\tLoss: 0.042458\n",
      "Train Epoch: 7 [25600/60000 (43%)]\tLoss: 0.002442\n",
      "Train Epoch: 7 [32000/60000 (53%)]\tLoss: 0.115311\n",
      "Train Epoch: 7 [38400/60000 (64%)]\tLoss: 0.109928\n",
      "Train Epoch: 7 [44800/60000 (75%)]\tLoss: 0.046979\n",
      "Train Epoch: 7 [51200/60000 (85%)]\tLoss: 0.004923\n",
      "Train Epoch: 7 [57600/60000 (96%)]\tLoss: 0.023398\n",
      "\n",
      "Test set: Average loss: 0.0346, Accuracy: 9893/10000 (99%)\n",
      "\n",
      "Train Epoch: 8 [0/60000 (0%)]\tLoss: 0.074107\n",
      "Train Epoch: 8 [6400/60000 (11%)]\tLoss: 0.015747\n",
      "Train Epoch: 8 [12800/60000 (21%)]\tLoss: 0.002602\n",
      "Train Epoch: 8 [19200/60000 (32%)]\tLoss: 0.018806\n",
      "Train Epoch: 8 [25600/60000 (43%)]\tLoss: 0.133399\n",
      "Train Epoch: 8 [32000/60000 (53%)]\tLoss: 0.003179\n",
      "Train Epoch: 8 [38400/60000 (64%)]\tLoss: 0.022283\n",
      "Train Epoch: 8 [44800/60000 (75%)]\tLoss: 0.074575\n",
      "Train Epoch: 8 [51200/60000 (85%)]\tLoss: 0.009551\n",
      "Train Epoch: 8 [57600/60000 (96%)]\tLoss: 0.035168\n",
      "\n",
      "Test set: Average loss: 0.0417, Accuracy: 9907/10000 (99%)\n",
      "\n",
      "Train Epoch: 9 [0/60000 (0%)]\tLoss: 0.000358\n",
      "Train Epoch: 9 [6400/60000 (11%)]\tLoss: 0.052907\n",
      "Train Epoch: 9 [12800/60000 (21%)]\tLoss: 0.034857\n",
      "Train Epoch: 9 [19200/60000 (32%)]\tLoss: 0.102631\n",
      "Train Epoch: 9 [25600/60000 (43%)]\tLoss: 0.001109\n",
      "Train Epoch: 9 [32000/60000 (53%)]\tLoss: 0.029547\n",
      "Train Epoch: 9 [38400/60000 (64%)]\tLoss: 0.009871\n",
      "Train Epoch: 9 [44800/60000 (75%)]\tLoss: 0.154225\n",
      "Train Epoch: 9 [51200/60000 (85%)]\tLoss: 0.103956\n",
      "Train Epoch: 9 [57600/60000 (96%)]\tLoss: 0.014548\n",
      "\n",
      "Test set: Average loss: 0.0368, Accuracy: 9890/10000 (99%)\n",
      "\n",
      "Train Epoch: 10 [0/60000 (0%)]\tLoss: 0.035479\n",
      "Train Epoch: 10 [6400/60000 (11%)]\tLoss: 0.010002\n",
      "Train Epoch: 10 [12800/60000 (21%)]\tLoss: 0.015567\n",
      "Train Epoch: 10 [19200/60000 (32%)]\tLoss: 0.003325\n",
      "Train Epoch: 10 [25600/60000 (43%)]\tLoss: 0.020900\n",
      "Train Epoch: 10 [32000/60000 (53%)]\tLoss: 0.012537\n",
      "Train Epoch: 10 [38400/60000 (64%)]\tLoss: 0.048199\n",
      "Train Epoch: 10 [44800/60000 (75%)]\tLoss: 0.035610\n",
      "Train Epoch: 10 [51200/60000 (85%)]\tLoss: 0.058221\n",
      "Train Epoch: 10 [57600/60000 (96%)]\tLoss: 0.044222\n",
      "\n",
      "Test set: Average loss: 0.0385, Accuracy: 9901/10000 (99%)\n",
      "\n",
      "Train Epoch: 11 [0/60000 (0%)]\tLoss: 0.019746\n",
      "Train Epoch: 11 [6400/60000 (11%)]\tLoss: 0.017226\n",
      "Train Epoch: 11 [12800/60000 (21%)]\tLoss: 0.137479\n",
      "Train Epoch: 11 [19200/60000 (32%)]\tLoss: 0.006017\n",
      "Train Epoch: 11 [25600/60000 (43%)]\tLoss: 0.023403\n",
      "Train Epoch: 11 [32000/60000 (53%)]\tLoss: 0.000249\n",
      "Train Epoch: 11 [38400/60000 (64%)]\tLoss: 0.072421\n",
      "Train Epoch: 11 [44800/60000 (75%)]\tLoss: 0.030280\n",
      "Train Epoch: 11 [51200/60000 (85%)]\tLoss: 0.026567\n",
      "Train Epoch: 11 [57600/60000 (96%)]\tLoss: 0.018811\n",
      "\n",
      "Test set: Average loss: 0.0475, Accuracy: 9904/10000 (99%)\n",
      "\n",
      "Train Epoch: 12 [0/60000 (0%)]\tLoss: 0.002535\n",
      "Train Epoch: 12 [6400/60000 (11%)]\tLoss: 0.210669\n",
      "Train Epoch: 12 [12800/60000 (21%)]\tLoss: 0.026025\n",
      "Train Epoch: 12 [19200/60000 (32%)]\tLoss: 0.003038\n",
      "Train Epoch: 12 [25600/60000 (43%)]\tLoss: 0.081428\n",
      "Train Epoch: 12 [32000/60000 (53%)]\tLoss: 0.000658\n",
      "Train Epoch: 12 [38400/60000 (64%)]\tLoss: 0.006770\n",
      "Train Epoch: 12 [44800/60000 (75%)]\tLoss: 0.042153\n",
      "Train Epoch: 12 [51200/60000 (85%)]\tLoss: 0.039968\n",
      "Train Epoch: 12 [57600/60000 (96%)]\tLoss: 0.003539\n",
      "\n",
      "Test set: Average loss: 0.0453, Accuracy: 9904/10000 (99%)\n",
      "\n",
      "Train Epoch: 13 [0/60000 (0%)]\tLoss: 0.058825\n",
      "Train Epoch: 13 [6400/60000 (11%)]\tLoss: 0.033515\n",
      "Train Epoch: 13 [12800/60000 (21%)]\tLoss: 0.002531\n",
      "Train Epoch: 13 [19200/60000 (32%)]\tLoss: 0.010319\n",
      "Train Epoch: 13 [25600/60000 (43%)]\tLoss: 0.021864\n",
      "Train Epoch: 13 [32000/60000 (53%)]\tLoss: 0.008203\n",
      "Train Epoch: 13 [38400/60000 (64%)]\tLoss: 0.001453\n",
      "Train Epoch: 13 [44800/60000 (75%)]\tLoss: 0.005181\n",
      "Train Epoch: 13 [51200/60000 (85%)]\tLoss: 0.001007\n",
      "Train Epoch: 13 [57600/60000 (96%)]\tLoss: 0.048749\n",
      "\n",
      "Test set: Average loss: 0.0394, Accuracy: 9900/10000 (99%)\n",
      "\n",
      "Train Epoch: 14 [0/60000 (0%)]\tLoss: 0.004093\n",
      "Train Epoch: 14 [6400/60000 (11%)]\tLoss: 0.000989\n",
      "Train Epoch: 14 [12800/60000 (21%)]\tLoss: 0.111468\n",
      "Train Epoch: 14 [19200/60000 (32%)]\tLoss: 0.001671\n",
      "Train Epoch: 14 [25600/60000 (43%)]\tLoss: 0.059040\n",
      "Train Epoch: 14 [32000/60000 (53%)]\tLoss: 0.115601\n",
      "Train Epoch: 14 [38400/60000 (64%)]\tLoss: 0.005570\n",
      "Train Epoch: 14 [44800/60000 (75%)]\tLoss: 0.006939\n",
      "Train Epoch: 14 [51200/60000 (85%)]\tLoss: 0.026367\n",
      "Train Epoch: 14 [57600/60000 (96%)]\tLoss: 0.005235\n",
      "\n",
      "Test set: Average loss: 0.0367, Accuracy: 9911/10000 (99%)\n",
      "\n",
      "Train Epoch: 15 [0/60000 (0%)]\tLoss: 0.028051\n",
      "Train Epoch: 15 [6400/60000 (11%)]\tLoss: 0.008038\n",
      "Train Epoch: 15 [12800/60000 (21%)]\tLoss: 0.008817\n",
      "Train Epoch: 15 [19200/60000 (32%)]\tLoss: 0.263984\n",
      "Train Epoch: 15 [25600/60000 (43%)]\tLoss: 0.002319\n",
      "Train Epoch: 15 [32000/60000 (53%)]\tLoss: 0.002771\n",
      "Train Epoch: 15 [38400/60000 (64%)]\tLoss: 0.039754\n",
      "Train Epoch: 15 [44800/60000 (75%)]\tLoss: 0.017313\n",
      "Train Epoch: 15 [51200/60000 (85%)]\tLoss: 0.058763\n",
      "Train Epoch: 15 [57600/60000 (96%)]\tLoss: 0.004250\n",
      "\n",
      "Test set: Average loss: 0.0383, Accuracy: 9923/10000 (99%)\n",
      "\n",
      "accuracy=0.9923\n"
     ]
    }
   ],
   "source": [
    "accuracy = main(mean=0.1307, std=0.3081, verbose=True)\n",
    "print(f'{accuracy=:.4f}')"
   ]
  },
  {
   "cell_type": "markdown",
   "metadata": {},
   "source": [
    "These exact same numbers were first introduced in that code on [Jan 17, 2017](https://github.com/pytorch/examples/commit/32c7386aef93737926069ee284d827f8e954e086) and these exact values have not changed since (up to the 3rd digit)."
   ]
  },
  {
   "cell_type": "markdown",
   "metadata": {},
   "source": [
    "One advantage of our code is that we can now manipulate these two values, to see if starting from a different tuple of numbers, we obtain an accuracy value that is different.\n",
    "\n"
   ]
  },
  {
   "cell_type": "markdown",
   "metadata": {},
   "source": [
    "Let's first see what happens without normalization:"
   ]
  },
  {
   "cell_type": "code",
   "execution_count": 9,
   "metadata": {},
   "outputs": [
    {
     "name": "stdout",
     "output_type": "stream",
     "text": [
      "accuracy=0.9918\n"
     ]
    }
   ],
   "source": [
    "accuracy = main(mean=None, std=None)\n",
    "print(f'{accuracy=:.4f}')"
   ]
  },
  {
   "cell_type": "markdown",
   "metadata": {},
   "source": [
    "Pretty much the same...\n",
    "\n",
    "What if we use standard numbers?"
   ]
  },
  {
   "cell_type": "code",
   "execution_count": 10,
   "metadata": {
    "scrolled": true
   },
   "outputs": [
    {
     "name": "stdout",
     "output_type": "stream",
     "text": [
      "accuracy=0.9904\n"
     ]
    }
   ],
   "source": [
    "accuracy = main(mean=0., std=1.)\n",
    "print(f'{accuracy=:.4f}')"
   ]
  },
  {
   "cell_type": "markdown",
   "metadata": {},
   "source": [
    "The result seems similar, but it's not enough to demonstrate that the mean and standard deviation have no effect on learning."
   ]
  },
  {
   "cell_type": "markdown",
   "metadata": {},
   "source": [
    "## computing accuracy on a regular grid of values\n",
    "\n",
    "I'm now going to push the boat out further, using a library that allows me to test several values and thus optimize the parameters. If the mean and deviation are so important, we'll converge on a fixed set of values, whereas if they're less important, the values can be quite scattered. In particular, this will allow us to choose an arbitrary value, such as a mean of 0 and a standard deviation of 1, better known as *normal* normalization."
   ]
  },
  {
   "cell_type": "code",
   "execution_count": 12,
   "metadata": {},
   "outputs": [
    {
     "data": {
      "text/plain": [
       "('numpy-LeNet.npy', True)"
      ]
     },
     "execution_count": 12,
     "metadata": {},
     "output_type": "execute_result"
    }
   ],
   "source": [
    "model = 'LeNet'\n",
    "path_save_numpy =  f'numpy-{model}.npy'\n",
    "path_save_numpy, not(os.path.isfile(path_save_numpy))\n"
   ]
  },
  {
   "cell_type": "code",
   "execution_count": 13,
   "metadata": {},
   "outputs": [
    {
     "name": "stdout",
     "output_type": "stream",
     "text": [
      "ls: numpy-LeNet.npy: No such file or directory\n"
     ]
    }
   ],
   "source": [
    "%ls -l {path_save_numpy}"
   ]
  },
  {
   "cell_type": "code",
   "execution_count": 6,
   "metadata": {},
   "outputs": [],
   "source": [
    "# %rm {path_save_numpy}"
   ]
  },
  {
   "cell_type": "code",
   "execution_count": 7,
   "metadata": {},
   "outputs": [],
   "source": [
    "epochs = 25 # a bit more than the original example which had 15 epochs"
   ]
  },
  {
   "cell_type": "code",
   "execution_count": null,
   "metadata": {},
   "outputs": [
    {
     "ename": "NameError",
     "evalue": "name 'main' is not defined",
     "output_type": "error",
     "traceback": [
      "\u001b[0;31m---------------------------------------------------------------------------\u001b[0m",
      "\u001b[0;31mNameError\u001b[0m                                 Traceback (most recent call last)",
      "Cell \u001b[0;32mIn[8], line 10\u001b[0m\n\u001b[1;32m      8\u001b[0m     \u001b[38;5;28;01mfor\u001b[39;00m i_mean, mean \u001b[38;5;129;01min\u001b[39;00m \u001b[38;5;28menumerate\u001b[39m(means):\n\u001b[1;32m      9\u001b[0m         \u001b[38;5;28;01mfor\u001b[39;00m i_std, std \u001b[38;5;129;01min\u001b[39;00m \u001b[38;5;28menumerate\u001b[39m(stds):\n\u001b[0;32m---> 10\u001b[0m             accuracy[i_mean, i_std] \u001b[38;5;241m=\u001b[39m \u001b[43mmain\u001b[49m(mean\u001b[38;5;241m=\u001b[39mmean, std\u001b[38;5;241m=\u001b[39mstd, epochs\u001b[38;5;241m=\u001b[39mepochs)\n\u001b[1;32m     12\u001b[0m     np\u001b[38;5;241m.\u001b[39msave(path_save_numpy, accuracy)\n\u001b[1;32m     13\u001b[0m \u001b[38;5;28;01melse\u001b[39;00m:\n",
      "\u001b[0;31mNameError\u001b[0m: name 'main' is not defined"
     ]
    }
   ],
   "source": [
    "N_scan = 15\n",
    "means = np.linspace(-3, 3, N_scan, endpoint=True)\n",
    "stds = np.geomspace(0.1, 2., N_scan, endpoint=True)\n",
    "\n",
    "if not(os.path.isfile(path_save_numpy)):\n",
    "    accuracy = np.empty((N_scan, N_scan))\n",
    "    for i_mean, mean in enumerate(means):\n",
    "        for i_std, std in enumerate(stds):\n",
    "            accuracy[i_mean, i_std] = main(mean=mean, std=std, epochs=epochs)\n",
    "\n",
    "    np.save(path_save_numpy, accuracy)\n",
    "else:\n",
    "    accuracy = np.load(path_save_numpy)\n",
    "    "
   ]
  },
  {
   "cell_type": "code",
   "execution_count": 15,
   "metadata": {},
   "outputs": [
    {
     "data": {
      "text/plain": [
       "Text(0, 0.5, 'std')"
      ]
     },
     "execution_count": 15,
     "metadata": {},
     "output_type": "execute_result"
    },
    {
     "data": {
      "image/png": "[encoded data removed]",
      "text/plain": [
       "<Figure size 1000x618.034 with 2 Axes>"
      ]
     },
     "metadata": {},
     "output_type": "display_data"
    }
   ],
   "source": [
    "fig, ax = plt.subplots(figsize=figsize)\n",
    "pcm = ax.contourf(means, stds, accuracy, cmap='hot')\n",
    "fig.colorbar(pcm, ax=ax)\n",
    "ax.set_title('Results for the LeNet model on the MNIST dataset')\n",
    "ax.set_xlabel('mean')\n",
    "ax.set_ylabel('std')\n"
   ]
  },
  {
   "cell_type": "markdown",
   "metadata": {},
   "source": [
    "## using optuna to search on a non-regular grid of values\n",
    "\n",
    "I'm now going to push the boat out further, using a library that allows me to test several values and thus optimize the parameters. If the mean and deviation are so important, we'll converge on a fixed set of values, whereas if they're less important, the values can be quite scattered. In particular, this will allow us to choose an arbitrary value, such as a mean of 0 and a standard deviation of 1, better known as *normal* normalization."
   ]
  },
  {
   "cell_type": "code",
   "execution_count": 16,
   "metadata": {},
   "outputs": [],
   "source": [
    "import optuna\n",
    "optuna.logging.set_verbosity(optuna.logging.WARNING)\n",
    "model = 'LeNet'\n",
    "path_save_optuna =  f'optuna-{model}.sqlite3'"
   ]
  },
  {
   "cell_type": "code",
   "execution_count": 17,
   "metadata": {},
   "outputs": [],
   "source": [
    "# %rm {path_save_optuna}"
   ]
  },
  {
   "cell_type": "code",
   "execution_count": 18,
   "metadata": {},
   "outputs": [
    {
     "name": "stdout",
     "output_type": "stream",
     "text": [
      "-.-.-.-.-.-.-.-.-.-.-.-.-.-.-.-.-.-.-.-.-.-.-.-.-.-.-.-.-.-.-.-.-.-.-.-.-.-.-.-.-.-.-.-.-.-.-.-.-.-.\n"
     ]
    },
    {
     "ename": "NameError",
     "evalue": "name 'study' is not defined",
     "output_type": "error",
     "traceback": [
      "\u001b[0;31m---------------------------------------------------------------------------\u001b[0m",
      "\u001b[0;31mNameError\u001b[0m                                 Traceback (most recent call last)",
      "Cell \u001b[0;32mIn[18], line 12\u001b[0m\n\u001b[1;32m     10\u001b[0m     study\u001b[38;5;241m.\u001b[39moptimize(objective, n_trials\u001b[38;5;241m=\u001b[39m\u001b[38;5;241m200\u001b[39m, show_progress_bar\u001b[38;5;241m=\u001b[39m\u001b[38;5;28;01mTrue\u001b[39;00m)\n\u001b[1;32m     11\u001b[0m \u001b[38;5;28mprint\u001b[39m(\u001b[38;5;241m50\u001b[39m\u001b[38;5;241m*\u001b[39m\u001b[38;5;124m'\u001b[39m\u001b[38;5;124m-.\u001b[39m\u001b[38;5;124m'\u001b[39m)\n\u001b[0;32m---> 12\u001b[0m \u001b[38;5;28mprint\u001b[39m(\u001b[38;5;124m\"\u001b[39m\u001b[38;5;124mBest params: \u001b[39m\u001b[38;5;124m\"\u001b[39m, \u001b[43mstudy\u001b[49m\u001b[38;5;241m.\u001b[39mbest_params)\n\u001b[1;32m     13\u001b[0m \u001b[38;5;28mprint\u001b[39m(\u001b[38;5;124m\"\u001b[39m\u001b[38;5;124mBest value: \u001b[39m\u001b[38;5;124m\"\u001b[39m, study\u001b[38;5;241m.\u001b[39mbest_value)\n\u001b[1;32m     14\u001b[0m \u001b[38;5;28mprint\u001b[39m(\u001b[38;5;241m50\u001b[39m\u001b[38;5;241m*\u001b[39m\u001b[38;5;124m'\u001b[39m\u001b[38;5;124m=\u001b[39m\u001b[38;5;124m'\u001b[39m)\n",
      "\u001b[0;31mNameError\u001b[0m: name 'study' is not defined"
     ]
    }
   ],
   "source": [
    "def objective(trial):\n",
    "    mean = trial.suggest_float('mean', -3, 3, log=False)\n",
    "    std = trial.suggest_float('std', 0.1, 2, log=True)\n",
    "    accuracy = main(mean=mean, std=std, epochs=epochs)\n",
    "    return accuracy\n",
    "\n",
    "if not(os.path.isfile(path_save_optuna)):\n",
    "    study = optuna.create_study(direction='maximize', load_if_exists=True, \n",
    "                                storage=f\"sqlite:///{path_save_optuna}\", study_name=model)\n",
    "    study.optimize(objective, n_trials=200, show_progress_bar=True)\n",
    "print(50*'-.')\n",
    "print(\"Best params: \", study.best_params)\n",
    "print(\"Best value: \", study.best_value)\n",
    "print(50*'=')\n"
   ]
  },
  {
   "cell_type": "code",
   "execution_count": null,
   "metadata": {},
   "outputs": [],
   "source": [
    "# https://optuna.readthedocs.io/en/stable/reference/visualization/matplotlib/generated/optuna.visualization.matplotlib.contour.html\n",
    "from optuna.visualization.matplotlib import plot_contour\n",
    "\n",
    "ax = plot_contour(study, params=[\"mean\", \"std\"], target_name=\"Accuracy\")\n",
    "fig = plt.gcf()\n",
    "ax.set_title('Results for the LeNet model on the MNIST dataset')\n",
    "fig.set_size_inches(figsize[0], figsize[1])"
   ]
  },
  {
   "cell_type": "markdown",
   "metadata": {},
   "source": [
    "# The ImageNet challenge and *residual networks* \n",
    "\n",
    "Second, let's tackle a real world problem: image classification with 1 million images and 1000 labels. For this we will use the well-known Resnet model defined in [Deep Residual Learning for Image Recognition](https://arxiv.org/abs/1512.03385) as it givves a nice balance between simplicity and performance.\n",
    "\n",
    "The cell below allows you to do everything: first load the libraries, then define the neural network, and finally define the learning and testing procedures that are applied to the database. The output accuracy value corresponds to the percentage of images that are correctly classified. To simplify things, we will use pretrained weights and the retraining protocol which were used in [Jean-Nicolas Jérémie, Laurent U Perrinet (2023). Ultra-Fast Image Categorization in biology and in neural models.](https://laurentperrinet.github.io/publication/jeremie-23-ultra-fast-cat/) and available in the following code [UltraFastCat.ipynb](https://nbviewer.org/github/JNJER/2022-03_UltraFastCat/blob/main/UltraFastCat.ipynb)\n",
    "\n",
    "In this cell, we'll isolate the two parameters used to set the mean and standard deviation applied to the normalization function, which we'll be manipulating in the course of this book. Since we have colored images, that is, 3 channels, it means we manipulate 6 variables."
   ]
  },
  {
   "cell_type": "markdown",
   "metadata": {},
   "source": [
    "https://pytorch.org/hub/pytorch_vision_resnet/"
   ]
  },
  {
   "cell_type": "code",
   "execution_count": null,
   "metadata": {},
   "outputs": [],
   "source": [
    "import torch\n",
    "from torchvision.models import ResNet18_Weights\n",
    "\n",
    "model = torch.hub.load('pytorch/vision:v0.10.0', 'resnet18', weights=ResNet18_Weights.DEFAULT)\n",
    "# or any of these variants 'resnet34', 'resnet50', 'resnet101', 'resnet152',\n",
    "model"
   ]
  },
  {
   "cell_type": "code",
   "execution_count": null,
   "metadata": {},
   "outputs": [],
   "source": [
    "epochs = 1\n",
    "\n",
    "def train(model, device, train_loader, criterion, optimizer, epoch, log_interval=100, verbose=True):\n",
    "    model.train()\n",
    "    for batch_idx, (data, target) in enumerate(train_loader):\n",
    "        data, target = data.to(device), target.to(device)\n",
    "        optimizer.zero_grad()\n",
    "        output = model(data)\n",
    "        loss = criterion(output, target)\n",
    "        loss.backward()\n",
    "        optimizer.step()\n",
    "        if verbose and batch_idx % log_interval  == 0:\n",
    "            print('Train Epoch: {} [{}/{} ({:.0f}%)]\\tLoss: {:.6f}'.format(\n",
    "                epoch, batch_idx * len(data), len(train_loader.dataset),\n",
    "                100. * batch_idx / len(train_loader), loss.item()))\n",
    "\n",
    "\n",
    "def test(model, device, test_loader, verbose=True):\n",
    "    model.eval()\n",
    "    test_loss = 0\n",
    "    correct = 0\n",
    "    with torch.no_grad():\n",
    "        for data, target in test_loader:\n",
    "            data, target = data.to(device), target.to(device)\n",
    "            output = model(data)\n",
    "            pred = output.argmax(dim=1, keepdim=True)  # get the index of the max log-probability\n",
    "            correct += pred.eq(target.view_as(pred)).sum().item()\n",
    "\n",
    "\n",
    "    if verbose:\n",
    "        print('\\nTest set: Av Accuracy: {}/{} ({:.0f}%)\\n'.format(\n",
    "            correct, len(test_loader.dataset),\n",
    "            100. * correct / len(test_loader.dataset)))\n",
    "    return correct / len(test_loader.dataset)\n",
    "\n",
    "def main(mean_R, mean_G, mean_B, std_R, std_G, std_B, epochs=epochs, log_interval=100, verbose=False):\n",
    "    # Training settings\n",
    "    torch.manual_seed(1998) # FOOTIX rules !\n",
    "    train_kwargs = {'batch_size': 64}\n",
    "    test_kwargs = {'batch_size': 1000}\n",
    "    if torch.cuda.is_available():\n",
    "        device = torch.device(\"cuda\")\n",
    "        cuda_kwargs = {'num_workers': 1,\n",
    "                       'pin_memory': True,\n",
    "                       'shuffle': True}\n",
    "        train_kwargs.update(cuda_kwargs)\n",
    "        test_kwargs.update(cuda_kwargs)\n",
    "    elif torch.backends.mps.is_available():\n",
    "        device = torch.device(\"mps\")\n",
    "    else:\n",
    "        device = torch.device(\"cpu\")\n",
    "\n",
    "    transform = transforms.Compose([\n",
    "        transforms.Resize(256),\n",
    "        transforms.CenterCrop(224),\n",
    "        transforms.ToTensor(),\n",
    "        transforms.Normalize((mean_R, mean_G, mean_B), (std_R, std_G, std_B))\n",
    "        ])\n",
    "    \n",
    "    DATADIR = '../Deep_learning/data/Imagenet_redux'\n",
    "    train_loader = torch.utils.data.DataLoader(datasets.ImageFolder(DATADIR + '/train', transform=transform), **train_kwargs)\n",
    "    test_loader = torch.utils.data.DataLoader(datasets.ImageFolder(DATADIR + '/val', transform=transform), **test_kwargs)\n",
    "\n",
    "    model = torch.hub.load('pytorch/vision:v0.10.0', 'resnet18', weights=ResNet18_Weights.DEFAULT, verbose=False)\n",
    "    model = model.to(device)\n",
    "\n",
    "    # model.conv1.bias.data -= mean\n",
    "    model.conv1.weight.data /= std\n",
    "\n",
    "    criterion = nn.CrossEntropyLoss()\n",
    "    # optimizer = optim.Adadelta(model.parameters(), lr=1.0)\n",
    "    optimizer = optim.SGD(model.parameters(), lr=0.01, momentum=0.9)\n",
    "\n",
    "    # scheduler = StepLR(optimizer, step_size=1, gamma=0.7)\n",
    "    scheduler = ReduceLROnPlateau(optimizer, 'min')\n",
    "    for epoch in range(1, epochs):\n",
    "        train(model, device, train_loader, criterion, optimizer, epoch, log_interval=log_interval, verbose=verbose)\n",
    "        scheduler.step()\n",
    "\n",
    "    accuracy = test(model, device, test_loader, verbose=verbose)\n",
    "    return accuracy"
   ]
  },
  {
   "cell_type": "markdown",
   "metadata": {},
   "source": [
    "\n",
    "Now that we've defined the entire protocol, we can test it in its most classic form, as delivered in the original code by 6 numbers with 3 digits precision:"
   ]
  },
  {
   "cell_type": "code",
   "execution_count": null,
   "metadata": {},
   "outputs": [],
   "source": [
    "accuracy = main(0.485, 0.456, 0.406, 0.229, 0.224, 0.225)\n",
    "print(f'{accuracy=:.4f}')"
   ]
  },
  {
   "cell_type": "markdown",
   "metadata": {},
   "source": [
    "What does it yield with normal parameters?"
   ]
  },
  {
   "cell_type": "code",
   "execution_count": null,
   "metadata": {},
   "outputs": [],
   "source": [
    "accuracy = main(0., 0., 0., 1., 1., 1.)\n",
    "print(f'{accuracy=:.4f}')"
   ]
  },
  {
   "cell_type": "markdown",
   "metadata": {},
   "source": [
    "Let's scan the parameters:"
   ]
  },
  {
   "cell_type": "code",
   "execution_count": null,
   "metadata": {},
   "outputs": [],
   "source": [
    "model = 'ResNet'"
   ]
  },
  {
   "cell_type": "code",
   "execution_count": null,
   "metadata": {},
   "outputs": [],
   "source": [
    "N_scan = 15\n",
    "means = np.linspace(-3, 3, N_scan, endpoint=True)\n",
    "stds = np.geomspace(0.1, 2., N_scan, endpoint=True)\n",
    "\n",
    "path_save_numpy =  f'numpy-{model}.npy'\n",
    "if not(os.path.isfile(path_save_numpy)):\n",
    "    accuracy = np.empty((N_scan, N_scan))\n",
    "    for i_mean, mean in enumerate(means):\n",
    "        for i_std, std in enumerate(stds):\n",
    "            accuracy[i_mean, i_std] = main(mean, mean, mean, std, std, std, epochs=epochs)\n",
    "\n",
    "    np.save(path_save_numpy, accuracy)\n",
    "else:\n",
    "    accuracy = np.load(path_save_numpy)\n",
    "    "
   ]
  },
  {
   "cell_type": "code",
   "execution_count": null,
   "metadata": {},
   "outputs": [],
   "source": [
    "fig, ax = plt.subplots(figsize=figsize)\n",
    "pcm = ax.contourf(means, stds, accuracy, cmap='hot')\n",
    "fig.colorbar(pcm, ax=ax)\n",
    "ax.set_title('Results for the ResNet model on the ImageNet dataset')\n",
    "ax.set_xlabel('mean')\n",
    "ax.set_ylabel('std')\n"
   ]
  },
  {
   "cell_type": "markdown",
   "metadata": {},
   "source": [
    "And now with optuna:"
   ]
  },
  {
   "cell_type": "code",
   "execution_count": null,
   "metadata": {},
   "outputs": [],
   "source": [
    "path_save_optuna =  f'optuna-{model}.sqlite3'"
   ]
  },
  {
   "cell_type": "code",
   "execution_count": null,
   "metadata": {},
   "outputs": [],
   "source": [
    "# %rm {path_save_optuna}"
   ]
  },
  {
   "cell_type": "code",
   "execution_count": null,
   "metadata": {},
   "outputs": [],
   "source": [
    "def objective(trial):\n",
    "    mean = trial.suggest_float('mean', -3, 3, log=False)\n",
    "    std = trial.suggest_float('std', 0.1, 2, log=True)\n",
    "    accuracy = main(mean, mean, mean, std, std, std, epochs=epochs)\n",
    "    return accuracy\n",
    "\n",
    "if not(os.path.isfile(path_save_optuna)):\n",
    "    study = optuna.create_study(direction='maximize', load_if_exists=True, \n",
    "                                storage=f\"sqlite:///{path_save_optuna}\", study_name=model)\n",
    "    study.optimize(objective, n_trials=200, show_progress_bar=True)\n",
    "print(50*'-.')\n",
    "print(\"Best params: \", study.best_params)\n",
    "print(\"Best value: \", study.best_value)\n",
    "print(50*'=')"
   ]
  },
  {
   "cell_type": "code",
   "execution_count": null,
   "metadata": {},
   "outputs": [],
   "source": [
    "# https://optuna.readthedocs.io/en/stable/reference/visualization/matplotlib/generated/optuna.visualization.matplotlib.contour.html\n",
    "from optuna.visualization.matplotlib import plot_contour\n",
    "\n",
    "ax = plot_contour(study, params=[\"mean\", \"std\"], target_name=\"Accuracy\")\n",
    "ax.set_title('Results for the ResNet model on the ImageNet dataset')\n",
    "fig = plt.gcf()\n",
    "fig.set_size_inches(figsize[0], figsize[1])"
   ]
  },
  {
   "cell_type": "code",
   "execution_count": null,
   "metadata": {},
   "outputs": [],
   "source": [
    "def objective(trial):\n",
    "    mean_R = trial.suggest_float('mean', -3, 3, log=False)\n",
    "    mean_G = trial.suggest_float('mean', -3, 3, log=False)\n",
    "    mean_B = trial.suggest_float('mean', -3, 3, log=False)\n",
    "    std_R = trial.suggest_float('std', 0.1, 2, log=True)\n",
    "    std_G = trial.suggest_float('std', 0.1, 2, log=True)\n",
    "    std_B = trial.suggest_float('std', 0.1, 2, log=True)\n",
    "    accuracy = main(mean_R, mean_G, mean_B, std_R, std_G, std_B, epochs=epochs)\n",
    "    return accuracy\n",
    "\n",
    "if not(os.path.isfile(path_save_optuna)):\n",
    "    study = optuna.create_study(direction='maximize', load_if_exists=True, \n",
    "                                storage=f\"sqlite:///{path_save_optuna}\", study_name=model)\n",
    "    study.optimize(objective, n_trials=200, show_progress_bar=True)\n",
    "print(50*'-.')\n",
    "print(\"Best params: \", study.best_params)\n",
    "print(\"Best value: \", study.best_value)\n",
    "print(50*'=')"
   ]
  },
  {
   "cell_type": "markdown",
   "metadata": {},
   "source": [
    "## some book keeping for the notebook"
   ]
  },
  {
   "cell_type": "code",
   "execution_count": null,
   "metadata": {},
   "outputs": [],
   "source": [
    "%load_ext watermark\n",
    "%watermark -i -h -m -v -p numpy,matplotlib,torch  -r -g -b"
   ]
  }
 ],
 "metadata": {
  "kernelspec": {
   "display_name": "Python 3 (ipykernel)",
   "language": "python",
   "name": "python3"
  },
  "language_info": {
   "codemirror_mode": {
    "name": "ipython",
    "version": 3
   },
   "file_extension": ".py",
   "mimetype": "text/x-python",
   "name": "python",
   "nbconvert_exporter": "python",
   "pygments_lexer": "ipython3",
   "version": "3.12.7"
  },
  "toc": {
   "base_numbering": 1,
   "nav_menu": {},
   "number_sections": true,
   "sideBar": true,
   "skip_h1_title": false,
   "title_cell": "Table of Contents",
   "title_sidebar": "Contents",
   "toc_cell": false,
   "toc_position": {},
   "toc_section_display": true,
   "toc_window_display": false
  }
 },
 "nbformat": 4,
 "nbformat_minor": 4
}
